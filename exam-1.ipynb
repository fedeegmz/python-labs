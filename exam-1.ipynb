{
  "cells": [
    {
      "cell_type": "markdown",
      "metadata": {
        "id": "jpN3yoobBp9b"
      },
      "source": [
        "# Parcial 1\n",
        "\n",
        "**IMPORTANTE**\n",
        "- El código que incorpores *debe* poder ejecutarse en *este* Notebook en Visual Studio Code, en caso contrario el ejercicio ***será inválido***. Por favor,  verificá que el código se ejecute sin errores (aún en el caso en que la solución no sea del todo correcta).\n",
        "- Al clicar \"Ejecutar celda\" en las celdas donde están los test deberían devolverse los resultados correctos.\n",
        "- En estos ejercicios **no está permitido** importar ninguna biblioteca.\n",
        "- **No está permitido** consultar internet. Cualquier consulta, por ejemplo el nombre de una instrucción, debe ser hecha a los profesores.\n",
        "\n",
        "**IMPORTANTE 2**\n",
        "- Es conveniente escribír las pre y post condiciones.\n",
        "- Seguí las convenciones respecto de nombres de variables, funciones y constantes.\n",
        "- Evitar la utilización de funciones sofisticadas de Python.\n",
        "\n",
        "El parcial se aprueba con el 50% resuelto correctamente y eso equivale a una nota de 4.\n"
      ]
    },
    {
      "cell_type": "markdown",
      "metadata": {
        "id": "4nTw_NBGEs3P"
      },
      "source": [
        "**Ejercicio 1 (20 %)**  \n",
        "\n",
        "Escribir la función `comprobar()` que acepta 4 números enteros y devuelve `True` si el 3 número divide a la suma de los dos primeros, y es más chico que el cuarto número ingresado caso contrario `False`.\n",
        "Por ejemplo,\n",
        "\n",
        "- `comprobar(2,4, 2, 5)` devuelve `True` ( 2 divide a la suma de 2 + 4, y es más chico que 5),\n",
        "- `comprobar(3, 2, 2, 6)` devuelve `False` ( 2 no divide a 3 + 2),  \n",
        "- `comprobar(3, 5, 4, 3)` devuelve `False`  ( 4 divide a 3 + 5, aunque 4 > 3) y\n",
        "- `comprobar(6, -1, 5, 10)` devuelve `True` ( 5 divide a 6 -1, y es más chico que 10).  \n"
      ]
    },
    {
      "cell_type": "code",
      "execution_count": null,
      "metadata": {
        "id": "MTNG_aFoLvrp"
      },
      "outputs": [],
      "source": [
        "# Definir la función comparar() en las siguiente lineas\n",
        "def comprobar(\n",
        "    x1: int,\n",
        "    x2: int,\n",
        "    x3: int,\n",
        "    x4: int\n",
        ") -> True:\n",
        "    \"\"\"\n",
        "    Precondiciones:\n",
        "        - x1, x2, x3, x4 son enteros\n",
        "    Postcondicones:\n",
        "        - se retorna un booleano\n",
        "    \"\"\"\n",
        "    assert type(x1) == int\n",
        "    assert type(x2) == int\n",
        "    assert type(x3) == int\n",
        "    assert type(x4) == int\n",
        "\n",
        "    return (x1 + x2) % x3 == 0 and x3 < x4"
      ]
    },
    {
      "cell_type": "code",
      "execution_count": null,
      "metadata": {
        "id": "BfgKj98MJ1Yo"
      },
      "outputs": [],
      "source": [
        "# Tests\n",
        "print(comprobar(2, 4, 2, 5))  # Devuelve: True  (2 divide a la suma de 2 + 4, y es más chico que 5)\n",
        "print(comprobar(3, 2, 2, 6))  # Devuelve: False (2 no divide a 3 + 2)\n",
        "print(comprobar(3, 5, 4, 3))  # Devuelve: False (4 divide a 3 + 5, aunque 4 > 3)\n",
        "print(comprobar(6, -1, 5, 10))  # Devuelve: True (5 divide a 6 -1, y es más chico que 10)"
      ]
    },
    {
      "cell_type": "markdown",
      "metadata": {
        "id": "GLGhMRHvMzv0"
      },
      "source": [
        "**Ejercicio 2 (10 %)**\n",
        "\n",
        "En criptografía, el cifrado César, también conocido como cifrado por desplazamiento, código de César o desplazamiento de César, es una de las técnicas de cifrado más simples y más usadas. Es un tipo de cifrado por sustitución en el que una letra en el texto original es reemplazada por otra letra que se encuentra un número fijo de posiciones más adelante en el alfabeto. Por ejemplo, con un desplazamiento de `3`, la `a` sería sustituida por la `d` (situada 3 lugares a la derecha de la `a`), la `b` sería reemplazada por la `e`, etc. El  alfabeto lo consideramos \"circular\": cuando termina en la `z` se empieza de nuevo con la `a`. Por ejemplo con un desplazamiento de `4` desde la  `y` obtendremos la `c` (pues tenemos `y`,`z`,`a`,`b`,`c`). Si el caracter es un espacio,  se pone el mismo espacio.\n",
        "\n",
        "  Este método debe su nombre a Julio César, que lo usaba para comunicarse con sus generales.\n",
        "\n",
        "\n",
        "Escribir la función `cifrado_cesar()` que recibe una cadena y un número `n` y devuelve dicha cadena codificada, desplazada por el número `n`. Acá supondremos que la función solo toma letras, sin ningún tipo de tilde y `n` entero positivo Por ejemplo.\n",
        "\n",
        "    cifrado_cesar('hola mundo',3)) # Devuelve 'krod pxqgr'\n",
        "    cifrado_cesar('python',5) # Devuelve 'udymts'\n",
        "    cifrado_cesar('matematica aplicada', 8) # Devuelve 'uibmuibqki ixtqkili'\n",
        "    cifrado_cesar('cifrado cesar', 15) # Devuelve 'rxugpsd rthpg'\n",
        "\n",
        "Las letras que son consideradas para este ejercicio son las siguientes 26 letras:\n",
        "\n",
        "    alfabeto = 'abcdefghijklmnopqrstuvwxyz'\n",
        "\n",
        "(la `ñ` no está).\n",
        "\n",
        "\n",
        "*Ayuda 1.* A cada letra le corresponde un  índice de la cadena `alfabeto`, por ejemplo\n",
        "\n",
        "    alfabeto[0] == 'a'\n",
        "    alfabeto[2] == 'c'\n",
        "    alfabeto[24] == 'y'\n",
        "    alfabeto[25] == 'z'\n",
        "\n",
        "*Ayuda 2.* Debe usarse el operador `%`, llamado operador módulo, para obtener el comportamiento circular. Observar que, por ejemplo\n",
        "\n",
        "    \n",
        "    alfabeto[24] == 'y'\n",
        "    alfabeto[(24 + 4) % 26] == letras[2] == 'c'\n",
        "Es decir,  el operador `%` nos sirve para describir un corrimiento en `4`.\n",
        "\n",
        "*Ayuda 3.* La instrucción  `alfabeto.find(letra)` nos dice en que ubicación se encuentra el caracter `letra`.\n",
        "\n",
        "\n",
        "       \n"
      ]
    },
    {
      "cell_type": "code",
      "execution_count": null,
      "metadata": {
        "id": "wo492U4xQq-y"
      },
      "outputs": [],
      "source": [
        "# Definir la función cifrado_cesar() en las siguiente lineas\n",
        "def cifrado_cesar(\n",
        "    to_crypt: str,\n",
        "    n: int\n",
        ") -> str:\n",
        "    \"\"\"\n",
        "    Precondicones:\n",
        "        - to_crypt es una cadena de texto\n",
        "        - n es un entero mayor a cero\n",
        "    Postcondicones:\n",
        "        - se retorna un string\n",
        "    \"\"\"\n",
        "    assert type(n) == int\n",
        "    assert n >= 1\n",
        "    output = \"\"\n",
        "    for digit in to_crypt:\n",
        "        if digit == \" \":\n",
        "            output += digit\n",
        "        elif (ord(digit) + n) > ord(\"z\"):\n",
        "            output += chr((ord(digit) + n) - ord(\"z\") + ord(\"a\") - 1)\n",
        "        else:\n",
        "            output += chr(ord(digit) + n)\n",
        "\n",
        "    return output"
      ]
    },
    {
      "cell_type": "code",
      "execution_count": null,
      "metadata": {
        "id": "hI6BOojbQt4r"
      },
      "outputs": [],
      "source": [
        "# Test\n",
        "print(cifrado_cesar('hola mundo',3)) # Devuelve 'krod pxqgr'\n",
        "print(cifrado_cesar('python',5)) # Devuelve 'udymts'\n",
        "print(cifrado_cesar('matematica aplicada', 8)) # Devuelve 'uibmuibqki ixtqkili'\n",
        "print(cifrado_cesar('cifrado cesar', 15)) # Devuelve 'rxugpsd rthpg'"
      ]
    },
    {
      "cell_type": "markdown",
      "metadata": {
        "id": "lgQ-gBsqDHRE"
      },
      "source": [
        "**Ejercicio 3 (25%)**  \n",
        "\n",
        "Escribir en la siguiente celda de código una función que devuelve los valores de la siguiente función:\n",
        "$$\n",
        "f(0) = 1,  \\qquad f(n) = 2\\cdot f(n-1) + n^2 \\quad \\text{si $n\\ge 1$}\n",
        "$$"
      ]
    },
    {
      "cell_type": "code",
      "execution_count": null,
      "metadata": {
        "id": "fBsYUsyvEix1"
      },
      "outputs": [],
      "source": [
        "# Definir la función f() en las siguiente lineas\n",
        "def f(n: int):\n",
        "    \"\"\"\n",
        "    Precondiciones:\n",
        "        - n es un entero mayor o igual a 0\n",
        "    Postcondiciones:\n",
        "        - se retorna un entero\n",
        "    \"\"\"\n",
        "    assert n >= 0\n",
        "\n",
        "    if n == 0:\n",
        "        return 1\n",
        "\n",
        "    return 2 * f(n - 1) + n**2"
      ]
    },
    {
      "cell_type": "code",
      "execution_count": null,
      "metadata": {
        "id": "jsB-wXj9Bsi7"
      },
      "outputs": [],
      "source": [
        "# Tests\n",
        "print(f(0))  # Output esperado: 1\n",
        "print(f(1))  # Output esperado: 2*1 + 1**2 = 3\n",
        "print(f(2))  # Output esperado: 2*3 + 2**2 = 10\n",
        "print(f(3))  # Output esperado: 2*10 + 3**2 = 29\n",
        "print(f(100))  # Output esperado: 2*10 + 3**2 = 873554201597605810476922427226\n"
      ]
    },
    {
      "cell_type": "markdown",
      "metadata": {
        "id": "OHfkTrMaRl8K"
      },
      "source": []
    },
    {
      "cell_type": "markdown",
      "metadata": {
        "id": "Mcs-GAo4RB-0"
      },
      "source": [
        "**Ejercicio 4 (25%)**\n",
        "\n",
        "Definir la función `suma_digitos()`que recibe un número entero positivo y devuelve la suma de sus digitos. Por ejemplo:\n",
        "- `suma_digitos(123)` Devuelve 6, ( 1 + 2 + 3),\n",
        "- `suma_digitos(456)` Devuelve 15, ( 4 + 5 + 6),\n",
        "- `suma_digitos(123456789)` Devuelve 45, ( 1 +2 + 3 +4 + 5 + 6 + 7 + 8 + 9),  "
      ]
    },
    {
      "cell_type": "code",
      "execution_count": null,
      "metadata": {
        "id": "zOmX5SfJEUsF"
      },
      "outputs": [],
      "source": [
        "# Definir la función suma_digitos() en las siguiente lineas\n",
        "def suma_digitos(x: int):\n",
        "    \"\"\"\n",
        "    Precondiciones:\n",
        "        - x es un entero\n",
        "    Postcondiciones:\n",
        "        - se retorna un entero\n",
        "    \"\"\"\n",
        "    assert type(x) == int\n",
        "\n",
        "    int_to_str = str(x)\n",
        "    sum = 0\n",
        "    for digit in int_to_str:\n",
        "        sum += int(digit)\n",
        "\n",
        "    return sum"
      ]
    },
    {
      "cell_type": "code",
      "execution_count": null,
      "metadata": {
        "id": "4eTySEUVTMXo"
      },
      "outputs": [],
      "source": [
        "# Test\n",
        "print(suma_digitos(123)) # Devuelve 6, ( 1 + 2 + 3),\n",
        "print(suma_digitos(456)) # Devuelve 15, ( 4 + 5 + 6),\n",
        "print(suma_digitos(123456789)) # Devuelve 45, ( 1 +2 + 3 +4 + 5 + 6 + 7 + 8 + 9),"
      ]
    },
    {
      "cell_type": "markdown",
      "metadata": {
        "id": "Nfc8c2arTnre"
      },
      "source": [
        "**Ejercicio 5 (20%)**\n",
        "\n",
        "En astrología las constelaciones del zodiaco definen los doce signos zodiacales. Zona o franja celeste por cuyo centro pasa la elíptica u órbita que describe la Tierra en su movimiento alrededor del Sol y que contiene las doce constelaciones o signos. Los cuales son:\n",
        "\n",
        "- Aries: 21 de marzo - 20 de abril.\n",
        "\n",
        "- Tauro: 21 de abril - 20 de mayo.\n",
        "\n",
        "- Géminis: 21 de mayo - 21 de junio.\n",
        "\n",
        "- Cáncer: 22 de junio - 21 de julio.\n",
        "\n",
        "- Leo: 22 de julio - 23 de agosto.\n",
        "\n",
        "- Virgo: 24 de agosto - 23 de septiembre.\n",
        "\n",
        "- Libra: 24 de septiembre - 22 de octubre.\n",
        "\n",
        "- Escorpio: 23 de octubre - 22 de noviembre.\n",
        "\n",
        "- Sagitario: 23 de noviembre - 21 de diciembre.\n",
        "\n",
        "- Capricornio: 22 de diciembre - 20 de enero.\n",
        "\n",
        "- Acuario: 21 de enero - 19 de febrero.\n",
        "\n",
        "- Piscis: 20 de febrero - 20 de marzo.\n",
        "\n",
        "Definir la función\n",
        "\n",
        "        zodiaco(dd: int, mm: int, aaaa: int) -> str\n",
        "\n",
        "que recibe `dd`, `mm` , `aaaa`, enteros tales que:\n",
        "\n",
        "- `0 < dd < 32`.\n",
        "\n",
        "- `0 < mm < 13`.\n",
        "\n",
        "- `0 < aaaa`.\n",
        "\n",
        "Y devuelve el signo del zodiaco correspondiente a los datos ingresados. En este ejercicio no tendremos en cuenta los años bisiestos, es decir todos los años tienen 365 días. agregar un `assert` que verifique que se cumpla la pre condición."
      ]
    },
    {
      "cell_type": "code",
      "execution_count": null,
      "metadata": {
        "id": "J9Bb14wkVCJg"
      },
      "outputs": [],
      "source": [
        "# Definir la función zodiaco en las siguiente lineas\n",
        "def zodiaco(\n",
        "    dd: int,\n",
        "    mm: int,\n",
        "    aaaa: int\n",
        ")-> str:\n",
        "    \"\"\"\n",
        "    Precondiciones:\n",
        "        - dd es un entero ente [0, 31]\n",
        "        - mm es un entero entre [0, 12]\n",
        "        - aaaa es un entero mayor a 0\n",
        "    Postcondiciones\n",
        "        - se retorna un str\n",
        "    \"\"\"\n",
        "    assert type(dd) == int\n",
        "    assert dd >= 0  and dd <= 31\n",
        "    assert type(mm) == int\n",
        "    assert mm >= 0 and mm <= 12\n",
        "    assert type(aaaa) == int\n",
        "    assert aaaa >= 0\n",
        "\n",
        "    if (dd >= 22 and mm == 12) or (dd <= 20 and mm == 1):\n",
        "        return \"Capricornio\"\n",
        "    elif (dd >= 21 and mm == 1) or (dd <= 19 and mm == 2):\n",
        "        return \"Acuario\"\n",
        "    elif (dd >= 20 and mm == 2) or (dd <= 20 and mm == 3):\n",
        "        return \"Piscis\"\n",
        "    elif (dd >= 21 and mm == 3) or (dd <= 20 and mm == 4):\n",
        "        return \"Aries\"\n",
        "    elif (dd >= 21 and mm == 4) or (dd <= 20 and mm == 5):\n",
        "        return \"Tauro\"\n",
        "    elif (dd >= 21 and mm == 5) or (dd <= 21 and mm == 6):\n",
        "        return \"Géminis\"\n",
        "    elif (dd >= 22 and mm == 6) or (dd <= 21 and mm == 7):\n",
        "        return \"Cáncer\"\n",
        "    elif (dd >= 22 and mm == 7) or (dd <= 23 and mm == 8):\n",
        "        return \"Leo\"\n",
        "    elif (dd >= 24 and mm == 8) or (dd <= 23 and mm == 9):\n",
        "        return \"Virgo\"\n",
        "    elif (dd >= 24 and mm == 9) or (dd <= 22 and mm == 10):\n",
        "        return \"Libra\"\n",
        "    elif (dd >= 23 and mm == 10) or (dd <= 22 and mm == 11):\n",
        "        return \"Escorpio\"\n",
        "    elif (dd >= 23 and mm == 11) or (dd <= 21 and mm == 12):\n",
        "        return \"Sagitario\"\n",
        "    else:\n",
        "        return \"ERROR\""
      ]
    },
    {
      "cell_type": "code",
      "execution_count": null,
      "metadata": {
        "id": "dAYYv5MhTTQn"
      },
      "outputs": [],
      "source": [
        "# Tests\n",
        "print(zodiaco(11,8,1948)) # Leo\n",
        "print(zodiaco(22,12,1978)) # Capricornio\n",
        "print(zodiaco(25,2,1983)) # Piscis\n",
        "print(zodiaco(21,6,1991)) # Géminis\n",
        "print(zodiaco(3,10,2020)) # Libra\n"
      ]
    }
  ],
  "metadata": {
    "colab": {
      "provenance": []
    },
    "kernelspec": {
      "display_name": "Python 3",
      "name": "python3"
    },
    "language_info": {
      "codemirror_mode": {
        "name": "ipython",
        "version": 3
      },
      "file_extension": ".py",
      "mimetype": "text/x-python",
      "name": "python",
      "nbconvert_exporter": "python",
      "pygments_lexer": "ipython3",
      "version": "3.8.10"
    }
  },
  "nbformat": 4,
  "nbformat_minor": 0
}