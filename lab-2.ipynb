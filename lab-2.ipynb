{
  "cells": [
    {
      "cell_type": "markdown",
      "metadata": {
        "id": "4W0vD-9C3kmW"
      },
      "source": [
        "\n",
        "\n",
        "**Laboratorio Nº2**\n",
        "\n",
        "Este es el segundo laboratorio de Algoritmo y programación.\n",
        "\n",
        "***IMPORTANTE**\n",
        "- La tarea debe entregarse en este archivo, completando las celdas de código correspondientes.\n",
        "- El código que ustedes incorporen *debe* poder ejecutarse en *este* Colab, en caso contrario el ejercicio ***será inválido***. Por favor,  verifiquen que el código se ejecute sin errores (aunque quizás la solución no sea del todo correcta).\n",
        "- Al clicar \"Ejecutar celda\" (el triangulito blanco) en las celdas donde están los test deberían devolverse los resultados correctos.\n",
        "\n",
        "**IMPORTANTE 2**\n",
        "- En las dos funciones poné precondicines y postcondiciones\n",
        "- No olvides organizar tu programa incluyendo comentarios, espacios y sangrías de manera adecuada.\n",
        "- Seguí las convenciones respecto de nombres de variables, funciones y constantes.\n",
        "- Evitar la utilización de funciones sofisticadas de Python.\n",
        "\n",
        "\n"
      ]
    },
    {
      "cell_type": "markdown",
      "metadata": {
        "id": "x4QsXOa9X1eY"
      },
      "source": [
        "**Ejercicio 1**\n",
        "\n",
        "Definir la función `permutar()` que reciba tres parámetros enteros y que devuelva los tres parámetros poniendo el de valor intermedio al comienzo, luego el de valor más alto y finalmente el de valor más bajo."
      ]
    },
    {
      "cell_type": "code",
      "execution_count": 49,
      "metadata": {
        "id": "sTJwZKh1Z6ZK"
      },
      "outputs": [],
      "source": [
        "def permutar(\n",
        "    x: int,\n",
        "    y: int,\n",
        "    z: int\n",
        ") -> tuple:\n",
        "    \"\"\"\n",
        "    Precondiciones:\n",
        "        - x debe ser entero\n",
        "        - y debe ser enetro\n",
        "        - z debe ser entero\n",
        "    Postcondiciones:\n",
        "        - se retorna una tupla\n",
        "    \"\"\"\n",
        "    assert type(x) == int\n",
        "    assert type(y) == int\n",
        "    assert type(z) == int\n",
        "\n",
        "    # crea una lista con los valores pasados por parametro\n",
        "    lista = [x, y, z]\n",
        "    # ordena la lista de manera descendente con la funcion sort()\n",
        "    lista.sort(reverse=True)\n",
        "    \n",
        "    # retorna en el orden especificado\n",
        "    return (lista[1], lista[0], lista[2])"
      ]
    },
    {
      "cell_type": "code",
      "execution_count": null,
      "metadata": {
        "id": "ioDCqCVAZ6hq"
      },
      "outputs": [],
      "source": [
        "print(permutar(1, 3, 5)) # imprime (3, 5, 1)\n",
        "print(permutar(3, 5, 1)) # imprime (3, 5, 1)\n",
        "print(permutar(5, 1, 3)) # imprime (3, 5, 1)\n",
        "print(permutar(3, 1, 5)) # imprime (3, 5, 1)\n",
        "print(permutar(1, 5, 3)) # imprime (3, 5, 1)\n",
        "print(permutar(5, 3, 1)) # imprime (3, 5, 1)\n",
        "print(permutar(1, -1, 1)) # imprime (1, 1, -1)\n",
        "print(permutar(1, 1, 1)) # imprime (1, 1, 1)"
      ]
    },
    {
      "cell_type": "markdown",
      "metadata": {
        "id": "ERESenSg4c3Y"
      },
      "source": [
        "**Ejercicio 2**\n",
        "\n",
        "Definir la función\n",
        "\n",
        "        promedio_pot2(n: int) -> float\n",
        "\n",
        "que devuelve el promedio de los números entre $1$ y $n$ elevados al cuadrado. Agregar un assert que verifique que el número ingresado es un entero positivo.     \n",
        "\n",
        "\n",
        "_Ejemplos._\n",
        "\n",
        "- Si ejecuto `promedio_pot2(1)` la función devuelve `1`   \n",
        "- Si ejecuto `promedio_pot2(5)` la función devuelve `(1**2 + 2**2 + 3**2 + 4**2 + 5**2)/5 = 11`   \n",
        "- Si ejecuto `promedio_pot2(10)` la función devuelve `38.5`\n"
      ]
    },
    {
      "cell_type": "code",
      "execution_count": 26,
      "metadata": {
        "id": "oIwN9bwv4Ogo"
      },
      "outputs": [],
      "source": [
        "def promedio_pot2(n: int) -> float:\n",
        "    \"\"\"\n",
        "    Precondiciones:\n",
        "        - n debe ser entero: en caso contrario se eleva un AsertionError.\n",
        "        - n debe ser mayor a cero.\n",
        "    Postcondiciones:\n",
        "        - se retorna un float\n",
        "    \"\"\"\n",
        "    assert type(n) == int\n",
        "    assert n > 0\n",
        "\n",
        "    suma = 0\n",
        "    for i in range(1, n + 1):\n",
        "        suma += i**2\n",
        "    \n",
        "    to_return = suma / n\n",
        "    assert type(to_return) == float\n",
        "    return to_return"
      ]
    },
    {
      "cell_type": "code",
      "execution_count": null,
      "metadata": {
        "id": "uWcsJa-C7lf4"
      },
      "outputs": [],
      "source": [
        "# Tests\n",
        "print(promedio_pot2(1)) # debe devolver 1.0\n",
        "print(promedio_pot2(6)) # debe devolver 15.16666666666666\n",
        "print(promedio_pot2(7)) # debe devolver 20.0\n",
        "print(promedio_pot2(10)) # debe devolver 38.5\n",
        "print(promedio_pot2(25)) # debe devolver 221.0\n",
        "print(promedio_pot2(100)) # debe devolver 3383.5"
      ]
    },
    {
      "cell_type": "markdown",
      "metadata": {
        "id": "KbJfmzjc8Vnc"
      },
      "source": [
        "**Ejercicio 3**\n",
        "Definir la función\n",
        "\n",
        "        menos_par(n: int) -> int\n",
        "\n",
        "que devuelve `n` menos los números pares menores a `n`.\n",
        "\n",
        "_Ejemplos._\n",
        "\n",
        "- Si ejecuto `menos_par(1)` la función devuelve `1`   \n",
        "- Si ejecuto `menos_par(6)` la función devuelve `6-4-2 = 0`   \n",
        "- Si ejecuto `menos_par(10)` la función devuelve `10-8-6-4-2 = -10`\n"
      ]
    },
    {
      "cell_type": "code",
      "execution_count": 25,
      "metadata": {
        "id": "ymPHPdyQ61Hd"
      },
      "outputs": [],
      "source": [
        "def menos_par(n: int) -> int:\n",
        "    \"\"\"\n",
        "    Precondiciones:\n",
        "        - n debe ser entero.\n",
        "        - n debe ser mayor que cero\n",
        "    Postcondiciones:\n",
        "        - se retorna un entero.\n",
        "    \"\"\"\n",
        "    assert type(n) == int\n",
        "    assert n > 0\n",
        "    \n",
        "    for i in range(2, n):\n",
        "        if i % 2 == 0:\n",
        "            n -= i\n",
        "    \n",
        "    assert type(n) == int\n",
        "    return n"
      ]
    },
    {
      "cell_type": "code",
      "execution_count": null,
      "metadata": {
        "id": "FZS538AY--Jc"
      },
      "outputs": [],
      "source": [
        "# Tests\n",
        "print(menos_par(1)) # debe devolver 1\n",
        "print(menos_par(8)) # debe devolver -4\n",
        "print(menos_par(9)) # debe devolver -11\n",
        "print(menos_par(10)) # debe devolver -10\n",
        "print(menos_par(25)) # debe devolver -131\n",
        "print(menos_par(100)) # debe devolver -2350"
      ]
    },
    {
      "cell_type": "code",
      "execution_count": null,
      "metadata": {
        "id": "hXkmdqZKCHoH"
      },
      "outputs": [],
      "source": [
        "def is_primo(n: int):\n",
        "    \"\"\"\n",
        "    Precondiciones:\n",
        "        - n debe ser entero.\n",
        "        - n debe ser mayor a cero.\n",
        "    \"\"\"\n",
        "    assert type(n) == int\n",
        "    assert n > 0\n",
        "\n",
        "    if n == 1:\n",
        "        return True\n",
        "    \n",
        "    for i in range(2, n +1):\n",
        "        if n % i == 0 and i != 1 and i != n:\n",
        "            return False\n",
        "    \n",
        "    return True\n",
        "\n",
        "\n",
        "def producto_primos(n: int):\n",
        "    \"\"\"\n",
        "    Precondiciones:\n",
        "        - n debe ser entero.\n",
        "        - n debe ser mayor a cero.\n",
        "    \"\"\"\n",
        "    assert type(n) == int\n",
        "    assert n > 0\n",
        "\n",
        "    productoria = 1\n",
        "\n",
        "    for i in range(1, n):\n",
        "        if is_primo(i):\n",
        "            productoria *= i\n",
        "            \n",
        "    return productoria\n",
        "\n",
        "\n",
        "\n",
        "# Ejemplo de uso\n",
        "print(producto_primos(10))  # Output esperado: 2 * 3 * 5 * 7 = 210\n",
        "print(producto_primos(18)) # Output esperado: 2 * 3 * 5 * 7 * 11 * 13 * 17 = 510510\n"
      ]
    },
    {
      "cell_type": "markdown",
      "metadata": {
        "id": "-Ji_Ex5HCyRc"
      },
      "source": [
        "**Ejercicio 4**\n",
        "\n",
        "Definir la función\n",
        "\n",
        "        control_hora(hora, minuto, segundo: int) -> bool\n",
        "\n",
        "que recibe los tres enteros `hora`, `minuto`, `segundo` y  devuelve `True` sii estos tres números corresponden a una hora del día. Más explícitamente devuelve `True`, sii `hora` es un entero entre 0 y 23 y  `minuto` y `segundo` son enteros entre 0 y 59. En  caso contrario,  devuelve `False`.\n",
        "\n",
        "\n",
        "_Ejemplos._\n",
        "\n",
        "    print(control_hora(11, 33, 12)) # True\n",
        "    print(control_hora(21, 0, 12)) # True\n",
        "    print(control_hora(0, 0, 12)) # True\n",
        "    print(control_hora(25, 7, 12)) # False\n",
        "    print(control_hora(22, 7, 60)) # False\n",
        "    print(control_hora(20, -7, 12)) # False\n",
        "\n",
        "_Observación._ Se considera que la función _siempre_ recibe tres números enteros. Es decir, no hay que verificar o preocuparse si `hora`, `minuto`, `segundo` son enteros:  se supone que siempre lo serán (cuando son usados en esta función).\n"
      ]
    },
    {
      "cell_type": "code",
      "execution_count": null,
      "metadata": {
        "id": "6aGJmTY2CJmY"
      },
      "outputs": [],
      "source": [
        "def control_hora(\n",
        "    hora: int,\n",
        "    minuto: int,\n",
        "    segundo: int\n",
        ") -> bool:\n",
        "    \"\"\"\n",
        "    Precondiciones:\n",
        "        - hora debe ser entero.\n",
        "        - minuto debe ser entero\n",
        "        - segundo debe ser entero\n",
        "    Postcondiciones:\n",
        "        - se retorna un booleano.\n",
        "    \"\"\"\n",
        "    assert type(hora) == int\n",
        "    assert type(minuto) == int\n",
        "    assert type(segundo) == int\n",
        "    \n",
        "    if hora in range(0, 24) and minuto in range(0, 60) and segundo in range(0, 60):\n",
        "        return True\n",
        "    return False\n",
        "\n",
        "\n",
        "print(control_hora(11, 33, 12)) # True\n",
        "print(control_hora(21, 0, 12)) # True\n",
        "print(control_hora(0, 0, 12)) # True\n",
        "print(control_hora(25, 7, 12)) # False\n",
        "print(control_hora(22, 7, 60)) # False\n",
        "print(control_hora(20, -7, 12)) # False"
      ]
    }
  ],
  "metadata": {
    "colab": {
      "provenance": []
    },
    "kernelspec": {
      "display_name": "Python 3",
      "name": "python3"
    },
    "language_info": {
      "codemirror_mode": {
        "name": "ipython",
        "version": 3
      },
      "file_extension": ".py",
      "mimetype": "text/x-python",
      "name": "python",
      "nbconvert_exporter": "python",
      "pygments_lexer": "ipython3",
      "version": "3.8.10"
    }
  },
  "nbformat": 4,
  "nbformat_minor": 0
}
