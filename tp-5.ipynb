{
  "cells": [
    {
      "cell_type": "markdown",
      "metadata": {
        "id": "tOijOcduNSRi"
      },
      "source": [
        "#Práctico 5\n",
        "##Recursión\n",
        "\n",
        "Después de hacer esta práctica te recomiendo que visites la página\n",
        "\n",
        "https://inventwithpython.com/blog/2021/10/04/22-examples-of-recursive-functions-in-python/\n",
        "\n",
        "donde hay 22 ejemplos de recursión muy interesantes desde búsqueda binaria y números combinatorios, pasando por la Torres de Hanoi, y el problema de las 8 reinas, también hay ejemplos de algoritmos recursivos para dibujar fractales.  "
      ]
    },
    {
      "cell_type": "markdown",
      "metadata": {
        "id": "0fcc1PKPV5fq"
      },
      "source": [
        "**Ejercicio 1.** Implementar las siguientes funciones con dominio en $\\mathbb N$, en forma recursiva:\n",
        "$$\n",
        "f(n) = \\left\\{\n",
        "\\begin{matrix}\n",
        "1 &\\quad\\text{si $n=1$,} \\\\\n",
        "2f(n-1) + n^2&\\quad\\text{si $n>1$.}\n",
        "\\end{matrix}    \n",
        "\\right.\n",
        "\\qquad\n",
        "g(n) = \\left\\{\n",
        "\\begin{matrix}\n",
        "-1 &\\quad\\text{si $n=1$,} \\\\\n",
        "g(n-1)^2 + 2n-3&\\quad\\text{si $n>1$.}\n",
        "\\end{matrix}    \n",
        "\\right.\n",
        "$$"
      ]
    },
    {
      "cell_type": "code",
      "execution_count": null,
      "metadata": {
        "id": "NtH99kDqcGw8"
      },
      "outputs": [],
      "source": [
        "def f(n: int):\n",
        "  if n == 1:\n",
        "    return 1\n",
        "  return 2 * f(n - 1) + n ** 2\n",
        "\n",
        "def g(n: int):\n",
        "  if n == 1:\n",
        "    return -1\n",
        "  return g(n - 1) ** 2 + 2 * n - 3\n",
        "\n",
        "print(f'f(1)={f(1)}, f(2)={f(2)}, f(3)={f(3)}')\n",
        "print(f'g(1)={g(1)}, g(2)={g(2)}, g(3)={g(3)}')"
      ]
    },
    {
      "cell_type": "markdown",
      "metadata": {
        "id": "IAP592l8XH4y"
      },
      "source": [
        "**Ejercicio 2.**\n",
        "\n",
        "1. Implementar las siguientes funciones en forma recursiva:\n",
        "$$\n",
        "\\begin{aligned}\n",
        "f(n) &= \\left\\{\n",
        "\\begin{matrix}\n",
        "1 &\\quad\\text{si $n=0$,} \\\\\n",
        "-2&\\quad\\text{si $n=1$,} \\\\\n",
        "2f(n-1) + f(n-2)^2+ n^2&\\quad\\text{si $n$ entero y $n>1$.}\n",
        "\\end{matrix}    \n",
        "\\right.\n",
        "\\\\\n",
        "\\\\\n",
        "g(n) &= \\left\\{\n",
        "\\begin{matrix}\n",
        "-1 &\\quad\\text{si $n=2$,} \\\\\n",
        "5 &\\quad\\text{si $n=3$,} \\\\\n",
        "g(n-1)^2 + 2g(n-2) + 2n-3&\\quad\\text{si $n>3$, entero.}\n",
        "\\end{matrix}    \n",
        "\\right.\n",
        "\\end{aligned}\n",
        "$$\n",
        "\n",
        "2. Calcular $f(10)$ y $g(10)$.\n"
      ]
    },
    {
      "cell_type": "code",
      "execution_count": null,
      "metadata": {
        "id": "CPfpBWCzcHev"
      },
      "outputs": [],
      "source": [
        "def f1(n: int):\n",
        "  if n == 0:\n",
        "    return 1\n",
        "  elif n == 1:\n",
        "    return -2\n",
        "  return 2 * f1(n - 1) + (f1(n - 2) ** 2) + n ** 2\n",
        "\n",
        "def g1(n: int):\n",
        "  if n == 2:\n",
        "    return -1\n",
        "  elif n == 3:\n",
        "    return 5\n",
        "  return g1(n - 1) ** 2 + 2 * g1(n - 2) + 2 * n - 3\n",
        "\n",
        "print(f'f(10)={f1(10)}')\n",
        "print(f'g(10)={g1(10)}')"
      ]
    },
    {
      "cell_type": "markdown",
      "metadata": {
        "id": "1cK5oSmfcIpm"
      },
      "source": [
        "**Ejerccio 3.** Programe una función recursiva para verificar si una palabra es un palíndromo, es decir una palabra que se lee igual de izquierda a derecha  que de derecha a izquierda.\n",
        "\n",
        "Ejemplos.\n",
        "\n",
        "1. `palindromo('ab')` devuelve `False`.\n",
        "2. `palindromo('anana')` devuelve `True`.\n",
        "3. `palindromo(aabbaa)` devuelve `True`.\n",
        "4. `palindromo(aabaa)` devuelve `True`.\n",
        "5. `palindromo('neuquen')` devuelve `True`.\n",
        "3. `palindromo('Neuquen')` devuelve `False`."
      ]
    },
    {
      "cell_type": "code",
      "execution_count": null,
      "metadata": {
        "id": "25geFW-Vlb1n"
      },
      "outputs": [],
      "source": [
        "def palindromo(string: str):\n",
        "  return string == string[::-1]\n",
        "\n",
        "print(palindromo('ab'))\n",
        "print(palindromo('anana'))\n",
        "print(palindromo('aabbaa'))\n",
        "print(palindromo('aabaa'))\n",
        "print(palindromo('neuquen'))\n",
        "print(palindromo('Neuquen'))"
      ]
    },
    {
      "cell_type": "markdown",
      "metadata": {
        "id": "BUFGeyUjl3pc"
      },
      "source": [
        "**Ejercicio 4.** Implemente las siguientes funciones recursivas.\n",
        "\n",
        "1.\n",
        "$$\n",
        "h(n) = \\left\\{\n",
        "    \\begin{matrix}\n",
        "    1 &\\quad \\text{si $n=0$,}\\\\\n",
        "    h(n-1)h(n-1) & \\text{si $n>0$.}\n",
        "    \\end{matrix}\n",
        "    \\right.\n",
        "$$\n",
        "2.\n",
        "$$\n",
        "g(x, y) = \\left\\{\n",
        "    \\begin{matrix}\n",
        "    0 &\\quad \\text{si $x=0$,}\\\\\n",
        "    0 &\\quad \\text{si $y=0$,}\\\\\n",
        "    1 + g(x-1,y-1) & \\text{si $x>0$ e $y >0$.}\n",
        "    \\end{matrix}\n",
        "    \\right.\n",
        "$$\n",
        "Observar que esta función tiene un dominio muy particular. Especificar el  dominio  y hacer un `assert` para verificar que los parámetros `x` e `y` sean correctos.\n",
        "\n",
        "3.\n",
        "$$\n",
        "f(i) = \\left\\{\n",
        "    \\begin{matrix}\n",
        "    i &\\quad \\text{si $i=0$,}\\\\\n",
        "    i + f(i-1) &\\quad \\text{si $i$ es par,}\\\\\n",
        "    f(i-1) & \\text{si $i$ es impar.}\n",
        "    \\end{matrix}\n",
        "    \\right.\n",
        "$$\n",
        "4.\n",
        "$$\n",
        "t(i) = \\left\\{\n",
        "    \\begin{matrix}\n",
        "    1 &\\quad \\text{si $i=0$,}\\\\\n",
        "    i + \\operatorname{min}(2t(\\lfloor {i/2}\\rfloor), 3t(\\lfloor i/3 \\rfloor) & \\text{si $i>0$.}\n",
        "    \\end{matrix}\n",
        "    \\right.\n",
        "$$\n",
        "Donde si $x \\in \\mathbb R$, el símbolo $\\lfloor x \\rfloor$ denota el *piso* de $x$,  es decir el mayor entero menor o igual a $x$.\n",
        "\n",
        "\n"
      ]
    },
    {
      "cell_type": "code",
      "execution_count": null,
      "metadata": {
        "id": "MPxwPvFMqGLK"
      },
      "outputs": [],
      "source": [
        "def h1(n: int):\n",
        "  if n == 0:\n",
        "    return 1\n",
        "  return h1(n - 1) ** 2\n",
        "\n",
        "def h2(x: int, y: int):\n",
        "  if x == 0 or y == 0:\n",
        "    return 0\n",
        "  return 1 + h2(x - 1, y - 1)\n",
        "\n",
        "def h3(i: int):\n",
        "  if i == 0:\n",
        "    return i\n",
        "  if i % 2 == 0:\n",
        "    return i + h3(i - 1)\n",
        "  elif i % 2 != 0:\n",
        "    return h3(i - 1)\n",
        "\n",
        "def h4(i: int):\n",
        "  from math import ceil\n",
        "  if i == 0:\n",
        "    return 1\n",
        "  return i + min(2 * h4(ceil(i / 2)), 3 * h4(ceil(i / 3)))"
      ]
    },
    {
      "cell_type": "markdown",
      "metadata": {
        "id": "nTJL2JB1Nqws"
      },
      "source": [
        "**Ejercicio 5.** $x^n$: elevar un número $x$ a una potencia entera no negativa se puede resolver con un ciclo `for` que devuelva $x \\cdot x \\cdots\\ x\\cdot  x$, $n$ veces, pero en este ejercicio se pide resolverlo definiendo una función que utiliza \"recursión en $n$\", considerando $2$ casos: cuando $n$ es $0$ y cuando $n$ es mayor que $0$. Luego de resolverlo, resulta interesante pensar en la precondición de esta función: ¿qué debería satisfacer $n$? ¿qué debería satisfacer $x$? ¿qué ocurre si ambos son $0$?"
      ]
    },
    {
      "cell_type": "code",
      "execution_count": null,
      "metadata": {
        "id": "OrPMkO7iOm0c"
      },
      "outputs": [],
      "source": [
        "def elevar(x, n):\n",
        "  if n == 0:\n",
        "    return 1\n",
        "  return x * elevar(x, n - 1)\n",
        "\n",
        "print(f'Elevar 2 a la 0 es: {elevar(2, 0)}')\n",
        "print(f'Elevar 2 a la 2 es: {elevar(2, 2)}')\n",
        "print(f'Elevar 2 a la 3 es: {elevar(2, 3)}')\n",
        "print(f'Elevar 2 a la 4 es: {elevar(2, 4)}')"
      ]
    },
    {
      "cell_type": "markdown",
      "metadata": {
        "id": "SwYfsUTROnBa"
      },
      "source": [
        "\n",
        "**Ejercicio 6.** Dados $n$ y $m$  enteros no negativos y $m$ no nulo, dar una función recursiva que divida $n$ por $m$ y devuelva su cociente (sin usar `//`, ni `/`). Los dos casos a considerar son $n < m$ (este sería el caso base) y $n \\ge m$. Nuevamente es interesante pensar en la precondición.\n",
        "*Observación.* La división es  una \"resta generalizada\", por ejemplo $23$ dividido $5$ es $4$, pues $5$ \"cabe\" cuatro veces en  $23$ o dicho de otra forma: puedo restar $4$ veces el $5$ a $23$ y lo que me queda (que es el resto) es positivo. Si resto una vez más el $5$ obtengo un número negativo.\n",
        "\n",
        "Más formalmente, si $n \\ge m$, vale la siguiente fórmula:\n",
        "$$\n",
        "n / m = (n - m) / m \\;+ \\;1,\n",
        "$$\n",
        "donde $/$ denota la división entera."
      ]
    },
    {
      "cell_type": "code",
      "execution_count": null,
      "metadata": {
        "id": "GdtXYnrVQCRL"
      },
      "outputs": [],
      "source": [
        "def division(n, m):\n",
        "    result = 0\n",
        "\n",
        "    if n < m:\n",
        "        return 0\n",
        "    if n - m >= 0:\n",
        "        return division(n - m, m) + 1\n",
        "\n",
        "# TESTS #\n",
        "assert division(15, 5) == 3, \"Error\"\n",
        "print(F\"15 / 5 = {division(15, 5)}\")\n",
        "assert division(15, 3) == 5, \"Error\"\n",
        "print(F\"15 / 3 = {division(15, 3)}\")\n",
        "assert division(3, 4) == 0, \"Error\"\n",
        "print(F\"3 / 4 = {division(3, 4)}\")\n",
        "assert division(3, 3) == 1, \"Error\"\n",
        "print(F\"3 / 3 = {division(3, 3)}\")"
      ]
    },
    {
      "cell_type": "markdown",
      "metadata": {
        "id": "VVdVm4fWO7m3"
      },
      "source": [
        "**Ejercicio 7.** Ahora una definición que devuelva  cociente y resto de una división entera. Para ello podés utilizar `return a, b` para devolver dos valores. En la llamada recursiva podés escribir `x, y = div(n, m)` para que guarde el primer valor que devuelve en `x`, el segundo en `y`.\n",
        "\n",
        "El  ejercicio es un poco engañoso respecto a como usar recursión para obtener el resto, pues el resto permanece invariante en todo el cálculo.  Es decir, el resto de $n/m$ es igual al resto de $(n-m)/m$ (división entera)."
      ]
    },
    {
      "cell_type": "code",
      "execution_count": null,
      "metadata": {
        "id": "2Q_a8mqnPzft"
      },
      "outputs": [],
      "source": []
    },
    {
      "cell_type": "markdown",
      "metadata": {
        "id": "ksxt6WstPz7n"
      },
      "source": [
        "**Ejercicio 8**. Definir una función recursiva que calcula el divisor común mayor entre dos números enteros no negativos. Hay varias formas de analizar los casos, una posibilidad sencilla es considerar 3 casos.\n",
        "- `mcd(n, 0) = mcd(0, n) = n`     si `n > 0` (caso base),\n",
        "- `mcd(n,m) = mcd(n-m,m)` si `n>= m`,\n",
        "- `mcd(n,m) = mcd(n,m-n)` si `n < m`.\n",
        "\n",
        "¿Cuál es la precondición?\n"
      ]
    },
    {
      "cell_type": "code",
      "execution_count": null,
      "metadata": {
        "id": "RDvJTgQfT74G"
      },
      "outputs": [],
      "source": []
    },
    {
      "cell_type": "markdown",
      "metadata": {
        "id": "shC-Hwm3QYpz"
      },
      "source": [
        "**Ejercicio 9.** El divisor común mayor `d` entre dos números enteros `n` y `m` satisface que existen `a` y `b` enteros tales que `d == a * n + b * m`. Definí `mcd2()` que devuelva una terna (acordate que podés escribir `return i, j, k` y `x, y, z = mcd2(n,m)`). La idea es que si `d`, `a`, `b` es el resultado de `mcd2(n,m)` entonces `d` es el divisor común mayor y `d == a * n + b * m`.\n",
        "\n",
        "Observar que los casos base son cuando `n == 0`, en ese caso el máximo común divisor es `m` y `m == 0 * n + 1 * m` (en realidad lo que multiplica a `n` podría ser cualquier número). Análogamente, cuando `m == 0`, el máximo común divisor es `n` y `n == 1 * n + 0 * m`.\n",
        "\n",
        "Para el caso recursivo tener en cuenta\n",
        "\n",
        "- si `n>= m`, entonces  `mcd(n,m) = mcd(n-m,m)` y si `mcd(n-m,m) = a0 * (n - m) + b0 * m`, entonces `mcd(n,m) = a0 * n  + (b0 - a0) * m`.\n",
        "- Análogamente, si `n < m`, entonces `mcd(n,m) = mcd(n,m-n)` y si `mcd(n,m-n) = a0 * n + b0 * (m - n)`, entonces `mcd(n,m) = (a0 -b0) * n  + b0 * m`."
      ]
    },
    {
      "cell_type": "code",
      "execution_count": null,
      "metadata": {
        "id": "Jy1Zhsxvd5KE"
      },
      "outputs": [],
      "source": []
    },
    {
      "cell_type": "markdown",
      "metadata": {
        "id": "LgWJfqnzRHm-"
      },
      "source": [
        "**Ejercicio 10.** Para $n$ entero no negativo y $m$ entero entre $0$ y $n$ se define el número combinatorio $\\displaystyle\\binom{n}{m}$ o coeficiente binomial, que es de gran importancia en matemática.\n",
        "\n",
        "Aparece en el desarrollo de la potencia del binomio:\n",
        "$$\n",
        "(a+b)^n = \\sum_{k=0}^n  \\binom{n}{k} a^{n-k}b^{k},\n",
        "$$\n",
        " de donde surge el nombre *coeficiente binomial*. También se utiliza extensivamente en el cálculo de probabilidades puesto que  $\\displaystyle\\binom{n}{m}$ mide el número de combinaciones (de allí *número combinatorio*) posibles de  $m$ elementos eligiendo libremente de un conjunto donde hay $n$ elementos.\n",
        "\n",
        "Un definición que podemos encontrar en la literatura del número combinatorio es la siguiente:\n",
        "$$\n",
        "\\binom{n}{m} = \\frac{n!}{(n-m)!m!}.\n",
        "$$\n",
        "\n",
        "El teorema de Pascal dice que ese número también se puede calcular de manera recursiva. Por la fórmula anterior $\\displaystyle\\binom{n}{0} = \\binom{n}{n} = 1$. Si $m>0$, entonces $n$ también debe serlo pues $n \\ge m$. En tal caso el teorema dice que\n",
        "$$\n",
        "\\binom{n}{m} = \\binom{n-1}{m-1} + \\binom{n-1}{m}.\n",
        "$$\n",
        "Utilizar este teorema para dar una definición recursiva del número combinatorio . ¿Cuál es la precondición?"
      ]
    },
    {
      "cell_type": "code",
      "execution_count": null,
      "metadata": {
        "id": "4q2twW1bT9N9"
      },
      "outputs": [],
      "source": []
    },
    {
      "cell_type": "markdown",
      "metadata": {
        "id": "b7G_s0YYI-w5"
      },
      "source": [
        "## Recursión sobre listas"
      ]
    },
    {
      "cell_type": "markdown",
      "metadata": {
        "id": "Tk84T6zfWFNb"
      },
      "source": [
        "**Ejercicio 11.** Dar una versión recursiva de la definición de mínimo de una lista de enteros. Si la lista es vacía devuelve `None`.\n"
      ]
    },
    {
      "cell_type": "code",
      "execution_count": 17,
      "metadata": {
        "id": "ZkfgS0YkVw56"
      },
      "outputs": [],
      "source": [
        "def minimum(integer_list: list[int]):\n",
        "    if len(integer_list) == 0:\n",
        "        return None\n",
        "    elif len(integer_list) == 1:\n",
        "        return integer_list[0]\n",
        "    \n",
        "    return min(integer_list[0], minimum(integer_list[1:]))\n",
        "\n",
        "\n",
        "# TESTS #\n",
        "assert not minimum([]), \"Error\"\n",
        "assert minimum([3, 5, 1, 9]) == 1, \"Error\"\n",
        "assert minimum([3]) == 3, f\"Error\"\n",
        "assert minimum([3, 5, 9, 3, 3, 10]) == 3, \"Error\""
      ]
    },
    {
      "cell_type": "markdown",
      "metadata": {
        "id": "NpoaOv7bWY_u"
      },
      "source": [
        "**Ejercicio 12.** Dar una versión recursiva de la definición de la función `son_todos_primos()` de una lista. Debe hacerse una función auxiliar  `es_primo()` (que puede ser recursiva o no) que indique si un número es primo.\n"
      ]
    },
    {
      "cell_type": "code",
      "execution_count": 41,
      "metadata": {
        "id": "CqF64FepWURS"
      },
      "outputs": [],
      "source": [
        "def es_primo(p: int):\n",
        "    if p <= 1:\n",
        "        return False\n",
        "    \n",
        "    if p != 2 and p % 2 == 0:\n",
        "        return False\n",
        "    for d in range(3, int(p ** 1/2), 2):\n",
        "        if p % d == 0:\n",
        "            return False\n",
        "    return True\n",
        "\n",
        "\n",
        "# TESTS #\n",
        "assert es_primo(7), \"Error\"\n",
        "assert not es_primo(1), \"Error\"\n",
        "assert es_primo(2), \"Error\"\n",
        "assert es_primo(3), \"Error\"\n",
        "assert not es_primo(27), \"Error\"\n",
        "assert es_primo(10007), \"Error\"\n",
        "assert es_primo(1000000007), \"Error\""
      ]
    },
    {
      "cell_type": "code",
      "execution_count": 44,
      "metadata": {},
      "outputs": [],
      "source": [
        "def son_todos_primos(integer_list: list[int]):\n",
        "    if len(integer_list) == 0:\n",
        "        return False\n",
        "    elif len(integer_list) == 1:\n",
        "        if es_primo(integer_list[0]):\n",
        "            return True\n",
        "        return False\n",
        "\n",
        "    \n",
        "    if es_primo(integer_list[0]) and son_todos_primos(integer_list[1:]):\n",
        "        return True\n",
        "    return False\n",
        "\n",
        "\n",
        "# TESTS #\n",
        "assert son_todos_primos([2, 3, 5, 7, 11]), \"Error\"\n",
        "assert son_todos_primos([2, 3, 5, 7, 11, 10007]), \"Error\"\n",
        "assert not son_todos_primos([2, 3, 5, 7, 11, 27]), \"Error\"\n",
        "assert not son_todos_primos([1, 3, 1, 5, 7]), \"Error\""
      ]
    },
    {
      "cell_type": "markdown",
      "metadata": {
        "id": "ASeyITVMWckn"
      },
      "source": [
        "**Ejercicio 13.** En una versión de la búsqueda lineal de un elemento en una lista se compara el elemento buscado  secuencialmente con cada elemento de la lista y se continúa hasta que se lo encuentra, en ese caso se devuelve `True`. Si no se encuentra ninguna coincidencia se devuelve `False`.\n",
        "\n",
        "Una implementación iterativa de búsqueda lineal es la siguiente:"
      ]
    },
    {
      "cell_type": "code",
      "execution_count": 45,
      "metadata": {
        "id": "bJFwRrYSWc3S"
      },
      "outputs": [],
      "source": [
        "def busqueda_lineal(elem, lista):\n",
        "    for i in range(len(lista)):\n",
        "        if elem == lista[i]:\n",
        "            return True\n",
        "    return False"
      ]
    },
    {
      "cell_type": "markdown",
      "metadata": {
        "id": "koifSz_ofVat"
      },
      "source": [
        "Implementar búqueda lineal de manera recursiva."
      ]
    },
    {
      "cell_type": "code",
      "execution_count": 59,
      "metadata": {
        "id": "fKrzbizFfddR"
      },
      "outputs": [],
      "source": [
        "def busqueda_lineal_recursiva(elem, lista: list):\n",
        "    try:\n",
        "        if elem == lista[0]:\n",
        "            return True\n",
        "        return busqueda_lineal_recursiva(elem, lista[1:])\n",
        "    except IndexError:\n",
        "        return False\n",
        "\n",
        "\n",
        "# TESTS #\n",
        "assert not busqueda_lineal_recursiva(2, []), \"Error\"\n",
        "assert busqueda_lineal_recursiva(2, [2]), \"Error\"\n",
        "assert busqueda_lineal_recursiva(2, [1, 2, 3, 4, 5]), \"Error\"\n",
        "assert busqueda_lineal_recursiva(5, [1, 2, 3, 4, 5]), \"Error\"\n",
        "assert not busqueda_lineal_recursiva(0, [1, 2, 3, 4, 5]), \"Error\"\n",
        "assert not busqueda_lineal_recursiva(\"j\", [1, 2, 3, 4, 5]), \"Error\""
      ]
    },
    {
      "cell_type": "markdown",
      "metadata": {
        "id": "xMfyu1Lz-gNv"
      },
      "source": [
        "**Ejercicio 14.** Una versión más avanzada de búsqueda lineal devuelve un entero: si la primera vez que aparece el elemento en la lista se encuentra en la posición `k`, devuelve `k`. Si el elemento no se encuentra en la lista entonces devuelve  `-1`.\n",
        "\n",
        "Implementar este algoritmo. Debe tenerse en cuenta que se debe implementar una función  `busqueda_lineal_rec2(elem, lista: list, indice: int)` que recibe tres parámetros, la lista no cambia a lo largo de la recursión y si `indice < len(lista)` devuelve la posición de la primera ocurrencia de `elem` desde `lista[indice]` hasta el final."
      ]
    },
    {
      "cell_type": "code",
      "execution_count": 65,
      "metadata": {
        "id": "NwYQAPGuPgl3"
      },
      "outputs": [],
      "source": [
        "def busqueda_lineal_recursiva_2(\n",
        "    elem,\n",
        "    lista: list,\n",
        "    index: int = 0\n",
        "):\n",
        "    assert index >= 0, \"Error: invalid index\"\n",
        "\n",
        "    try:\n",
        "        if elem == lista[index]:\n",
        "            return index\n",
        "        return busqueda_lineal_recursiva_2(elem, lista, index + 1)\n",
        "    except IndexError:\n",
        "        return -1\n",
        "\n",
        "\n",
        "# TESTS #\n",
        "assert busqueda_lineal_recursiva_2(2, []) == -1, \"Error\"\n",
        "assert busqueda_lineal_recursiva_2(2, [2]) == 0, \"Error\"\n",
        "assert busqueda_lineal_recursiva_2(2, [1, 2, 3, 4, 5]) == 1, \"Error\"\n",
        "assert busqueda_lineal_recursiva_2(5, [1, 2, 3, 4, 5], 2) == 4, \"Error\"\n",
        "assert busqueda_lineal_recursiva_2(0, [1, 2, 3, 4, 5]) == -1, \"Error\"\n",
        "assert busqueda_lineal_recursiva_2(\"j\", [1, 2, 3, 4, 5]) == -1, \"Error\"\n",
        "    "
      ]
    },
    {
      "cell_type": "markdown",
      "metadata": {
        "id": "CMOWbJ0vWihn"
      },
      "source": [
        "**Ejercicio 15.**\n",
        "\n",
        "La búsqueda binaria es el otro método de búsqueda habitual para una lista de valores ordenada. La búsqueda binaria devuelve la posición en la lista del elemento buscado y en caso de que el elemento no se encuentre devuelve -1. Si el elemento se encuentra en varias posiciones, devuelve alguna de ellas. La búsqueda binaria es mucho más rápida que la búsqueda lineal, pero para que funcione los elementos de la lista deben estar ya ordenados.\n",
        "\n",
        "Supongamos que la lista está en orden ascendente. Una búsqueda binaria compara primero el elemento buscado con el elemento situado en el centro de la lista. Considere los tres casos siguientes:\n",
        "\n",
        "- Si la clave es menor que el elemento de la mitad de la lista, hay que seguir buscando la clave sólo en la primera mitad de la lista.\n",
        "- Si la clave es igual al elemento central de la lista, la búsqueda termina con una coincidencia.\n",
        "- Si la clave es mayor que el elemento central de la lista, hay que seguir buscando la clave sólo en la segunda mitad de la lista.\n",
        "\n",
        "Dar una versión recursiva de la búsqueda binaria: debe llevar dos parámetros adicionales que indican entre cuáles posiciones de la lista se está buscando. Es decir la signatura de la función debe ser algo así:\n",
        "```\n",
        "def busqueda_binaria(elem, lista, izq, der)\n",
        "```\n",
        "y para obtener el resultado deseado debemos ejecutar:\n",
        "```\n",
        "def busqueda_binaria(elem, lista, 0, len(lista))\n",
        "```\n",
        "\n",
        "*Ejemplos.*\n",
        "```\n",
        "busqueda_binaria(13, [1, 4, 8, 11, 13, 16, 19, 19, 19, 21], 0, 9)\n",
        "```\n",
        "devuelve `4`.\n",
        "```\n",
        "busqueda_binaria(19, [1, 4, 8, 11, 13, 16, 19, 19, 19, 21], 0, 9)\n",
        "```\n",
        "devuelve `7`. Observar que `7` es la posición de la segunda ocurrencia de `19`.\n",
        "```\n",
        "busqueda_binaria(5, [1, 4, 8, 11, 13, 16, 19, 19, 21], 0, 8)\n",
        "```\n",
        "devuelve `-1`.\n",
        "\n",
        "**Otros ejemplos**\n",
        "1. `busqueda_binaria(19, [1, 4, 8, 11, 13, 16, 19, 19, 19, 21], 0, 6)` devuelve `6`.\n",
        "2. `busqueda_binaria(13, [1, 4, 8, 11, 13, 16, 19, 19, 19, 21], 2, 6)` devuelve `4`.\n",
        "2. `busqueda_binaria(13, [1, 4, 8, 11, 13, 16, 19, 19, 19, 21], 5, 8)` devuelve `-1`."
      ]
    },
    {
      "cell_type": "code",
      "execution_count": 88,
      "metadata": {
        "id": "Gbk95mHdWit8"
      },
      "outputs": [],
      "source": [
        "def busqueda_binaria(\n",
        "    elem,\n",
        "    lista: list,\n",
        "    j,\n",
        "    k\n",
        "):\n",
        "    try:\n",
        "        if j > k:\n",
        "            raise IndexError\n",
        "\n",
        "        half = j + ((k - j) // 2)\n",
        "        if elem == lista[half]:\n",
        "            return half\n",
        "        elif elem == lista[j]:\n",
        "            return j\n",
        "        elif elem == lista[k]:\n",
        "            return k\n",
        "        elif elem < lista[half]:\n",
        "            return busqueda_binaria(elem, lista, j, half - 1)\n",
        "        elif elem > lista[half]:\n",
        "            return busqueda_binaria(elem, lista, half + 1, k)\n",
        "    except IndexError as err:\n",
        "        return -1\n",
        "\n",
        "\n",
        "# TESTS #\n",
        "assert busqueda_binaria(2, [], 0, 0) == -1, \"Error\"\n",
        "assert busqueda_binaria(2, [2], 0 , 0) == 0, \"Error\"\n",
        "assert busqueda_binaria(1, [1, 2, 3, 4, 5], 0, 4) == 0, \"Error\"\n",
        "assert busqueda_binaria(2, [1, 2, 3, 4, 5], 0, 4) == 1, \"Error\"\n",
        "assert busqueda_binaria(5, [1, 2, 3, 4, 5], 0, 4) == 4, \"Error\"\n",
        "assert busqueda_binaria(0, [1, 2, 3, 4, 5], 0, 4) == -1, \"Error\"\n",
        "assert busqueda_binaria(19, [1, 4, 8, 11, 13, 16, 19, 19, 19, 21], 0, 6) == 6, \"Error\"\n",
        "assert busqueda_binaria(13, [1, 4, 8, 11, 13, 16, 19, 19, 19, 21], 2, 6) == 4, \"Error\"\n",
        "assert busqueda_binaria(13, [1, 4, 8, 11, 13, 16, 19, 19, 19, 21], 5, 8) == -1, \"Error\""
      ]
    }
  ],
  "metadata": {
    "colab": {
      "provenance": []
    },
    "kernelspec": {
      "display_name": "Python 3",
      "name": "python3"
    },
    "language_info": {
      "codemirror_mode": {
        "name": "ipython",
        "version": 3
      },
      "file_extension": ".py",
      "mimetype": "text/x-python",
      "name": "python",
      "nbconvert_exporter": "python",
      "pygments_lexer": "ipython3",
      "version": "3.10.12"
    }
  },
  "nbformat": 4,
  "nbformat_minor": 0
}
