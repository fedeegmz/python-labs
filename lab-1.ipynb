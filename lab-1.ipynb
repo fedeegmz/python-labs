{
  "nbformat": 4,
  "nbformat_minor": 0,
  "metadata": {
    "colab": {
      "provenance": []
    },
    "kernelspec": {
      "name": "python3",
      "display_name": "Python 3"
    },
    "language_info": {
      "name": "python"
    }
  },
  "cells": [
    {
      "cell_type": "markdown",
      "source": [
        "**Laboratorio Nº1**\n",
        "\n",
        "Este es el primer laboratorio de Algoritmo y programación.\n",
        "\n",
        "**Importante 1**\n",
        "- El laboratorio debe entregarse en este archivo, completando las celdas de código correspondientes.\n",
        "- Al clicar \"Ejecutar celda\" (el triangulito blanco) en la celda correspondiente se debería dibujar lo solicitado en el ejercicio.\n",
        "\n",
        "**Importante 2**\n",
        "- No olvides organizar tu programa incluyendo comentarios, espacios y sangrías de manera adecuada.\n",
        "- Evitar la utilización de funciones sofisticadas de Python.\n",
        "\n",
        "**IMPORTANTE**\n",
        "\n",
        "- No pueden salir de esta pantalla si abren otra pantalla se anula la prueba y está desaprobada.\n",
        "\n",
        "```\n",
        "# Esto tiene formato de código\n",
        "```\n",
        "\n"
      ],
      "metadata": {
        "id": "nA811iIYpciY"
      }
    },
    {
      "cell_type": "markdown",
      "source": [
        "Antes de comenzar con tus soluciones debés instalar ColabTurtle e importar sus funciones:"
      ],
      "metadata": {
        "id": "pcxaAg9MqiD-"
      }
    },
    {
      "cell_type": "code",
      "source": [
        "!pip3 install ColabTurtle\n",
        "from ColabTurtle.Turtle import *"
      ],
      "metadata": {
        "id": "pEO8erXWqZzw"
      },
      "execution_count": null,
      "outputs": []
    },
    {
      "cell_type": "markdown",
      "source": [
        "**Ejercicio 1**\n",
        "\n",
        "Definir la función `pizarra_nueva` que inicialize la tortuga, que configure el color del fondo  a `blanco` y el color del lapiz a `negro`. La velocidad de la tortuga debe ser `9`.\n",
        "\n"
      ],
      "metadata": {
        "id": "KscivD2rssm2"
      }
    },
    {
      "cell_type": "code",
      "source": [
        "def pizarra_nueva():\n",
        "  initializeTurtle()\n",
        "  bgcolor(\"white\")\n",
        "  color(\"black\")"
      ],
      "metadata": {
        "id": "FGw9sZDwpi9Q"
      },
      "execution_count": null,
      "outputs": []
    },
    {
      "cell_type": "markdown",
      "source": [
        "**Ejercicio 2**\n",
        "\n",
        "-Definir la función `dibujar_triangulo()` que acepta un parámetro `float` que dibuje un triangulo equilatero cuyos lados tienen longitud lo que indica el parámetro. Hacer la función utilizando un ciclo `for`.\n",
        "\n",
        "-Definir la función `dibujar_triangulo_2(lado, angulo)` que dibuje un triangulo equilatero cuyos lados tienen longitud `lado`  y unos de sus vértices apunta hacia `angulo`. Hacer la función utilizando un ciclo `for`."
      ],
      "metadata": {
        "id": "uuqM7JNGgwH6"
      }
    },
    {
      "cell_type": "code",
      "source": [
        "def dibujar_triangulo(edge: float):\n",
        "  for _ in range(3):\n",
        "    forward(edge)\n",
        "    left(180 + 60)\n",
        "\n",
        "def dibujar_triangulo_2(edge: float, ang):\n",
        "  setheading(ang)\n",
        "  dibujar_triangulo(edge)\n",
        "\n",
        "pizarra_nueva()\n",
        "speed(8)\n",
        "dibujar_triangulo(100)\n",
        "\n",
        "pizarra_nueva()\n",
        "speed(8)\n",
        "dibujar_triangulo_2(100, 0)"
      ],
      "metadata": {
        "id": "kPkKVstTiCQD"
      },
      "execution_count": null,
      "outputs": []
    },
    {
      "cell_type": "markdown",
      "source": [
        "**Ejercicio 3**\n",
        "\n",
        "Dibujar una estrella como esta con el color de los rayos al azar.\n",
        "\n",
        "![image.png](data:image/png;base64,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)\n",
        "\n",
        "y agregarle segmentos negros que unan la puntas de la estrella, es decir quedará un octógono negro además de la estrella. No es admisible escribir código \"spagheti\" es decir dibujar todos los segmentos, uno por uno. Deben usarse bucles para los procedimientos repetitivos."
      ],
      "metadata": {
        "id": "H-PJEivkvuXJ"
      }
    },
    {
      "cell_type": "code",
      "source": [
        "from random import choice\n",
        "\n",
        "def set_random_color():\n",
        "  colors = [\"blue\", \"purple\", \"gray\", \"yellow\", \"red\", \"green\"]\n",
        "  color(choice(colors))"
      ],
      "metadata": {
        "id": "0WJbBaoUDTCP"
      },
      "execution_count": null,
      "outputs": []
    },
    {
      "cell_type": "code",
      "source": [
        "pizarra_nueva()\n",
        "speed(8)\n",
        "edge = 100\n",
        "\n",
        "# dibuja ocotogono\n",
        "left(90 + 45/2)\n",
        "for _ in range(8):\n",
        "  forward(77)\n",
        "  left(360/8)\n",
        "\n",
        "# prepara turtle\n",
        "color(\"black\")\n",
        "penup()\n",
        "setheading(270)\n",
        "backward(edge)\n",
        "pendown()\n",
        "\n",
        "# dibuja estrella\n",
        "for _ in range(8):\n",
        "  set_random_color()\n",
        "  forward(edge)\n",
        "  backward(edge)\n",
        "  left(45)\n"
      ],
      "metadata": {
        "id": "C7U5mRCeymtC"
      },
      "execution_count": null,
      "outputs": []
    },
    {
      "cell_type": "markdown",
      "source": [
        "**Ejercicio 4**\n",
        "\n",
        "1. Definir  la función `dibujar_rectangulo(n,m)` que dibuja un réctángulo de `n` de ancho  y `m` de alto.\n",
        "2. Dibujar un rectángulo 600 x 300 ubicado en el centro del pizarrón.\n",
        "3. Elegir un número al azar $k$  con $100 < k < 200$ y  dibujar una línea roja horizontal con coordenada $y$ igual a $k$ tal que vaya desde el lado izquierdo del rectángulo al lado derecho. Imprimir el valor de `k`.\n",
        "Por ejemplo, para $k = 167$ dibuja algo así:\n"
      ],
      "metadata": {
        "id": "Eva5bSgJeQuD"
      }
    },
    {
      "cell_type": "markdown",
      "source": [
        "![image.png](data:image/png;base64,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)\n",
        "\n",
        "k = 167"
      ],
      "metadata": {
        "id": "r9_W3jhzJYyk"
      }
    },
    {
      "cell_type": "code",
      "source": [
        "from random import randint\n",
        "\n",
        "def dibujar_rectangulo(n, m):\n",
        "  for _ in range(2):\n",
        "    forward(m)\n",
        "    right(90)\n",
        "    forward(n)\n",
        "    right(90)\n",
        "\n",
        "# prepara turtle para dibujar rectangulo centrado\n",
        "pizarra_nueva()\n",
        "speed(8)\n",
        "x = 600\n",
        "y = 300\n",
        "\n",
        "penup()\n",
        "goto(\n",
        "    (800 - x) / 2,\n",
        "    y + ((500 - y) / 2)\n",
        ")\n",
        "pendown()\n",
        "dibujar_rectangulo(x, y)\n",
        "\n",
        "# dibuja linea roja\n",
        "k = randint(101, 199)\n",
        "penup()\n",
        "goto(\n",
        "    getx(),\n",
        "    k\n",
        ")\n",
        "pendown()\n",
        "color(\"red\")\n",
        "right(90)\n",
        "forward(x)"
      ],
      "metadata": {
        "id": "5bKXrJZwfjgd"
      },
      "execution_count": null,
      "outputs": []
    },
    {
      "cell_type": "markdown",
      "source": [
        "**Ejercicio 5**\n",
        "\n",
        "Definir la función `dibujar_casa()` que tenga un parámetro que determine el tamaño de la casa (los lados del cuadrado). Dibujar una casa de tamaño 120.\n",
        "\n",
        "El dibujo sería algo como:\n"
      ],
      "metadata": {
        "id": "9uaoe24gimXO"
      }
    },
    {
      "cell_type": "markdown",
      "source": [
        "![image.png](data:image/png;base64,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)"
      ],
      "metadata": {
        "id": "5xNCEv2RK9cR"
      }
    },
    {
      "cell_type": "markdown",
      "source": [
        "(todos los segmentos tienen  120  píxeles)"
      ],
      "metadata": {
        "id": "JPMreRzSRpL4"
      }
    },
    {
      "cell_type": "code",
      "source": [
        "def dibujar_casa(edge):\n",
        "  dibujar_rectangulo(edge, edge)\n",
        "  forward(edge)\n",
        "  setheading(270 + 30)\n",
        "  dibujar_triangulo(edge)\n",
        "\n",
        "pizarra_nueva()\n",
        "speed(8)\n",
        "dibujar_casa(120)"
      ],
      "metadata": {
        "id": "v-7XGmaCjehO"
      },
      "execution_count": null,
      "outputs": []
    }
  ]
}