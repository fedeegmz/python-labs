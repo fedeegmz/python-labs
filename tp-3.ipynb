{
  "cells": [
    {
      "cell_type": "markdown",
      "metadata": {
        "id": "z2iU2o9C-OyY"
      },
      "source": [
        "# **Práctico 3**\n",
        "\n",
        "\n",
        "\n"
      ]
    },
    {
      "cell_type": "markdown",
      "metadata": {
        "id": "IBmUSBm8IqQt"
      },
      "source": [
        "## **1° Parte.** Ciclos `while`"
      ]
    },
    {
      "cell_type": "markdown",
      "metadata": {
        "id": "EY7oQRCP-lSN"
      },
      "source": [
        "**Ejercicio 1.** Si se ingresa 7 como dividendo y 3 como divisor ¿cuántas veces se repite la ejecución del cuerpo del while en el programa siguiente? ¿Y si los números fueran 48 y 9?"
      ]
    },
    {
      "cell_type": "code",
      "execution_count": null,
      "metadata": {
        "id": "HtetmyBG-N9X"
      },
      "outputs": [],
      "source": [
        "def cociente(num, div: int) -> int:\n",
        "   \"\"\"\n",
        "   pre: num >= 0 and div >= 1\n",
        "   post: devuelve el cociente de la división de num por div\n",
        "   \"\"\"\n",
        "   coc, resto = 0, num\n",
        "   while div <= resto:\n",
        "       coc, resto = coc + 1, resto - div\n",
        "   return coc"
      ]
    },
    {
      "cell_type": "markdown",
      "metadata": {
        "id": "zjFRkqQl_Jn3"
      },
      "source": [
        "**Ejercicio 2.** ¿Qué ocurre con la función `cociente()` del ejercicio 1 si `num` es negativo y `div` positivo? ¿Y si `num` es positivo y `div` negativo? ¿Y si ambos son negativos?\n"
      ]
    },
    {
      "cell_type": "markdown",
      "metadata": {
        "id": "zUpsbO1B_2YH"
      },
      "source": [
        "**Ejercicio 3.** Escribir en la siguiente celda de código una función que determina si un número entero dado es primo o no."
      ]
    },
    {
      "cell_type": "code",
      "execution_count": null,
      "metadata": {
        "id": "-XfXKi8IACj_"
      },
      "outputs": [],
      "source": []
    },
    {
      "cell_type": "code",
      "execution_count": null,
      "metadata": {
        "id": "NOiBT81NhCXW"
      },
      "outputs": [],
      "source": [
        "print(es_primo(23))\n",
        "print(es_primo(12))"
      ]
    },
    {
      "cell_type": "markdown",
      "metadata": {
        "id": "aZf67bNbADP4"
      },
      "source": [
        "**Ejercicio 4.** Escribir en la siguiente celda de código una función que dado un número entero mayor igual que $2$ devuelve su factor primo más pequeño."
      ]
    },
    {
      "cell_type": "code",
      "execution_count": null,
      "metadata": {
        "id": "AP4S_xcsArLc"
      },
      "outputs": [],
      "source": []
    },
    {
      "cell_type": "code",
      "execution_count": null,
      "metadata": {
        "id": "nIeBlRKJnmLo"
      },
      "outputs": [],
      "source": [
        "print(factor_pequeno(17))\n",
        "print(factor_pequeno(12))\n",
        "print(factor_pequeno(161))"
      ]
    },
    {
      "cell_type": "markdown",
      "metadata": {
        "id": "wCdAQ2FGAIul"
      },
      "source": [
        "**Ejercicio 5.** Escribir en la siguiente celda de código una función que dado un número entero imprime todos sus factores primos en orden creciente."
      ]
    },
    {
      "cell_type": "code",
      "execution_count": null,
      "metadata": {
        "id": "JTONh6vFA2RV"
      },
      "outputs": [],
      "source": []
    },
    {
      "cell_type": "code",
      "execution_count": null,
      "metadata": {
        "id": "Ba2p05rtkiNy"
      },
      "outputs": [],
      "source": [
        "factores_primos(2)\n",
        "factores_primos(8)\n",
        "factores_primos(30)\n",
        "factores_primos(37)"
      ]
    },
    {
      "cell_type": "markdown",
      "metadata": {
        "id": "oQ-eBbwDAI4A"
      },
      "source": [
        "**Ejercicio 6.** Escribir en la siguiente celda de código una función que dado un número entero positivo devuelve su máximo divisor propio (propio = que no sea el mismo número).\n"
      ]
    },
    {
      "cell_type": "code",
      "execution_count": null,
      "metadata": {
        "id": "sfwB6pRII7Jk"
      },
      "outputs": [],
      "source": []
    },
    {
      "cell_type": "code",
      "execution_count": null,
      "metadata": {
        "id": "IJ3CTJdDAZQk"
      },
      "outputs": [],
      "source": [
        "print(max_div_propio(7))\n",
        "print(max_div_propio(12))\n",
        "print(max_div_propio(27))"
      ]
    },
    {
      "cell_type": "markdown",
      "metadata": {
        "id": "98-ehonkAJBb"
      },
      "source": [
        "**Ejercicio 7.** Escribir en la siguiente celda de código una función que devuelve la raíz cuadrada entera de un número entero no negativo dado $n$. La raíz cuadrada entera de $n$, es el número entero $k$ tal que $k^2 \\le n < (k+1)^2$. No se debe utilizar la función `sqrt()` ni potencias fraccionarias.\n"
      ]
    },
    {
      "cell_type": "code",
      "execution_count": null,
      "metadata": {
        "id": "OtKBWOiFA6Kv"
      },
      "outputs": [],
      "source": []
    },
    {
      "cell_type": "code",
      "execution_count": null,
      "metadata": {
        "id": "s6jSZDl03eJ7"
      },
      "outputs": [],
      "source": [
        "print(raiz_cuadrada_entera(4)) # 2\n",
        "print(raiz_cuadrada_entera(7)) # 2\n",
        "print(raiz_cuadrada_entera(18)) # 4\n",
        "print(raiz_cuadrada_entera(25)) # 5"
      ]
    },
    {
      "cell_type": "markdown",
      "metadata": {
        "id": "4xHWAoPzAJLk"
      },
      "source": [
        "**Ejercicio 8.** Escribir en la siguiente celda de código una función que calcula el máximo común divisor de dos números naturales positivos dados."
      ]
    },
    {
      "cell_type": "code",
      "execution_count": null,
      "metadata": {
        "id": "35dtJB91A4I_"
      },
      "outputs": [],
      "source": []
    },
    {
      "cell_type": "code",
      "execution_count": null,
      "metadata": {
        "id": "0EWwKR575HuB"
      },
      "outputs": [],
      "source": [
        "print(mcd(5, 14))\n",
        "print(mcd(2, 6))\n",
        "print(mcd(8, 24))\n",
        "print(mcd(18, 24))\n",
        "print(mcd(19, 17))\n",
        "# print(mcd(195654654656356356, 17563563563563677865465635)) # correr esta linea puede tardar mucho"
      ]
    },
    {
      "cell_type": "markdown",
      "metadata": {
        "id": "Mxb_VkRIAWB6"
      },
      "source": [
        "**Ejercicio 9.** Escribir en la siguiente celda de código una función que  solicita el ingreso de una respuesta `s` o `n` (por “sí” o “no”? y que ante una respuesta diferente reporta un error y vuelve a solicitar se ingrese  `s` o `n` y sigue de esta manera hasta que finalmente se ha ingresado  `s` o `n`. La función devuelve lo último ingresado."
      ]
    },
    {
      "cell_type": "code",
      "execution_count": null,
      "metadata": {
        "id": "FlY0I8BPA9kY"
      },
      "outputs": [],
      "source": []
    },
    {
      "cell_type": "code",
      "execution_count": null,
      "metadata": {
        "id": "EAKonUOv4M7G"
      },
      "outputs": [],
      "source": [
        "si_o_no()"
      ]
    },
    {
      "cell_type": "markdown",
      "metadata": {
        "id": "X7U-imCQWxxv"
      },
      "source": [
        "**Ejercicio 10.**  Escribir en la siguiente celda de código una función que devuelve los valores de la siguiente función:\n",
        "$$\n",
        "f(0) = 1,  \\qquad f(n) = 2\\cdot f(n-1) + n^2\\quad \\text{si $n\\ge 1$}\n",
        "$$"
      ]
    },
    {
      "cell_type": "code",
      "execution_count": null,
      "metadata": {
        "id": "QTydq9QG7RMk"
      },
      "outputs": [],
      "source": []
    },
    {
      "cell_type": "code",
      "execution_count": null,
      "metadata": {
        "id": "-DWbYZXj5Ji1"
      },
      "outputs": [],
      "source": [
        "print(f(0))\n",
        "print(f(1))\n",
        "print(f(2))\n",
        "print(f(3))"
      ]
    },
    {
      "cell_type": "markdown",
      "metadata": {
        "id": "Sn53VIgIX9-_"
      },
      "source": [
        "**Ejercicio 11.**  Escribir en la siguiente celda de código una función que devuelve los valores de la siguiente función:\n",
        "$$\n",
        "f(0) = 5,  \\qquad f(n) = \\frac12\\cdot f(n-1)^2 + 2n\\quad \\text{si $n\\ge 1$}\n",
        "$$"
      ]
    },
    {
      "cell_type": "code",
      "execution_count": null,
      "metadata": {
        "id": "3FEB7e0tYS8_"
      },
      "outputs": [],
      "source": []
    },
    {
      "cell_type": "code",
      "execution_count": null,
      "metadata": {
        "id": "bW2mpVqO5hLR"
      },
      "outputs": [],
      "source": [
        "print(f(0))\n",
        "print(f(1))\n",
        "print(f(2))\n",
        "print(f(3))"
      ]
    },
    {
      "cell_type": "markdown",
      "metadata": {
        "id": "k1CXKdEAYTNJ"
      },
      "source": [
        "**Ejercicio 12.**  Escribir en la siguiente celda de código una función que devuelve los valores de la siguiente función:\n",
        "$$\n",
        " f(n) = \\sum_{i=1}^{n} 2\\cdot \\operatorname{log}(i) + n\\quad \\text{si $n\\ge 1$}\n",
        "$$"
      ]
    },
    {
      "cell_type": "code",
      "execution_count": null,
      "metadata": {
        "id": "dS_ikENO7VVx"
      },
      "outputs": [],
      "source": []
    },
    {
      "cell_type": "code",
      "execution_count": null,
      "metadata": {
        "id": "GZGHlxOiJnmf"
      },
      "outputs": [],
      "source": [
        "print(f(1)) # 1.0\n",
        "print(f(2)) # 2.6020599913279625\n",
        "print(f(5)) # 9.15836249209525\n",
        "print(f(10)) # 23.11952606575359"
      ]
    },
    {
      "cell_type": "markdown",
      "metadata": {
        "id": "yEv4XvIDY9kP"
      },
      "source": [
        "**Ejercicio 13.**  Escribir en la siguiente celda de código una función que devuelve los valores de la siguiente función:\n",
        "$$\n",
        " \\sum_{k=0}^n k^2 a^k  \\quad \\text{si $n\\ge 0, a \\in \\mathbb R$.}\n",
        "$$\n",
        "En  este caso la función debe depender de dos parámetros: $n$ de tipo `int` y $a$ de tipo `float`."
      ]
    },
    {
      "cell_type": "code",
      "execution_count": null,
      "metadata": {
        "id": "V6FBRVOfby5d"
      },
      "outputs": [],
      "source": []
    },
    {
      "cell_type": "code",
      "execution_count": null,
      "metadata": {
        "id": "IXAaVKgYIt3M"
      },
      "outputs": [],
      "source": [
        "n = 10\n",
        "print(f(n, 1) == n*(n + 1)*(2*n + 1) // 6) # \\sum_{k=0}^n k**2 = n*(n + 1)*(2*n + 1) // 6\n",
        "print(f(5, 2))\n",
        "print(f(8, -1.5))"
      ]
    },
    {
      "cell_type": "markdown",
      "metadata": {
        "id": "_0GgJMT4bzIw"
      },
      "source": [
        "**Ejercicio 14.** Sea $\\{a_n\\}_{n\\in\\mathbb N_0}$ la sucesión definida recursivamente por\n",
        "\n",
        "$$\\begin{cases}\n",
        "a_0=1, \\\\a_1=2, \\\\a_{n} = \\operatorname{log}(3n)a_{n-1}+(n-1)(n-3)a_{n-2}, \\text{ para $n\\geq 2$}.\n",
        "\\end{cases}$$\n",
        "\n",
        "Escribir en la siguiente celda de código una función `f` que implemente la sucesión (es decir `f(n)` $= a_n$).\n"
      ]
    },
    {
      "cell_type": "code",
      "execution_count": null,
      "metadata": {
        "id": "uXwY6lc59Yhs"
      },
      "outputs": [],
      "source": []
    },
    {
      "cell_type": "code",
      "execution_count": null,
      "metadata": {
        "id": "HxWcm6HoPc2D"
      },
      "outputs": [],
      "source": [
        "print(f(0)) # 1\n",
        "print(f(1)) # 2\n",
        "print(f(2)) # 0.5563025007672873"
      ]
    },
    {
      "cell_type": "markdown",
      "metadata": {
        "id": "HinvOe_CcjGn"
      },
      "source": [
        "**Ejercicio 15.** Sea $\\{a_n\\}_{n\\in\\mathbb N_0}$ la sucesión definida recursivamente por\n",
        "\n",
        "$$\\begin{cases}\n",
        "   a_0=0, \\\\a_1=7, \\\\a_{n} = 5a_{n-1}+(1/2)^na_{n-2}, \\text{ para $n\\geq 2$}.\n",
        "  \\end{cases}$$\n",
        "\n",
        "Escribir en la siguiente celda de código una función que implemente la sucesión.\n"
      ]
    },
    {
      "cell_type": "code",
      "execution_count": null,
      "metadata": {
        "id": "ojg1DLUU4eIU"
      },
      "outputs": [],
      "source": []
    },
    {
      "cell_type": "code",
      "execution_count": null,
      "metadata": {
        "id": "aqurOwonKsWB"
      },
      "outputs": [],
      "source": [
        "print(f(0)) # 0\n",
        "print(f(1)) # 7\n",
        "print(f(2)) # 10.25\n",
        "print(f(3)) # 51.5\n",
        "print(f(4)) # 258.140625"
      ]
    },
    {
      "cell_type": "markdown",
      "metadata": {
        "id": "Sv8Iar8CJh7G"
      },
      "source": [
        "## **2° Parte.** Días, fechas y años\n",
        "\n"
      ]
    },
    {
      "cell_type": "markdown",
      "metadata": {
        "id": "NtRopxhbJh7H"
      },
      "source": [
        "**Ejercicio 16.**  Escribir en la siguiente celda de código una función que  reciba una fecha (tres parámetros: día, mes y año) y devuelva el número de días a de la era moderna hasta ese día. Es decir, si le paso como fecha 1/1/1 me devuelve 1. Si le paso como fecha 31/12/1 devuelve 365. Si le paso 1/1/2 devuelve 366. Si le paso como fecha 4/7/1995, devuelve 728478. Si le paso 15/4/2020 devuelve 737530.\n"
      ]
    },
    {
      "cell_type": "code",
      "execution_count": null,
      "metadata": {
        "id": "UtaNpMiGn7GH"
      },
      "outputs": [],
      "source": []
    },
    {
      "cell_type": "code",
      "execution_count": null,
      "metadata": {
        "id": "_MEMwRkC0RP8"
      },
      "outputs": [],
      "source": [
        "print(numero_dias(1, 1, 1)) # 1\n",
        "print(numero_dias(31, 12, 1)) # 365\n",
        "print(numero_dias(1, 1, 2)) # 366\n",
        "print(numero_dias(4, 7, 1995)) # 728478\n",
        "print(numero_dias(15, 4, 2020)) # 737530"
      ]
    },
    {
      "cell_type": "markdown",
      "metadata": {
        "id": "upbCFkH4Jh7I"
      },
      "source": [
        "**Ejercicio 17.** Escribir en la siguiente celda de código una función que reciba una fecha (tres parámetros) y devuelve una cadena de caracteres: `lunes` o `martes` o `miércoles` o ... o `domingo`."
      ]
    },
    {
      "cell_type": "code",
      "execution_count": null,
      "metadata": {
        "id": "Tqm69v-xFnzh"
      },
      "outputs": [],
      "source": []
    },
    {
      "cell_type": "code",
      "execution_count": null,
      "metadata": {
        "id": "CnOt4G7J4vN5"
      },
      "outputs": [],
      "source": [
        "print(dia_semana(16,4,2024)) # martes\n",
        "print(dia_semana(26,4,2024)) # viernes\n",
        "print(dia_semana(1,1,1)) # lunes\n",
        "print(dia_semana(3,3,2004)) # miércoles"
      ]
    },
    {
      "cell_type": "markdown",
      "metadata": {
        "id": "keRu5Ih1Jh7I"
      },
      "source": [
        "**Ejercicio 18.** Escribir en la siguiente celda de código un programa que solicita que se ingrese la fecha e imprima el día de la semana."
      ]
    },
    {
      "cell_type": "code",
      "execution_count": null,
      "metadata": {
        "id": "LD5-g880Jh7I"
      },
      "outputs": [],
      "source": []
    },
    {
      "cell_type": "markdown",
      "metadata": {
        "id": "kol6ySNsJh7J"
      },
      "source": [
        "**Ejercicio 19.** Escribir en la siguiente celda de código una función que dado un número de días a contar a partir del 31/12/añocero devuelve una terna dia/mes/año. Por ejemplo, si lo llamo con 728478 devuelve 4/7/1995. Si le paso 737530 me devuelve 15/4/2020."
      ]
    },
    {
      "cell_type": "code",
      "execution_count": null,
      "metadata": {
        "id": "npKE_dzyJh7J"
      },
      "outputs": [],
      "source": []
    },
    {
      "cell_type": "code",
      "execution_count": null,
      "metadata": {
        "id": "Nk3YhKgxRu9L"
      },
      "outputs": [],
      "source": [
        "print(fecha_x_numero_dias(1)) # 1/1/1\n",
        "print(fecha_x_numero_dias(365)) # 31/12/1\n",
        "print(fecha_x_numero_dias(1+365)) # 1/1/2\n",
        "print(fecha_x_numero_dias(1+365+365)) # 1/1/3\n",
        "print(fecha_x_numero_dias(1+365+365+365)) # 1/1/4\n",
        "print(fecha_x_numero_dias(1+365+365+365+365)) # 31/12/4\n",
        "print(fecha_x_numero_dias(1+365+365+365+365+1)) # 1/1/5\n",
        "print(fecha_x_numero_dias(728478)) # 4/7/1995\n",
        "print(fecha_x_numero_dias(737530)) # 15/4/2020"
      ]
    },
    {
      "cell_type": "markdown",
      "metadata": {
        "id": "tk_EVBA4Jh7J"
      },
      "source": [
        "**Ejercicio 20.** Escribir en la siguiente celda de código una función que dada una fecha (`dia`, `mes`, `año`) y un número positivo `n` de días, devuelve la fecha que queda `n` días después de la fecha dada. Por ejemplo, si le paso `15`, `4`, `2020` y `1` devuelve `16`, `4`, `2020`. Si le paso `4`, `7`, `1995` y `9052`devuelve `15`, `4`, `2020`."
      ]
    },
    {
      "cell_type": "code",
      "execution_count": null,
      "metadata": {
        "id": "7OeYgLSlFGSu"
      },
      "outputs": [],
      "source": [
        "def fecha_dif_dias(dia, mes , año, n):\n",
        "    nro_dias_fecha = numero_dias(dia, mes ,año) + n\n",
        "    return fecha_x_numero_dias(nro_dias_fecha)"
      ]
    },
    {
      "cell_type": "code",
      "execution_count": null,
      "metadata": {
        "id": "-F_yTD6R10mB"
      },
      "outputs": [],
      "source": [
        "print(fecha_dif_dias(15, 4, 2020, 1)) # (16, 4, 2020)\n",
        "print(fecha_dif_dias(4, 7, 1995, 9052)) # (15, 4, 2020)"
      ]
    },
    {
      "cell_type": "markdown",
      "metadata": {
        "id": "ap8WYZFjJh7K"
      },
      "source": [
        "**Ejercicio 21.** Escribir en la siguiente celda de código una función que dadas dos fechas devuelve la cantidad de días que las separa.\n"
      ]
    },
    {
      "cell_type": "code",
      "execution_count": null,
      "metadata": {
        "id": "CVnkGD7bJh7K"
      },
      "outputs": [],
      "source": []
    },
    {
      "cell_type": "code",
      "execution_count": null,
      "metadata": {
        "id": "YOtx4uVpbiLV"
      },
      "outputs": [],
      "source": [
        "print(dif_dias_fechas(15, 4, 2020, 16, 4, 2020)) # 1\n",
        "print(dif_dias_fechas(4, 7, 1995, 15, 4, 2020)) # 90952"
      ]
    }
  ],
  "metadata": {
    "colab": {
      "provenance": []
    },
    "kernelspec": {
      "display_name": "Python 3",
      "name": "python3"
    },
    "language_info": {
      "name": "python"
    }
  },
  "nbformat": 4,
  "nbformat_minor": 0
}
