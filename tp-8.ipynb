{
  "cells": [
    {
      "cell_type": "markdown",
      "metadata": {
        "id": "LiSFrlKfVBit"
      },
      "source": [
        "# Práctico 8\n"
      ]
    },
    {
      "cell_type": "markdown",
      "metadata": {
        "id": "hQ56qk09zwke"
      },
      "source": [
        "## 1. Ejercicios de NumPy"
      ]
    },
    {
      "cell_type": "markdown",
      "metadata": {
        "id": "mn833mqvVNQx"
      },
      "source": [
        "**Ejercicio 1.**\n",
        "\n",
        "Escribir un programa que imprima un arreglo numpy de tamaño 1 x 100 de números aleatorios del 0 al 100."
      ]
    },
    {
      "cell_type": "code",
      "execution_count": 1,
      "metadata": {},
      "outputs": [],
      "source": [
        "import numpy as np"
      ]
    },
    {
      "cell_type": "code",
      "execution_count": 2,
      "metadata": {
        "id": "4W9xQnuTOV3S"
      },
      "outputs": [],
      "source": [
        "vector = np.random.randint(0, 101, 100)\n",
        "\n",
        "\n",
        "# TESTS #\n",
        "assert vector.size == 100, \"Error\"\n",
        "assert vector.ndim == 1, \"Error\"\n",
        "assert type(vector[0]) == np.int64, \"Error\""
      ]
    },
    {
      "cell_type": "markdown",
      "metadata": {
        "id": "WnYdioy3VPYE"
      },
      "source": [
        "**Ejercicio 2.**\n",
        "\n",
        "Escribir un programa que imprima un arreglo numpy de tamaño 1 x 100 de números aleatorios del 0 al 100. Además, que imprima los índices de los valores mayores a 50."
      ]
    },
    {
      "cell_type": "code",
      "execution_count": 3,
      "metadata": {
        "id": "FGhS456MdiLZ"
      },
      "outputs": [],
      "source": [
        "indexes = np.where(vector > 50)\n",
        "\n",
        "\n",
        "# TESTS #\n",
        "for i in indexes[0]:\n",
        "    assert vector[i] > 50, \"Error\""
      ]
    },
    {
      "cell_type": "markdown",
      "metadata": {
        "id": "aPOd35w1Viug"
      },
      "source": [
        "**Ejercicio 3.**\n",
        "\n",
        "Escribir un programa que imprima un arreglo numpy de tamaño 1 x 100 de números aleatorios del 0 al 100. Además, que imprima los índices de los elementos distintos de cero del arreglo.\n",
        "\n",
        "*Ayuda:* la función `where()` de NumPy se puede utilizar  para encontrar la solución del ejercicio. La sintaxis es:\n",
        "\n",
        "```Python\n",
        "indices = np.where(\"expresión lógica\")\n",
        "```\n",
        "Donde \"expresión lógica\",  es una condición que debe cumplir el arreglo. Por ejemplo\n",
        "```Python\n",
        "indices = np.where(arreglo > 0)\n",
        "```\n",
        "devuelve los índices de `arreglo` donde está ubicados los números positivos.\n"
      ]
    },
    {
      "cell_type": "code",
      "execution_count": 4,
      "metadata": {
        "id": "H4rDjSBuo2dh"
      },
      "outputs": [],
      "source": [
        "indexes = np.where(vector != 0)\n",
        "\n",
        "\n",
        "# TESTS #\n",
        "for i in indexes[0]:\n",
        "    assert vector[i] != 0, \"Error\""
      ]
    },
    {
      "cell_type": "markdown",
      "metadata": {
        "id": "2Y6daHE1Vpzh"
      },
      "source": [
        "**Ejercicio 4.**\n",
        "\n",
        "Crear las matrices:\n",
        "\n",
        "\\begin{equation}\n",
        "\\begin{bmatrix}\n",
        "6 & 8 & 1\\\\\n",
        "2 & 9 & 3\\\\\n",
        "4 & 5 & 1\n",
        "\\end{bmatrix}\n",
        "\\begin{bmatrix}\n",
        "7 & 1 & -4\\\\\n",
        "-2 & 0 & -6\\\\\n",
        "-1 & 1 & -1\n",
        "\\end{bmatrix}\n",
        "\\end{equation}\n",
        "\n",
        "y calcular el producto de las mismas componente a componente."
      ]
    },
    {
      "cell_type": "code",
      "execution_count": 5,
      "metadata": {
        "id": "XBN3tViHo4rJ"
      },
      "outputs": [],
      "source": [
        "matrix_1 = np.array([[6, 8, 1], [2, 9, 3], [4, 5, 1]])\n",
        "matrix_2 = np.array([[7, 1, -4], [-2, 0, -6], [-1, 1, -1]])\n",
        "prod = matrix_1 * matrix_2\n",
        "# print(prod)\n",
        "\n",
        "\n",
        "# TESTS #\n",
        "for i in range(3):\n",
        "    for j in range(3):\n",
        "        assert prod[i][j] == matrix_1[i][j] * matrix_2[i][j], \"Error\""
      ]
    },
    {
      "cell_type": "markdown",
      "metadata": {
        "id": "HZ7aGbhWVvRR"
      },
      "source": [
        "**Ejercicio 5.**\n",
        "\n",
        "Crear un array de 100 números enteros aleatorios con valores de -100 a +100. Usando arrays de booleanos crear otros arrays que contengan los índices de: los números positivos, los números negativos, los números pares y los números impares del array original."
      ]
    },
    {
      "cell_type": "code",
      "execution_count": 6,
      "metadata": {
        "id": "bYEqBscCfGG2"
      },
      "outputs": [],
      "source": [
        "vector = np.random.randint(-100, 101, 100)\n",
        "\n",
        "vector_postive = vector[vector > 0]\n",
        "vector_negative = vector[vector < 0]\n",
        "vector_even = vector[vector % 2 == 0]\n",
        "vector_odd = vector[vector % 2 != 0]\n",
        "\n",
        "\n",
        "# TESTS #\n",
        "for elem in vector_postive:\n",
        "    assert elem > 0, \"Error\"\n",
        "for elem in vector_negative:\n",
        "    assert elem < 0, \"Error\"\n",
        "for elem in vector_even:\n",
        "    assert elem % 2 == 0, \"Error\"\n",
        "for elem in vector_odd:\n",
        "    assert elem % 2 != 0, \"Error\""
      ]
    },
    {
      "cell_type": "markdown",
      "metadata": {
        "id": "LZCE8eYRFD9z"
      },
      "source": [
        "**Ejercicio 7**\n",
        "\n",
        "Crea un array bidimensional 5x5 con todos los valores cero. Usando el indexado de arrays, asigna 1 a todos los elementos de la diagonal, para obtener la matiz identidad 5x5. Finalmente, asigna el valor 5 a todos los elementos de las subarrays 2x2 inferior izquierda y superior derecha de la matriz de 5x5."
      ]
    },
    {
      "cell_type": "code",
      "execution_count": 7,
      "metadata": {
        "id": "bH0Ez_ZMr7As"
      },
      "outputs": [],
      "source": [
        "vector = np.eye(5, dtype=int)\n",
        "\n",
        "\n",
        "# TESTS #\n",
        "assert vector.size == 5 * 5, \"Error\"\n",
        "for i in range(5):\n",
        "    for j in range(5):\n",
        "        if i == j:\n",
        "            assert vector[i][j] == 1, \"Error\"\n",
        "        else:\n",
        "            assert vector[i][j] == 0, \"Error\""
      ]
    },
    {
      "cell_type": "code",
      "execution_count": 8,
      "metadata": {
        "id": "emXh40nqsk6C"
      },
      "outputs": [],
      "source": [
        "vector[3:, 0:2] = 5\n",
        "vector[0:2, 3:] = 5\n",
        "\n",
        "\n",
        "# TESTS #\n",
        "assert vector[0][3] == 5, \"Error\"\n",
        "assert vector[0][4] == 5, \"Error\"\n",
        "assert vector[1][3] == 5, \"Error\"\n",
        "assert vector[1][4] == 5, \"Error\"\n",
        "assert vector[3][0] == 5, \"Error\"\n",
        "assert vector[3][1] == 5, \"Error\"\n",
        "assert vector[4][0] == 5, \"Error\"\n",
        "assert vector[4][1] == 5, \"Error\""
      ]
    },
    {
      "cell_type": "markdown",
      "metadata": {
        "id": "N7AvkEG8TulH"
      },
      "source": [
        "**Ejercicio 8**\n",
        "\n",
        "Los diámetros de las esporas del lycopodium pueden medirse por métodos interferométricos. Los resultados de uno de estos experimentos son los siguientes:\n",
        "$$\n",
        "\\begin{matrix}\n",
        "\\text{k * diametro (cm)} & 14 & 15 & 16 & 17 & 18 & 19 & 20 & 21 & 22 & 23\\\\\n",
        "\\hline\n",
        "\\text{número de esporas} & 1 & 1 & 8 & 24 & 48 & 58 & 35 & 16 & 8 & 1 \\\\\n",
        "\\end{matrix}\n",
        "$$\n",
        "donde $k=5880$.\n",
        "Usando funciones de numpy determinar, el diámetro medio de las esporas y la desviación estándar de la muestra. Separar, en arrays independientes, las medidas de los diámetros:\n",
        "\n",
        "1. Que tengan valores inferiores a la media menos la desviación estándar, es decir $d < \\overline{d} - \\sigma_d$.\n",
        "2. Que tengan valores superiores a la media más la desviación estándar, es decir $d > \\overline{d} + \\sigma_d$.\n",
        "3. Que tengan valores entre $\\overline{d} - \\sigma_d < d < \\overline{d} + \\sigma_d$."
      ]
    },
    {
      "cell_type": "code",
      "execution_count": null,
      "metadata": {
        "id": "HSwtx1VHUMWb"
      },
      "outputs": [],
      "source": []
    },
    {
      "cell_type": "markdown",
      "metadata": {
        "id": "PAaYBUbb9D_V"
      },
      "source": [
        "**Ejercicio 9**\n",
        "\n",
        "Crear un array numpy de 150 números enteros aleatorios en el rango del 1 al 1000. Imrpimirla. Usando una máscara booleana, identificar los números divisibles entre 3 y mayores a 500. Imprimir los valores con su correspondiente ubicación en el arreglo original."
      ]
    },
    {
      "cell_type": "code",
      "execution_count": 9,
      "metadata": {
        "id": "CcrueYQt9E0f"
      },
      "outputs": [],
      "source": [
        "vector = np.random.randint(0, 1001, 150)\n",
        "vector = vector[(vector % 3 == 0) & (vector > 500)]\n",
        "\n",
        "\n",
        "# TESTS #\n",
        "for elem in vector:\n",
        "    assert elem % 3 == 0, \"Error\"\n",
        "    assert elem > 500, \"Error\""
      ]
    },
    {
      "cell_type": "markdown",
      "metadata": {
        "id": "MS8Wd3Xw9ZgV"
      },
      "source": [
        "**Ejercicio 10**\n",
        "\n",
        "1. Crear un array numpy de 80 números enteros aleatorios en el rango del 1 al 100. Imprimirla.\n",
        "\n",
        "2. Escribe un programa que elige un número aleatorio del array del paso 1 y ordena el array. Primero se debe imprimir el array ordenado. Luego, el usuario tiene que adivinar el número y el programa le dice si su adivinanza es demasiado alta o demasiado baja. Si el usuario adivina el número en 6 o menos intentos, la función debe devolver `True`, de lo contrario, devuelve `False`.\n",
        "\n",
        "*Ayuda:* `np.sort(arreglo)` ordena `arreglo`. `np.random.choice(arreglo)` elige un elemento al azar de `arreglo`."
      ]
    },
    {
      "cell_type": "code",
      "execution_count": 10,
      "metadata": {},
      "outputs": [
        {
          "name": "stdout",
          "output_type": "stream",
          "text": [
            "[ 1  2  2  2  3  5  7  7  7  8 12 13 14 14 14 15 16 17 18 20 20 22 22 24\n",
            " 26 27 27 28 28 28 29 30 32 33 34 35 36 41 42 44 47 48 56 56 58 59 59 62\n",
            " 63 67 67 67 67 68 72 73 73 74 74 74 78 79 82 82 84 85 88 89 89 92 93 94\n",
            " 94 95 96 96 96 96 98 98]\n"
          ]
        },
        {
          "data": {
            "text/plain": [
              "False"
            ]
          },
          "execution_count": 10,
          "metadata": {},
          "output_type": "execute_result"
        }
      ],
      "source": [
        "def get_random_value(vector):\n",
        "    return int(np.random.choice(vector))\n",
        "\n",
        "def check_value(k, m):\n",
        "    if m == k:\n",
        "        print(\"Ganaste!!!\")\n",
        "        return True, m\n",
        "    elif m < k:\n",
        "        msg = \"mayor\"\n",
        "    elif m > k:\n",
        "        msg = \"menor\"\n",
        "    m = int(input(f\"Ingrese uno {msg}: \"))\n",
        "    return False, m\n",
        "\n",
        "def game(vector):\n",
        "    value = get_random_value(vector)\n",
        "\n",
        "    i = 0\n",
        "    m = int(input(\"Ingrese un numero del array: \"))\n",
        "    win = False\n",
        "    while i < 6 and not win:\n",
        "        win, m = check_value(value, m)\n",
        "        i += 1\n",
        "    return win\n",
        "\n",
        "# GAME #\n",
        "vector = np.random.randint(1, 101, 80)\n",
        "vector = np.sort(vector)\n",
        "print(vector)\n",
        "game(vector)"
      ]
    },
    {
      "cell_type": "markdown",
      "metadata": {
        "id": "_DTG1Rt2zkc6"
      },
      "source": [
        "## 2. Ejercicios de PyPlot"
      ]
    },
    {
      "cell_type": "code",
      "execution_count": 11,
      "metadata": {},
      "outputs": [],
      "source": [
        "from matplotlib import pyplot as plt"
      ]
    },
    {
      "cell_type": "markdown",
      "metadata": {
        "id": "Hkdg0s9J-Er7"
      },
      "source": [
        "**Ejercicio 11.1 - Gráfico de línea simple.** Crea un gráfico de línea que muestre la evolución de una serie de datos a lo largo del tiempo.\n"
      ]
    },
    {
      "cell_type": "code",
      "execution_count": 12,
      "metadata": {
        "id": "3SXygwGd-WtT"
      },
      "outputs": [
        {
          "data": {
            "image/png": "[encoded data removed]",
            "text/plain": [
              "<Figure size 640x480 with 1 Axes>"
            ]
          },
          "metadata": {},
          "output_type": "display_data"
        }
      ],
      "source": [
        "datos = [1, 2, 3, 4, 5]\n",
        "\n",
        "plt.plot(datos, datos)\n",
        "plt.show()"
      ]
    },
    {
      "cell_type": "markdown",
      "metadata": {
        "id": "8HrdQ0ng-dC3"
      },
      "source": [
        "**Ejercicio 11.2 - Gráfico de dispersión.** Representa un conjunto de puntos en un plano cartesiano."
      ]
    },
    {
      "cell_type": "code",
      "execution_count": 13,
      "metadata": {
        "id": "UZPF5vDX-dTI"
      },
      "outputs": [
        {
          "data": {
            "image/png": "[encoded data removed]",
            "text/plain": [
              "<Figure size 640x480 with 1 Axes>"
            ]
          },
          "metadata": {},
          "output_type": "display_data"
        }
      ],
      "source": [
        "x = [1, 2, 3, 4, 5]\n",
        "y = [2, 3, 4, 5, 6]\n",
        "\n",
        "plt.plot(x, y, \"or\")\n",
        "plt.show()"
      ]
    },
    {
      "cell_type": "markdown",
      "metadata": {
        "id": "apYgGufA-def"
      },
      "source": [
        "**Ejercicio 11.3 - Histograma.** Muestra la distribución de frecuencia de un conjunto de datos."
      ]
    },
    {
      "cell_type": "code",
      "execution_count": 14,
      "metadata": {
        "id": "7tZw7b_D-don"
      },
      "outputs": [
        {
          "data": {
            "image/png": "[encoded data removed]",
            "text/plain": [
              "<Figure size 640x480 with 1 Axes>"
            ]
          },
          "metadata": {},
          "output_type": "display_data"
        }
      ],
      "source": [
        "datos = [1, 1, 2, 3, 3, 3, 4, 4, 4, 4]\n",
        "\n",
        "plt.hist(datos)\n",
        "plt.show()"
      ]
    },
    {
      "cell_type": "markdown",
      "metadata": {
        "id": "gKLdUyxO-d0G"
      },
      "source": [
        "**Ejercicio 11.4 - Gráfico de barras.** Representa datos categóricos en forma de barras."
      ]
    },
    {
      "cell_type": "code",
      "execution_count": 15,
      "metadata": {
        "id": "ejBDFcdB-eBe"
      },
      "outputs": [
        {
          "data": {
            "image/png": "[encoded data removed]",
            "text/plain": [
              "<Figure size 640x480 with 1 Axes>"
            ]
          },
          "metadata": {},
          "output_type": "display_data"
        }
      ],
      "source": [
        "categorias = ['A', 'B', 'C', 'D']\n",
        "valores = [10, 20, 15, 25]\n",
        "\n",
        "plt.bar(categorias, valores)\n",
        "plt.show()"
      ]
    },
    {
      "cell_type": "markdown",
      "metadata": {
        "id": "rn1dHFvF-eMB"
      },
      "source": [
        "**Ejercicio 11.5 - Gráfico circular.** Muestra la proporción de diferentes categorías en un conjunto de datos.\n"
      ]
    },
    {
      "cell_type": "code",
      "execution_count": 16,
      "metadata": {
        "id": "y57Uh2d6-eX6"
      },
      "outputs": [
        {
          "data": {
            "image/png": "[encoded data removed]",
            "text/plain": [
              "<Figure size 640x480 with 1 Axes>"
            ]
          },
          "metadata": {},
          "output_type": "display_data"
        }
      ],
      "source": [
        "sizes = [20, 30, 25, 25]\n",
        "labels = ['A', 'B', 'C', 'D']\n",
        "\n",
        "plt.pie(sizes, labels=labels)\n",
        "plt.show()"
      ]
    },
    {
      "cell_type": "markdown",
      "metadata": {
        "id": "PtP0vz58AaH2"
      },
      "source": [
        "**Ejercicio 12**\n",
        "\n",
        "Escribir un programa que pregunte al usuario por las ventas de un rango de años y muestre por pantalla un diagrama de líneas con la evolución de las ventas."
      ]
    },
    {
      "cell_type": "code",
      "execution_count": null,
      "metadata": {
        "id": "yUtdYo1KCSYe"
      },
      "outputs": [],
      "source": []
    },
    {
      "cell_type": "markdown",
      "metadata": {
        "id": "iuckjj17CSk5"
      },
      "source": [
        "**Ejercicio 13**\n",
        "\n",
        "Escribir una función que reciba una diccionario con las notas de las asignaturas de un curso y una cadena con el nombre de un color y devuelva un diagrama de barras de las notas en el color dado."
      ]
    },
    {
      "cell_type": "code",
      "execution_count": 19,
      "metadata": {
        "id": "VLVIXrnSCW7h"
      },
      "outputs": [
        {
          "data": {
            "image/png": "[encoded data removed]",
            "text/plain": [
              "<Figure size 640x480 with 1 Axes>"
            ]
          },
          "metadata": {},
          "output_type": "display_data"
        }
      ],
      "source": [
        "def bar_notas(data: dict):\n",
        "    \"\"\"\n",
        "    - Param:\n",
        "        - data:\n",
        "            {\n",
        "                \"asignaturas\": [\"math\", \"eng\", \"art\", \"music\"]\n",
        "                \"notas\": [9, 10, 4, 8],\n",
        "                \"color\": \"red\"\n",
        "            }\n",
        "    \"\"\"\n",
        "    plt.bar(data[\"asignaturas\"], data[\"notas\"], color=data[\"color\"])\n",
        "    plt.show()\n",
        "\n",
        "\n",
        "bar_notas({\n",
        "    \"asignaturas\": [\"art\", \"biology\", \"music\", \"english\", \"math\", \"physics\"],\n",
        "    \"notas\": [2, 5, 9, 9, 10, 4],\n",
        "    \"color\": \"black\"\n",
        "})"
      ]
    },
    {
      "cell_type": "markdown",
      "metadata": {
        "id": "yGX_6aF4CX46"
      },
      "source": [
        "**Ejercicio 14**\n",
        "\n",
        "Escribir una función que reciba un array de numpy con las notas de los alumnos de un curso y devuelva un diagrama de barras con las notas. El diagrama debe tener el título “Distribución de notas”."
      ]
    },
    {
      "cell_type": "code",
      "execution_count": 28,
      "metadata": {
        "id": "0vncRwTnCemn"
      },
      "outputs": [
        {
          "data": {
            "image/png": "[encoded data removed]",
            "text/plain": [
              "<Figure size 640x480 with 1 Axes>"
            ]
          },
          "metadata": {},
          "output_type": "display_data"
        }
      ],
      "source": [
        "def bar_notas_np(array):\n",
        "    plt.bar(\n",
        "        np.arange(1, array.size + 1, 1),\n",
        "        array\n",
        "    )\n",
        "    plt.title(\"Distribucion de notas\")\n",
        "    plt.show()\n",
        "\n",
        "data = np.array([10, 9, 8, 4, 6, 8, 2])\n",
        "bar_notas_np(data)"
      ]
    },
    {
      "cell_type": "markdown",
      "metadata": {
        "id": "c_0tdMuTCgiE"
      },
      "source": [
        "**Ejercicio 15**\n",
        "\n",
        "Escribir una función que reciba un array de numpy con el número de ventas de un producto durante los meses de un trimestre y un título y cree un gráfico circular con las ventas en formato png con el titulo dado. El diagrama debe guardarse en un fichero con formato png y el título dado."
      ]
    },
    {
      "cell_type": "code",
      "execution_count": null,
      "metadata": {
        "id": "tpE8drWlCgx1"
      },
      "outputs": [],
      "source": []
    },
    {
      "cell_type": "markdown",
      "metadata": {
        "id": "PyMfmwxiCg9M"
      },
      "source": [
        "**Ejercicio 16**\n",
        "\n",
        "Escribir una función que reciba un arreglo numpy con el número de ventas de un producto por años y una cadena con el tipo de gráfico a generar (lineas, barras, sectores, areas) y devuelva un diagrama del tipo indicado con la evolución de las ventas por años y con el título “Evolución del número de ventas”."
      ]
    },
    {
      "cell_type": "code",
      "execution_count": null,
      "metadata": {
        "id": "r7Ede3ONChHJ"
      },
      "outputs": [],
      "source": []
    },
    {
      "cell_type": "markdown",
      "metadata": {
        "id": "3sVQwzcGChQE"
      },
      "source": [
        "**Ejercicio 17**\n",
        "\n",
        "Escribir una función que reciba una matriz numpy con los ingresos y gastos de una empresa por meses y devuelva un diagrama de líneas con dos líneas, una para los ingresos y otra para los gastos. El diagrama debe tener una leyenda identificando la línea de los ingresos y la de los gastos, un título con el nombre “Evolución de ingresos y gastos” y el eje y debe empezar en 0."
      ]
    },
    {
      "cell_type": "code",
      "execution_count": null,
      "metadata": {
        "id": "Xs5iawZJCha1"
      },
      "outputs": [],
      "source": []
    }
  ],
  "metadata": {
    "colab": {
      "provenance": []
    },
    "kernelspec": {
      "display_name": "Python 3",
      "name": "python3"
    },
    "language_info": {
      "codemirror_mode": {
        "name": "ipython",
        "version": 3
      },
      "file_extension": ".py",
      "mimetype": "text/x-python",
      "name": "python",
      "nbconvert_exporter": "python",
      "pygments_lexer": "ipython3",
      "version": "3.10.12"
    }
  },
  "nbformat": 4,
  "nbformat_minor": 0
}
