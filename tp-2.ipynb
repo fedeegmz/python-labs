{
  "cells": [
    {
      "cell_type": "markdown",
      "metadata": {
        "id": "tJaE2QJfW_n8"
      },
      "source": [
        "# **Práctico 2**\n"
      ]
    },
    {
      "cell_type": "markdown",
      "metadata": {
        "id": "LYkc84N-GjOl"
      },
      "source": [
        "## **1° Parte.** Definición de scripts con operadores aritméticos, funciones con operadores aritméticos"
      ]
    },
    {
      "cell_type": "markdown",
      "metadata": {
        "id": "7oIOWiihnZOk"
      },
      "source": [
        "**Ejercicio 1.** Definir un programa que devuelva la superficie de un rectángulo de lados de longitud 3 y  2.\n"
      ]
    },
    {
      "cell_type": "code",
      "execution_count": null,
      "metadata": {
        "colab": {
          "base_uri": "https://localhost:8080/"
        },
        "id": "PxycmTNBx7XV",
        "outputId": "d1912104-104a-485d-f903-4c32aec82f00"
      },
      "outputs": [],
      "source": [
        "def get_rectangle_area(m: float, n: float = 3):\n",
        "  return m * n\n",
        "\n",
        "print(f\"La superficie de un rectacngulo de 3x2 es {get_rectangle_area(3, 2)}\")"
      ]
    },
    {
      "cell_type": "markdown",
      "metadata": {
        "id": "ULK1Tl_SnZOn"
      },
      "source": [
        "**Ejercicio 2.** En los siguientes ítems se pide definir programas referidos a rectángulos en los que un lado mide el doble que el otro.\n",
        "\n",
        "Sea `x` una variable. Correr los programas que se piden definir más abajo con  `x = 1`,  `x = 2` y `x = 3`.\n",
        "\n",
        "1. Definir un programa que calcule el perímetro del rectángulo siendo  `x` el lado más corto.\n",
        "2.  Definir un programa que calcule la superficie del rectángulo siendo  `x` la longitud del lado más corto.\n",
        "3. Definir un programa que calcule  la superficie del rectángulo siendo  `x` la longitud del lado más largo. ¿Cuál operador de división habría que usar? ¿Por qué?\n",
        "4.  Definir un programa que calcule el perímetro del rectángulo siendo  `x` la longitud del lado más largo."
      ]
    },
    {
      "cell_type": "code",
      "execution_count": null,
      "metadata": {
        "colab": {
          "base_uri": "https://localhost:8080/"
        },
        "id": "fQYha5MknZOo",
        "outputId": "e26b0f7e-c92b-45be-f330-3d2d0738d7d6"
      },
      "outputs": [],
      "source": [
        "def get_rectangle_perimeter(m: float, n: float):\n",
        "  return (m * 2) + (n * 2)\n",
        "\n",
        "for i in range(1, 4):\n",
        "  print(f\"El perimetro de un rectangulo de {i}x{i * 2} es {get_rectangle_perimeter(i, i*2)}\")"
      ]
    },
    {
      "cell_type": "markdown",
      "metadata": {
        "id": "nZVp0zQfnZOp"
      },
      "source": [
        "**Ejercicio 3.** Sean `x = 5` e `y = 6`. Definir un programa que calcule  la superficie de un triángulo siendo  `x` la base e `y` la altura. ¿Cuál operador de división habría que usar?\n",
        "\n",
        "Calcular la superficie del triángulo con base `6` y altura`7`.\n",
        "\n"
      ]
    },
    {
      "cell_type": "code",
      "execution_count": null,
      "metadata": {
        "colab": {
          "base_uri": "https://localhost:8080/"
        },
        "id": "6EdO_5ZTnZOq",
        "outputId": "edf9ed68-5ac8-4573-b06b-c1508da5ce74"
      },
      "outputs": [],
      "source": [
        "def get_triangle_area(m: float, n: float):\n",
        "  return (m * n) / 2\n",
        "\n",
        "print(f\"El area de un triangulo de base 5 y altura 6 es {get_triangle_area(5, 6)}\")\n",
        "print(f\"El area de un triangulo de base 6 y altura 7 es {get_triangle_area(6, 7)}\")"
      ]
    },
    {
      "cell_type": "markdown",
      "metadata": {
        "id": "m1uO0457nZOq"
      },
      "source": [
        "**Ejercicio 4.** Sean `x = 3`, `y = 7`, `z = 5`. Definir un programa que calcule  el promedio de  `x`, `y` y  `z`. ¿Cuál operador de división habría que usar?\n",
        "\n",
        "Calcular el promedio  de  `5.2`, `6.8`, `7.1`.\n",
        "\n"
      ]
    },
    {
      "cell_type": "code",
      "execution_count": null,
      "metadata": {
        "colab": {
          "base_uri": "https://localhost:8080/"
        },
        "id": "R1qH28dQnZOr",
        "outputId": "e6bd667e-d9e6-4c20-a958-5e31cf8aa2ae"
      },
      "outputs": [],
      "source": [
        "from statistics import mean\n",
        "\n",
        "print(f\"El promedio entre 3, 7 y 5 es {mean([3, 5, 7])}\")"
      ]
    },
    {
      "cell_type": "markdown",
      "metadata": {
        "id": "2hhHvrxOnZOs"
      },
      "source": [
        "**Ejercicio 5.** Si hay `233` chocolates y `17` alumnos hacer un programa que calcule el número de chocolates que le tocará a cada estudiante. ¿Cuál operador de división habría que usar?\n",
        "\n",
        "¿Cuántos chocolates le quedarán al profe? (no usar el operador `%`).\n",
        "\n",
        "Hacer la misma cuenta con   `127` chocolates y `11` alumnos.\n"
      ]
    },
    {
      "cell_type": "code",
      "execution_count": null,
      "metadata": {
        "colab": {
          "base_uri": "https://localhost:8080/"
        },
        "id": "uO2Bf0p66YfI",
        "outputId": "8a6b798e-20fd-4799-f4c9-352873095294"
      },
      "outputs": [],
      "source": [
        "def calculator_chocolate(chocolates: int, students: int):\n",
        "  assert students != 0\n",
        "  chocolate_for_student = int(chocolates / students)\n",
        "  chocolate_for_teacher = chocolates - chocolate_for_student * students\n",
        "\n",
        "  return chocolate_for_student, chocolate_for_teacher\n",
        "\n",
        "print(f\"Si hay 233 chocolates y 17 alumnos le tocara {calculator_chocolate(233, 17)[0]} a cada alumno. Al profesor le quedara {calculator_chocolate(233, 17)[1]}\")\n",
        "print(f\"Si hay 127 chocolates y 11 alumnos le tocara {calculator_chocolate(127, 11)[0]} a cada alumno. Al profesor le quedara {calculator_chocolate(127, 11)[1]}\")"
      ]
    },
    {
      "cell_type": "markdown",
      "metadata": {
        "id": "dxg61KaQnZOt"
      },
      "source": [
        "\n",
        "\n",
        "**Ejercicio 6.** En los siguiente hacer los scripts correspondientes para valores de `x = 3`,  `x = 5`,  `x = 6`\n",
        "\n",
        "1. Calcular el radio de un círculo sabiendo que la medida de la circunferencia es `x `(ayuda: escribir `from numpy import pi` para poder utilizar la constante `pi`)\n",
        "2. Calcular la superficie de un círculo conociendo que su radio es `x`.\n",
        "3. Calcula la superficie de un círculo conociendo que la longitud de su circunferencia es  `x`."
      ]
    },
    {
      "cell_type": "code",
      "execution_count": null,
      "metadata": {
        "colab": {
          "base_uri": "https://localhost:8080/"
        },
        "id": "MG9jizt4nZOu",
        "outputId": "d5875aac-2178-4109-b623-e19f08bdb5bd"
      },
      "outputs": [],
      "source": [
        "from numpy import pi\n",
        "\n",
        "def get_circle_perimeter(r: float):\n",
        "  return 2 * pi * r\n",
        "\n",
        "print(f\"La superficie de un circulo de radio 3 es {get_circle_perimeter(3)}\")\n",
        "print(f\"La superficie de un circulo de radio 5 es {get_circle_perimeter(5)}\")\n",
        "print(f\"La superficie de un circulo de radio 6 es {get_circle_perimeter(6)}\")"
      ]
    },
    {
      "cell_type": "markdown",
      "metadata": {
        "id": "gGkMsQwlXxqV"
      },
      "source": [
        "**Ejercicio 7.** Definir una función que devuelva la superficie de un rectángulo de lado 3 conociendo la longitud del otro lado.\n"
      ]
    },
    {
      "cell_type": "markdown",
      "metadata": {
        "id": "z4cLJeMjrrs4"
      },
      "source": [
        "La función *_get_rectangle_perimeter(x)_* donde *x* es el otro lado retorna la superficie de un rectangulo de base 3 y altura *x*."
      ]
    },
    {
      "cell_type": "markdown",
      "metadata": {
        "id": "KxUV8CymiKNn"
      },
      "source": [
        "**Ejercicio 8.** En los siguientes ítems se pide definir una serie de funciones referidas a rectángulos en los que un lado mide el doble que el otro.\n",
        "\n",
        "1. Definir la función `perimetro_1x2()` que devuelve el perímetro del rectángulo conociendo la longitud del lado más corto.\n",
        "2. Definir la función `area_1x2()` que devuelve la superficie del rectángulo conociendo la longitud del lado más corto.\n",
        "3. Definir la función `area_2x1()` que devuelve la superficie del rectángulo conociendo la longitud del lado más largo. ¿Cuál operador de división habría que usar? ¿Por qué?\n",
        "4. Definir la función `perimetro_2x1()` que devuelve el perímetro del rectángulo conociendo la longitud del lado más largo."
      ]
    },
    {
      "cell_type": "code",
      "execution_count": null,
      "metadata": {
        "id": "R_RGlAmsi-nG"
      },
      "outputs": [],
      "source": []
    },
    {
      "cell_type": "markdown",
      "metadata": {
        "id": "_b1TZMdWiKWU"
      },
      "source": [
        "**Ejercicio 9.** Definir una función que calcula la superficie de un triángulo conociendo la base y la altura. ¿Cuál operador de división habría que usar?\n"
      ]
    },
    {
      "cell_type": "code",
      "execution_count": null,
      "metadata": {
        "id": "SLnPFOoWkuZ6"
      },
      "outputs": [],
      "source": []
    },
    {
      "cell_type": "markdown",
      "metadata": {
        "id": "2l_RrEJDiKiQ"
      },
      "source": [
        "**Ejercicio 10.** Definir una función que calcula el promedio de dos números dados. ¿Cuál operador de división habría que usar?\n",
        "\n"
      ]
    },
    {
      "cell_type": "code",
      "execution_count": null,
      "metadata": {
        "id": "dJFcohWLk1qq"
      },
      "outputs": [],
      "source": []
    },
    {
      "cell_type": "markdown",
      "metadata": {
        "id": "yuEgNcZgiKyH"
      },
      "source": [
        "**Ejercicio 11.** Definir una función que calcula el número de chocolates que le tocará a cada estudiante conociendo el número total de chocolates y la cantidad de estudiantes. ¿Cuál operador de división habría que usar?\n",
        "\n",
        "Definir una función que calcula el número de chocolates que quedará para el profe (no usar el operador `%`).\n"
      ]
    },
    {
      "cell_type": "code",
      "execution_count": null,
      "metadata": {
        "id": "5yooOWFxomKy"
      },
      "outputs": [],
      "source": []
    },
    {
      "cell_type": "markdown",
      "metadata": {
        "id": "iMHoCPUAiK8B"
      },
      "source": [
        "**Ejercicio 12.**\n",
        "\n",
        "1. Definir una función que calcula el radio de un círculo conociendo la medida de la circunferencia (ayuda: escribir `from numpy import pi` para poder utilizar la constante `pi`)\n",
        "2. Definir una función que calcula la superficie de un círculo conociendo su radio.\n",
        "3. Definir una función que calcula la superficie de un círculo conociendo su circunferencia."
      ]
    },
    {
      "cell_type": "code",
      "execution_count": null,
      "metadata": {
        "id": "r-etV-bbXyH8"
      },
      "outputs": [],
      "source": []
    },
    {
      "cell_type": "markdown",
      "metadata": {
        "id": "DD-J7AwcHfl_"
      },
      "source": [
        "##**2° Parte.** Definición de funciones, operador de módulo y operadores relacionales\n",
        "\n",
        "En  todas las definiciones de función incluir (como comentarios) precondición y postcondición.\n"
      ]
    },
    {
      "cell_type": "markdown",
      "metadata": {
        "id": "WJ6OezfMHfmI"
      },
      "source": [
        "**Ejercicio 13.** Dada las siguiente expresiones\n",
        "\n",
        "```\n",
        "(x != 0) and (5 // x == 2)\n",
        "```\n",
        "y\n",
        "\n",
        "```\n",
        "(5 // x == 2) and (x != 0)\n",
        "```\n",
        "Observar que son iguales salvo el orden en que  está ubicadas las expresiones entre paréntesis.\n",
        "\n",
        "1. Encontrar algún valor de `x` con el cual el resultado  de aplicarlo  a ambas expresiones es distinto.\n",
        "\n",
        "2. Explicar el funcionamiento de la evaluación de la disyunción que ocasiona que la disyunción no sea conmutativa.\n"
      ]
    },
    {
      "cell_type": "code",
      "execution_count": null,
      "metadata": {
        "id": "adh4HQtsboSK"
      },
      "outputs": [],
      "source": []
    },
    {
      "cell_type": "markdown",
      "metadata": {
        "id": "HCKmEtjl3c3-"
      },
      "source": [
        "\n",
        "**Ejercicio 14.** Definir una función que devuelve el valor absoluto de un número `float` (sin usar la función `abs()`).\n"
      ]
    },
    {
      "cell_type": "code",
      "execution_count": null,
      "metadata": {
        "id": "A7OnrOQgHfmI"
      },
      "outputs": [],
      "source": []
    },
    {
      "cell_type": "markdown",
      "metadata": {
        "id": "lcseCiOk4BU1"
      },
      "source": [
        "\n",
        "**Ejercicio 15.** Definir una función que determina si un `float` se encuentra entre -5 y 5 (inclusive).\n"
      ]
    },
    {
      "cell_type": "code",
      "execution_count": null,
      "metadata": {
        "id": "fgISO8AV4FBi"
      },
      "outputs": [],
      "source": []
    },
    {
      "cell_type": "markdown",
      "metadata": {
        "id": "yCUzxwy64Bg_"
      },
      "source": [
        "\n",
        "**Ejercicio 16.** Definir una función que determina si un número entero es o no par.\n"
      ]
    },
    {
      "cell_type": "code",
      "execution_count": null,
      "metadata": {
        "id": "-APZiNOX4Im1"
      },
      "outputs": [],
      "source": []
    },
    {
      "cell_type": "markdown",
      "metadata": {
        "id": "qEpIjfc44BoE"
      },
      "source": [
        "\n",
        "**Ejercicio 17.** Definir una función que determina si un número entero es o no múltiplo de 3."
      ]
    },
    {
      "cell_type": "code",
      "execution_count": null,
      "metadata": {
        "id": "xa2iCt0V4Lzh"
      },
      "outputs": [],
      "source": []
    },
    {
      "cell_type": "markdown",
      "metadata": {
        "id": "OrMgne1Y4Bt3"
      },
      "source": [
        "\n",
        "\n",
        "**Ejercicio 18.** Definir una función que determina si dados dos números `float` el valor absoluto del primero es menor o igual que el valor absoluto del segundo.\n"
      ]
    },
    {
      "cell_type": "code",
      "execution_count": null,
      "metadata": {
        "id": "Zrk4P9Tq4OZl"
      },
      "outputs": [],
      "source": []
    },
    {
      "cell_type": "markdown",
      "metadata": {
        "id": "ch2jhrIq4Bzj"
      },
      "source": [
        "\n",
        "**Ejercicio 19.** Definir una función que determina si dados dos números enteros el primero es o no múltiplo del segundo.\n"
      ]
    },
    {
      "cell_type": "code",
      "execution_count": null,
      "metadata": {
        "id": "DMog9jVh4Q19"
      },
      "outputs": [],
      "source": []
    },
    {
      "cell_type": "markdown",
      "metadata": {
        "id": "mM0THlZo4B5B"
      },
      "source": [
        "\n",
        "**Ejercicio 20.**  Definir una función que determina si dados dos números enteros el primero divide o no divide al segundo.\n"
      ]
    },
    {
      "cell_type": "code",
      "execution_count": null,
      "metadata": {
        "id": "EqH4iiX14S4r"
      },
      "outputs": [],
      "source": []
    },
    {
      "cell_type": "markdown",
      "metadata": {
        "id": "Lj7FnOfn4B-y"
      },
      "source": [
        "\n",
        "**Ejercicio 21.** Definir una función que determina si dados dos números enteros el cuadrado del primero es o no menor o igual al segundo."
      ]
    },
    {
      "cell_type": "code",
      "execution_count": null,
      "metadata": {
        "id": "UDvOjPqY4U1U"
      },
      "outputs": [],
      "source": []
    },
    {
      "cell_type": "markdown",
      "metadata": {
        "id": "L3wTWJW9IHqh"
      },
      "source": [
        "## **3° Parte.** Instrucciones condicionales"
      ]
    },
    {
      "cell_type": "markdown",
      "metadata": {
        "id": "CWpoWbeoIHqh"
      },
      "source": [
        "**Ejercicio 22.** Escribí un programa que solicite ingresar un número entero no negativo, luego otro número entero no negativo y luego los imprima en orden no descendente. ¿Por qué la consigna no dice más sencillamente \"en orden ascendente\"?"
      ]
    },
    {
      "cell_type": "code",
      "execution_count": null,
      "metadata": {
        "id": "o6XMHztIIHqh"
      },
      "outputs": [],
      "source": []
    },
    {
      "cell_type": "markdown",
      "metadata": {
        "id": "Ae3iSDvRIHqh"
      },
      "source": [
        "\n",
        "**Ejercicio 23.**\n",
        "Escribí un programa que solicite ingresar un número entero  no negativo, luego otro número entero no negativo, luego un tercer número entero  no negativo y luego los imprima en orden no descendente."
      ]
    },
    {
      "cell_type": "code",
      "execution_count": null,
      "metadata": {
        "id": "XDK6nUtPaZSs"
      },
      "outputs": [],
      "source": []
    },
    {
      "cell_type": "markdown",
      "metadata": {
        "id": "QKi6DlMTIHqi"
      },
      "source": [
        "\n",
        "**Ejercicio 24.**\n",
        "Escribí un programa que solicite ingresar un número entero no negativo y lo aloje en una variable x, luego otro número entero no negativo y lo aloje en otra variable y, luego intercambie los valores de ambas variables, y finalmente imprima los valores de x e y.\n",
        "\n",
        "\n"
      ]
    },
    {
      "cell_type": "code",
      "execution_count": null,
      "metadata": {
        "id": "Ac3znYphIHqi"
      },
      "outputs": [],
      "source": []
    },
    {
      "cell_type": "markdown",
      "metadata": {
        "id": "F33Q2rJ5IHqi"
      },
      "source": [
        "\n",
        "**Ejercicio 25.**\n",
        "Definir una función que determina si un año, dado por un número entero, se trata de un año bisiesto. Los años bisiestos son múltiplos de 4, como 2020 o 2068, a menos que sean múltiplos de 100, como 2100, 2200 y 2300, pero los múltiplos de 400, como 2000 y 2400 sí son bisiestos."
      ]
    },
    {
      "cell_type": "code",
      "execution_count": null,
      "metadata": {
        "id": "hdpkPXcHIHqi"
      },
      "outputs": [],
      "source": []
    },
    {
      "cell_type": "markdown",
      "metadata": {
        "id": "rLOGyNHjIHqi"
      },
      "source": [
        "\n",
        "**Ejercicio 26.**\n",
        "Definir una función que determina si una fecha, dada por un número de día, un número de mes y un número de año, es una fecha válida."
      ]
    },
    {
      "cell_type": "code",
      "execution_count": null,
      "metadata": {
        "id": "G3IfoIDWIHqi"
      },
      "outputs": [],
      "source": []
    }
  ],
  "metadata": {
    "colab": {
      "provenance": []
    },
    "kernelspec": {
      "display_name": "Python 3",
      "name": "python3"
    },
    "language_info": {
      "name": "python"
    }
  },
  "nbformat": 4,
  "nbformat_minor": 0
}
