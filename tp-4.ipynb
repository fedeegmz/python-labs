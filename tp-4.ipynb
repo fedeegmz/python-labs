{
  "nbformat": 4,
  "nbformat_minor": 0,
  "metadata": {
    "colab": {
      "provenance": []
    },
    "kernelspec": {
      "name": "python3",
      "display_name": "Python 3"
    },
    "language_info": {
      "name": "python"
    }
  },
  "cells": [
    {
      "cell_type": "markdown",
      "metadata": {
        "id": "f7MhyigAaW3j"
      },
      "source": [
        "#Práctico 4\n",
        "\n",
        "##**1° Parte.** Cadenas\n",
        "\n"
      ]
    },
    {
      "cell_type": "markdown",
      "metadata": {
        "id": "NCy4GGuAaXtr"
      },
      "source": [
        "**Ejercicio 1.** Escribir una función que recibe una cadena de caracteres y devuelve el número de letras `a` que hay en la cadena recibida.\n",
        "\n",
        "*Ejemplo.*\n",
        "\n",
        "\n",
        "```\n",
        "contar_a('sdaeraad') == 3 # devuelve 3\n",
        "contar_a('sdf ghhj aaa uiio abab') == 5 # devuelve 5\n",
        "```\n",
        "\n",
        "\n",
        "\n"
      ]
    },
    {
      "cell_type": "code",
      "source": [
        "def contar_a(string: str):\n",
        "  counter = 0\n",
        "  for elem in string:\n",
        "    if elem == 'a':\n",
        "      counter += 1\n",
        "  return counter\n",
        "\n",
        "def contar_a_v2(string: str):\n",
        "  return len([elem for elem in string if elem == 'a'])\n",
        "\n",
        "print(contar_a('sdaeraad'))\n",
        "print(contar_a_v2('sdaeraad'))"
      ],
      "metadata": {
        "id": "sPdPV6M3IqCn"
      },
      "execution_count": null,
      "outputs": []
    },
    {
      "cell_type": "markdown",
      "metadata": {
        "id": "DpLVu4edagki"
      },
      "source": [
        "**Ejercicio 2.**\n",
        "Escribir una función como la anterior, solo que cuenta todas las `a` mayúsculas y minúsculas.\n"
      ]
    },
    {
      "cell_type": "code",
      "source": [
        "def contar_a_min_mayus(string: str):\n",
        "  counter = 0\n",
        "  for elem in string:\n",
        "    if elem == 'a' or elem == 'A':\n",
        "      counter += 1\n",
        "  return counter"
      ],
      "metadata": {
        "id": "VbUUVfdkoJRI"
      },
      "execution_count": null,
      "outputs": []
    },
    {
      "cell_type": "markdown",
      "metadata": {
        "id": "0eeA4sU4aj_R"
      },
      "source": [
        "**Ejercicio 3.** Escribir una función que recibe una cadena de caracteres formada por `a`, `b` y `c` y devuelve 3 números. El primero de esos números es el número de letras `a`, el segundo es el número de letras `b` y el tercero es el número de letras `c`.\n",
        "\n",
        "\n",
        "\n",
        "*Ejemplo.*\n",
        "```\n",
        "contar_abc('aabbccaccbbb')\n",
        "```\n",
        "devuelve\n",
        "```\n",
        "3, 5, 4\n",
        "```\n",
        "\n"
      ]
    },
    {
      "cell_type": "code",
      "source": [
        "def contar_char(string: str, char: str):\n",
        "  counter = 0\n",
        "  for elem in string:\n",
        "    if elem == char:\n",
        "      counter += 1\n",
        "  return counter\n",
        "\n",
        "def contar_abc(string: str):\n",
        "  return contar_char(string, 'a'), contar_char(string, 'b'), contar_char(string, 'c')\n",
        "\n",
        "contar_abc('aabbccaccbbb')"
      ],
      "metadata": {
        "id": "pgvVyCnrIu-d"
      },
      "execution_count": null,
      "outputs": []
    },
    {
      "cell_type": "markdown",
      "metadata": {
        "id": "hJcYyT-oakUU"
      },
      "source": [
        "**Ejercicio 4.**  Igual que el anterior, pero ahora se pueden ingresar mayúsculas  y se cuentan las `a` junto con las `A`, las `b` junto con `B` y las `c` junto con `C`.\n",
        "\n",
        "*Ejemplo.*\n",
        "```\n",
        "contar_aAbBcC('aABbcCaccbbb')\n",
        "```\n",
        "devuelve\n",
        "```\n",
        "3, 5, 4\n",
        "```"
      ]
    },
    {
      "cell_type": "code",
      "metadata": {
        "id": "B01l6vhDakde"
      },
      "source": [
        "def contar_aAbBcC(string: str):\n",
        "  q_aA = contar_char(string, 'a') + contar_char(string, 'A')\n",
        "  q_bB = contar_char(string, 'b') + contar_char(string, 'B')\n",
        "  q_cC = contar_char(string, 'c') + contar_char(string, 'C')\n",
        "  return q_aA, q_bB, q_cC\n",
        "\n",
        "contar_aAbBcC('aABbcCaccbbb')"
      ],
      "execution_count": null,
      "outputs": []
    },
    {
      "cell_type": "markdown",
      "metadata": {
        "id": "1GEN6ftXakoR"
      },
      "source": [
        "**Ejercicio 5.** Definir una función que recibe 3 números enteros no negativos y devuelve una cadena de caracteres con tantas `a` como dice el primer número de la lista, tantas `b` como dice el segundo y tantas `c` como dice el tercero.\n",
        "*Ejemplo.*\n",
        "```\n",
        "numeros_cadena(3, 5, 4)\n",
        "```\n",
        "devuelve\n",
        "```\n",
        "aaabbbbbcccc\n",
        "```"
      ]
    },
    {
      "cell_type": "code",
      "source": [
        "def numeros_cadena(a: int, b: int, c: int):\n",
        "  return 'a' * a + 'b' * b + 'c' * c\n",
        "\n",
        "numeros_cadena(3, 5, 4)"
      ],
      "metadata": {
        "id": "Z17r5aaZI0NT"
      },
      "execution_count": null,
      "outputs": []
    },
    {
      "cell_type": "markdown",
      "metadata": {
        "id": "HbdezIa4ak8L"
      },
      "source": [
        "**Ejercicio 6.** Definir una función que recibe una cadena de caracteres con letras `a`, `b` y `c`, minúsculas o mayúsculas, y devuelve una permutación *ordenada* de esa cadena. Por ejemplo, si recibe `aABbcCaccbbb` devuelve `aaabbbbbcccc`. Debería poder hacerse en pocas líneas combinando las soluciones a los ejercicios 4 y 5.\n",
        "\n",
        "*Observación.* Si una función devuelve múltiples valores, podemos recuperar estos valores con una asignación múltiple. Por ejemplo, con la notación del  enunciado del ejercicio 4, si hacemos\n",
        "```\n",
        "na, nb, nc = contar_aAbBcC('aABbcCaccbbb')\n",
        "```\n",
        "obtenemos que  `na` vale 3,  `nb` vale 5 y `nc` vale 4."
      ]
    },
    {
      "cell_type": "code",
      "metadata": {
        "id": "_8K7rkpLalFc"
      },
      "source": [
        "def numeros_cadena_min_mayus(string: str):\n",
        "  a, b, c = contar_aAbBcC(string)\n",
        "  return numeros_cadena(a, b, c)\n",
        "\n",
        "print(numeros_cadena_min_mayus('aABbcCaccbbb'))"
      ],
      "execution_count": null,
      "outputs": []
    },
    {
      "cell_type": "markdown",
      "source": [
        "##**2° Parte.** Listas"
      ],
      "metadata": {
        "id": "xgA3Y4gS_VkL"
      }
    },
    {
      "cell_type": "markdown",
      "metadata": {
        "id": "gGkMsQwlXxqV"
      },
      "source": [
        "**Ejercicio 1.** Escribir las sentencias necesarias para hacer lo siguiente:\n",
        "\n",
        "1. Crear una lista con 100 valores booleanos falsos.\n",
        "2. Asignar el valor `5.5` al último elemento de una lista.\n",
        "3. Mostrar la suma de los dos primeros elementos de una lista.\n",
        "4. Calcular la suma de los cinco primeros elementos de la lista.\n",
        "5. Encuentrar el elemento mínimo de una lista numérica (sin usar `min`).\n",
        "6. Generar aleatoriamente un índice y mostrar el elemento de este índice en la lista.\n"
      ]
    },
    {
      "cell_type": "code",
      "metadata": {
        "id": "r-etV-bbXyH8",
        "colab": {
          "base_uri": "https://localhost:8080/"
        },
        "outputId": "f90b80d0-0f03-440e-e394-5ab05fec6480"
      },
      "source": [
        "# 1.1\n",
        "false_list: list = [False] * 100\n",
        "\n",
        "# 1.2\n",
        "false_list[-1] = 5.5\n",
        "print(false_list)\n",
        "\n",
        "# 1.3\n",
        "example : list = [2, 5, 7, 3, 8, 3, 5, 1]\n",
        "print(f'suma elemento 1 y 2: {example[0] + example[1]}')\n",
        "\n",
        "# 1.4\n",
        "sum = 0\n",
        "for elem in example[:5]:\n",
        "  sum += elem\n",
        "print(f'La suma de los 5 primeros es: {sum}')\n",
        "\n",
        "# 1.5\n",
        "min_elem = example[0]\n",
        "for elem in example:\n",
        "  if elem < min_elem:\n",
        "    min_elem = elem\n",
        "print(f'El menor elemento es: {min_elem}')\n",
        "\n",
        "# 1.6\n",
        "from random import randint\n",
        "print(example[randint(0, len(example))])"
      ],
      "execution_count": null,
      "outputs": [
        {
          "output_type": "stream",
          "name": "stdout",
          "text": [
            "[False, False, False, False, False, False, False, False, False, False, False, False, False, False, False, False, False, False, False, False, False, False, False, False, False, False, False, False, False, False, False, False, False, False, False, False, False, False, False, False, False, False, False, False, False, False, False, False, False, False, False, False, False, False, False, False, False, False, False, False, False, False, False, False, False, False, False, False, False, False, False, False, False, False, False, False, False, False, False, False, False, False, False, False, False, False, False, False, False, False, False, False, False, False, False, False, False, False, False, 5.5]\n",
            "suma elemento 1 y 2: 7\n",
            "La suma de los 5 primeros es: 25\n",
            "El menor elemento es: 1\n",
            "7\n"
          ]
        }
      ]
    },
    {
      "cell_type": "markdown",
      "metadata": {
        "id": "YDW5rDNzXy-3"
      },
      "source": [
        "**Ejercicio 2.** Predecir y explicar el porqué del comportamiento de cada uno de los siguentes programas."
      ]
    },
    {
      "cell_type": "code",
      "metadata": {
        "id": "DwqgH2_xXzJz"
      },
      "source": [
        "def main():\n",
        "    numero = 0\n",
        "    numeros = [10]\n",
        "    m(numero, numeros)\n",
        "    print(\"numero es\", numero, \"y numeros[0] es\", numeros[0])\n",
        "\n",
        "def m(x, y):\n",
        "    x = 3\n",
        "    y[0] = 3\n",
        "\n",
        "main()"
      ],
      "execution_count": null,
      "outputs": []
    },
    {
      "cell_type": "code",
      "metadata": {
        "id": "yXE9LZSSceUE"
      },
      "source": [
        "def main():\n",
        "    lst = [1, 2, 3, 4, 5]\n",
        "    reverse(lst)\n",
        "    for value in lst:\n",
        "        print(value, end = ' ')\n",
        "\n",
        "def reverse(lst):\n",
        "    newLst = len(lst) * [0]\n",
        "    for i in range(len(lst)):\n",
        "        newLst[i] = lst[len(lst) - 1 - i]\n",
        "    lst = newLst\n",
        "\n",
        "main()"
      ],
      "execution_count": null,
      "outputs": []
    },
    {
      "cell_type": "code",
      "metadata": {
        "id": "lXLR8Nclcecv"
      },
      "source": [
        "def main():\n",
        "    list1 = m(1)\n",
        "    print(list1)\n",
        "    list2 = m(1)\n",
        "    print(list2)\n",
        "\n",
        "def m(x, lst = [1, 1, 2, 3]):\n",
        "    if x in lst:\n",
        "        lst.remove(x)\n",
        "    return lst\n",
        "\n",
        "main()"
      ],
      "execution_count": null,
      "outputs": []
    },
    {
      "cell_type": "code",
      "metadata": {
        "id": "GuwUGNpKcelp"
      },
      "source": [
        "def main():\n",
        "    list1 = m(1)\n",
        "    print(list1)\n",
        "    list2 = m(1)\n",
        "    print(list2)\n",
        "\n",
        "def m(x, lst = None):\n",
        "    if lst == None:\n",
        "        lst = [1, 1, 2, 3]\n",
        "    if x in lst:\n",
        "        lst.remove(x)\n",
        "    return lst\n",
        "\n",
        "main()"
      ],
      "execution_count": null,
      "outputs": []
    },
    {
      "cell_type": "markdown",
      "metadata": {
        "id": "DnQpkLjSXzUS"
      },
      "source": [
        "**Ejercicio 3.**\n",
        "Definir una función que dado un número natural `n >= 2` devuelve la lista de todos los números primos entre `2` y `n-1`. Pueden usar que `list(range(2,n))` es la lista de todos los números entre `2` y `n-1`.\n"
      ]
    },
    {
      "cell_type": "code",
      "metadata": {
        "id": "ttevvr1GXzew"
      },
      "source": [],
      "execution_count": null,
      "outputs": []
    },
    {
      "cell_type": "markdown",
      "metadata": {
        "id": "fIYe2uPHXzpC"
      },
      "source": [
        "**Ejercicio 4.** Escribir una función que recibe una lista y dos posiciones de la lista e intercambia los valores que hay en esas posiciones. No lleva `return` porque modifica la propia lista que recibe como parámetro. Acá podemos usar el `assert` para asegurarnos que las posiciones pertenezcan a la lista.\n"
      ]
    },
    {
      "cell_type": "code",
      "metadata": {
        "id": "Ew-S2nhKXz1b"
      },
      "source": [],
      "execution_count": null,
      "outputs": []
    },
    {
      "cell_type": "markdown",
      "metadata": {
        "id": "nEly6ZIoYx1t"
      },
      "source": [
        "**Ejercicio 5.** Escribir una función que  dado un elemento, devuelve la posición que ese elemento tiene en la lista. Si el elemento no está en la lista devuelve `-1`."
      ]
    },
    {
      "cell_type": "code",
      "source": [],
      "metadata": {
        "id": "ATb38YZ9xmW2"
      },
      "execution_count": null,
      "outputs": []
    },
    {
      "cell_type": "markdown",
      "metadata": {
        "id": "QaWIBkeOYymB"
      },
      "source": [
        "**Ejercicio 6.** Escribir una función que devuelve el menor elemento de la lista a partir de un cierto índice: esta función recibe la lista y un índice de la lista y devuelve el menor elemento desde ese índice en adelante.\n"
      ]
    },
    {
      "cell_type": "code",
      "metadata": {
        "id": "btqimAETYzES"
      },
      "source": [],
      "execution_count": null,
      "outputs": []
    },
    {
      "cell_type": "markdown",
      "metadata": {
        "id": "_MkIMSmaYzQx"
      },
      "source": [
        "**Ejercicio 7.** Igual que el ejercicio anterior pero devuelve la posición de ese elemento."
      ]
    },
    {
      "cell_type": "code",
      "metadata": {
        "id": "tskmakVzYzqQ"
      },
      "source": [],
      "execution_count": null,
      "outputs": []
    },
    {
      "cell_type": "markdown",
      "metadata": {
        "id": "ycvMEcY__J-w"
      },
      "source": [
        "<a name=\"ej08\">**Ejercicio 8.**</a>  Escribir una función que recibe una cadena de caracteres y devuelve una lista de 26 números. El primero de esos números (el que se encuentra en la posición 0 de la lista) es el número de letras `a`. El segundo es el número de letras `b`, etc. El último, es el número de letras `z`.\n",
        "\n",
        "*Observación.* La posición 0 de la lista que se devuelve corresponde a la letra `a`, la posición 1 corresponde a la letra `b`, etc.\n",
        "\n",
        "En general las posiciones de las letras está dadas por\n",
        "```\n",
        "letras = ['a', 'b', 'c', 'd', 'e', 'f', 'g', 'h', 'i', 'j', 'k', 'l', 'm', 'n', 'o', 'p', 'q', 'r', 's', 't', 'u', 'v', 'w', 'x', 'y', 'z']\n",
        "```\n",
        "\n",
        "*Ejemplo.*\n",
        "```\n",
        "contar_letras('sdaeraad') = [3, 0, 0, 2, 1, 0, ...]\n",
        "```\n",
        "\n"
      ]
    },
    {
      "cell_type": "code",
      "metadata": {
        "id": "0iil3eFjakK1"
      },
      "source": [],
      "execution_count": null,
      "outputs": []
    },
    {
      "cell_type": "markdown",
      "metadata": {
        "id": "O_MRWMWv_J-w"
      },
      "source": [
        "<a name=\"ej09\">**Ejercicio 9.**</a> Definir una función que recibe una lista de 26 números y devuelve una cadena de caracteres con tantas `a` como dice el primer número de la lista, tantas `b` como dice el segundo, etc."
      ]
    },
    {
      "cell_type": "code",
      "metadata": {
        "id": "JZZO6sIMakxM"
      },
      "source": [],
      "execution_count": null,
      "outputs": []
    },
    {
      "cell_type": "markdown",
      "metadata": {
        "id": "TI6I1pHc_J-w"
      },
      "source": [
        "**Ejercicio 10.** Definir una función que recibe una cadena de caracteres y devuelve una permutación *ordenada* de esa cadena. Por ejemplo, si recibe `abracadabra, pata de cabra` devuelve `aaaaaaaaabbbccddeprrrt`. Debería poder hacerse combinando las soluciones a los ejercicios [8](#ej1) y [9](#ej9)."
      ]
    },
    {
      "cell_type": "code",
      "metadata": {
        "id": "XzQcPLIn_J-w"
      },
      "source": [],
      "execution_count": null,
      "outputs": []
    },
    {
      "cell_type": "markdown",
      "metadata": {
        "id": "wm-aaVe7Eq1O"
      },
      "source": [
        "##**3° Parte.** Diccionarios y conjuntos"
      ]
    },
    {
      "cell_type": "markdown",
      "metadata": {
        "id": "LB5LbLTsE1Gn"
      },
      "source": [
        "**Ejercicio 1.**  Usá un diccionario para almacenar información sobre una persona que conocés.\n",
        "Guardá su nombre, apellido, edad y la ciudad en la que vive. Debe tener claves como `nombre`, `apellido`, `edad` y `ciudad`. Imprimir cada campo del diccionario."
      ]
    },
    {
      "cell_type": "code",
      "metadata": {
        "id": "oDr2PHrlFDYY"
      },
      "source": [],
      "execution_count": null,
      "outputs": []
    },
    {
      "cell_type": "markdown",
      "metadata": {
        "id": "Fo-ezAgoE_C-"
      },
      "source": [
        "**Ejercicio 2.**  Usar un diccionario para almacenar el equipo de fútbol preferido de las personas.\n",
        "Pensá en cinco nombres y utilízalos como claves en tu diccionario. Por cada persona almacená el equipo de fútbol  como un valor en su diccionario (si no la conocés, inventalo).\n",
        "\n",
        "Imprimí el nombre de cada persona y su el equipo de fútbol favorito."
      ]
    },
    {
      "cell_type": "code",
      "metadata": {
        "id": "YQs90RX8EKkp"
      },
      "source": [],
      "execution_count": null,
      "outputs": []
    },
    {
      "cell_type": "markdown",
      "metadata": {
        "id": "cOjb5pnIFMkz"
      },
      "source": [
        "**Ejercicio 3.** Glosario: se puede utilizar un diccionario de Python para modelar un diccionario real.\n",
        "Sin embargo, para evitar confusiones, llamémoslo glosario.\n",
        "- Pensá en cinco palabras de programación que hayas aprendido en las lecciones anteriores. Utilizá estas palabras como claves en tu glosario y almacená sus\n",
        "significados como valores.\n",
        "- Imprimí cada palabra y su significado como una salida con un formato prolijo. Se podría imprimir la palabra seguida de dos puntos y luego su significado, o imprimir la palabra en una línea y luego imprimir su significado con sangría en una segunda línea. Utilizá el carácter de nueva línea (`\\n`) para insertar una línea en blanco entre el significado de cada palabra y la palabra siguiente.\n"
      ]
    },
    {
      "cell_type": "code",
      "metadata": {
        "id": "Oirei7lzFM83"
      },
      "source": [
        "glosario = {} # equivalentemente, glosario = dict()\n",
        "glosario['lista'] = 'aaaa bbbb ccc'\n",
        "glosario['cadena'] = 'dsafAS SDVSD agfdg'\n",
        "glosario['in'] = 'sdf gyjjtj jh'\n"
      ],
      "execution_count": null,
      "outputs": []
    },
    {
      "cell_type": "code",
      "source": [
        "for palabra in glosario:\n",
        "    print(palabra + ': ' + glosario[palabra])"
      ],
      "metadata": {
        "colab": {
          "base_uri": "https://localhost:8080/"
        },
        "id": "VTKQa4n4SEUA",
        "outputId": "45f5406c-509f-4b66-b8ba-e07e7d734930"
      },
      "execution_count": null,
      "outputs": [
        {
          "output_type": "stream",
          "name": "stdout",
          "text": [
            "lista: aaaa bbbb ccc\n",
            "cadena: dsafAS SDVSD agfdg\n",
            "in: sdf gyjjtj jh\n"
          ]
        }
      ]
    },
    {
      "cell_type": "code",
      "source": [
        "for palabra in glosario:\n",
        "    print(palabra + '\\n\\t' + glosario[palabra])"
      ],
      "metadata": {
        "colab": {
          "base_uri": "https://localhost:8080/"
        },
        "id": "OE3YF0OlSdaT",
        "outputId": "f820453b-df1c-4b2d-ef61-80605c9a3d29"
      },
      "execution_count": null,
      "outputs": [
        {
          "output_type": "stream",
          "name": "stdout",
          "text": [
            "lista\n",
            "\taaaa bbbb ccc\n",
            "cadena\n",
            "\tdsafAS SDVSD agfdg\n",
            "in\n",
            "\tsdf gyjjtj jh\n"
          ]
        }
      ]
    },
    {
      "cell_type": "markdown",
      "metadata": {
        "id": "9PBuG1vzH5s6"
      },
      "source": [
        "**Ejercicio 4.**  Ríos: hacé un diccionario que contenga tres ríos y el país que atraviesa cada río. Un par clave-valor podría ser `nilo`: `egipto` (aunque el Nilo  pasa por varios paises).\n",
        "- Usá un bucle para imprimir una oración sobre cada río, como *El Nilo corre\n",
        "a través de Egipto* (esta cadenas no están en el diccionario).\n",
        "-  Utilizá un bucle para imprimir el nombre de cada río incluido en el diccionario.\n",
        "- Utilizá un bucle para imprimir el nombre de cada país incluido en el diccionario.\n",
        "\n"
      ]
    },
    {
      "cell_type": "code",
      "metadata": {
        "id": "Ag-0cmb4H59l"
      },
      "source": [],
      "execution_count": null,
      "outputs": []
    },
    {
      "cell_type": "markdown",
      "metadata": {
        "id": "1GuUDqEYJQCl"
      },
      "source": [
        "**Ejercicio 5.** Personas: comenzá con el programa que escribiste para el ejercicio 1. Creá dos nuevos diccionarios que representen a diferentes personas y almacená los tres diccionarios en una lista llamada `personas`.\n",
        "\n",
        "Recorré la lista de personas.\n",
        "\n",
        "Mientras vayas recorriendo  la lista, imprimí todo lo que sepa sobre cada persona.\n"
      ]
    },
    {
      "cell_type": "code",
      "metadata": {
        "id": "Xu3x5zb8JT23"
      },
      "source": [],
      "execution_count": null,
      "outputs": []
    },
    {
      "cell_type": "markdown",
      "metadata": {
        "id": "RnlkL88jJUNY"
      },
      "source": [
        "**Ejercicio 6.** Lista de diccionarios. Hacé varios diccionarios, donde cada diccionario represente una mascota diferente. En cada diccionario, incluí el tipo de animal y el nombre del propietario.\n",
        "\n",
        "Guardá estos diccionarios en una lista llamada `mascotas`. A continuación, recorré tu lista y e imprimí todo lo que sabés sobre cada mascota.\n"
      ]
    },
    {
      "cell_type": "code",
      "metadata": {
        "id": "g7fg77UhJXil"
      },
      "source": [],
      "execution_count": null,
      "outputs": []
    },
    {
      "cell_type": "markdown",
      "metadata": {
        "id": "8u6eElTdJYtr"
      },
      "source": [
        "**Ejercicio 7.** Lugares favoritos. Creá un diccionario llamado `lugares_favoritos`. Pensá en tres nombres de personas para usar como claves en el diccionario y almacená de uno a tres lugares favoritos por cada persona.\n",
        "\n",
        "Recorré el diccionario e imprimí el nombre de cada persona y sus lugares favoritos.\n"
      ]
    },
    {
      "cell_type": "code",
      "metadata": {
        "id": "tBekky1_JbQX"
      },
      "source": [],
      "execution_count": null,
      "outputs": []
    },
    {
      "cell_type": "markdown",
      "metadata": {
        "id": "p52cjGprJb14"
      },
      "source": [
        "**Ejercicio 8.** Modificá su programa del ejercicio 2 para que cada persona pueda tener más de un equipo favorito (sí, eso puede ocurrir...). Luego imprimí el nombre de cada persona junto  su/sus equipo/s favorito/s.\n"
      ]
    },
    {
      "cell_type": "code",
      "metadata": {
        "id": "c5IeMf7NJdoZ"
      },
      "source": [],
      "execution_count": null,
      "outputs": []
    },
    {
      "cell_type": "markdown",
      "metadata": {
        "id": "zWu-ID1EJeL_"
      },
      "source": [
        "**Ejercicio 9.** Diccionario de diccionarios.  Hacé un diccionario llamado `ciudades`. Utilizá los nombres de tres ciudades como claves en tu diccionario. Por cada ciudad, creá un diccionario de información sobre ella que incluya el país en el que se encuentra, su población aproximada y un hecho relevante sobre esa ciudad.\n",
        "\n",
        "Las claves del diccionario de cada ciudad deberían ser algo así como\n",
        "`país`, `población` y `hecho`.\n",
        "\n",
        "Imprimí  el nombre de cada ciudad y toda la información información que ha almacenado sobre ella.\n"
      ]
    },
    {
      "cell_type": "code",
      "metadata": {
        "id": "EZSA1RygJg4s"
      },
      "source": [],
      "execution_count": null,
      "outputs": []
    },
    {
      "cell_type": "markdown",
      "source": [
        "**Ejercicio 10.**\n",
        "<ol type=\"a\">\n",
        "  <li>Escribir una función que tome dos conjuntos como parámetros y devuelva su unión.</li>\n",
        "  <li>Escribir una función que tome dos conjuntos como parámetros y devuelva su intersección.</li>\n",
        "  <li>Escribir una función que tome un conjunto y un elemento como parámetros, y agregue ese elemento al conjunto.</li>\n",
        "  <li>Escribir una función que tome una lista de conjuntos como parámetro y devuelva la intersección de todos ellos.</li>\n",
        "</ol>"
      ],
      "metadata": {
        "id": "mEUoZBoL-h71"
      }
    },
    {
      "cell_type": "code",
      "source": [],
      "metadata": {
        "id": "yRSDr7_T_VeS"
      },
      "execution_count": null,
      "outputs": []
    },
    {
      "cell_type": "markdown",
      "source": [
        "**Ejercicio 11.**\n",
        "\n",
        "<ol type=\"a\">\n",
        "  <li>Escribir una función que tome una lista y un conjunto como parámetros, y verifique si todos los elementos de la lista están presentes en el conjunto.</li>\n",
        "  <li>Escribir una función que tome una lista como parámetro y devuelva una nueva lista sin elementos duplicados, utilizando conjuntos.</li>\n",
        "</ol>\n",
        "\n",
        "\n"
      ],
      "metadata": {
        "id": "G_JX8ihd_WAC"
      }
    },
    {
      "cell_type": "code",
      "source": [],
      "metadata": {
        "id": "8oecCuI3_9Ka"
      },
      "execution_count": null,
      "outputs": []
    },
    {
      "cell_type": "markdown",
      "source": [],
      "metadata": {
        "id": "wT-4bObhAhZp"
      }
    },
    {
      "cell_type": "markdown",
      "source": [
        "**Ejercicio 12.** El número que tiene la mayor frecuencia en una serie se conoce como la *moda* de la serie. La moda es el valor que aparece con mayor frecuencia o repetición en un conjunto de datos. En otras palabras, es el número que se repite más veces en la serie.\n",
        "\n",
        "Por ejemplo, en la serie $\\{2, 4, 4, 6, 6, 6, 8\\}$, el número $6$ es la moda, ya que se repite más veces que cualquier otro número en la serie.\n",
        "\n",
        "Es importante tener en cuenta que una serie puede tener múltiples modas si varios números tienen la misma frecuencia máxima. En tal caso, se dice que la serie tiene *múltiples modas.*\n",
        "\n",
        "Escribir la función `moda()` que devuelva la moda de una lista de números enteros. Si hay múltiples módas devuelve alguna de ellas.\n",
        "\n",
        "Solo se permite,  a nivel de operaciónes, métodos o funciones en listas, acceder para leer o modificar los elementos de una lista por el índice. En el caso de diccionarios acceder para leer o modificar a elementos por su clave. No está permitido utilizar  `max()`, `sorted()` o métodos similares.\n",
        "\n",
        "Para implementar la función `moda()` puede seguir los siguientes pasos:\n",
        "\n",
        "1. Hacer un diccionario donde las claves son los elementos de la lista y los valores son la cantidad de repeticiones de cada elemento en la lista.\n",
        "2. Encontrar y devolver una de las claves del diccionario cuyo valor sea máximo.\n",
        "\n"
      ],
      "metadata": {
        "id": "YwsKx4t71kww"
      }
    },
    {
      "cell_type": "code",
      "source": [],
      "metadata": {
        "id": "QifeOzP-_5vP"
      },
      "execution_count": null,
      "outputs": []
    },
    {
      "cell_type": "markdown",
      "source": [
        "##**4° Parte.** Definiciones por comprensión"
      ],
      "metadata": {
        "id": "HoeQV1Mu_5nd"
      }
    },
    {
      "cell_type": "markdown",
      "metadata": {
        "id": "vr7bN4LiADXQ"
      },
      "source": [
        "**Ejercicio 1.**  Crear una lista con los números impares entre 50 y 100."
      ]
    },
    {
      "cell_type": "code",
      "metadata": {
        "id": "_n5YHpGZADXZ"
      },
      "source": [],
      "execution_count": null,
      "outputs": []
    },
    {
      "cell_type": "markdown",
      "metadata": {
        "id": "wckuUb1uADXa"
      },
      "source": [
        "**Ejercicio 2.**  Crear una lista de los nombres de las personas en una lista dada que tienen más de 4 caracteres."
      ]
    },
    {
      "cell_type": "code",
      "metadata": {
        "id": "OkBv7dzcADXa"
      },
      "source": [
        "nombres = [\"Juan\", \"María\", \"Pedro\", \"Ana\", \"Pablo\", \"Gabriel\"]\n",
        "nombres_largos = [] # reemplazar [] por una lista por comprensión"
      ],
      "execution_count": null,
      "outputs": []
    },
    {
      "cell_type": "markdown",
      "metadata": {
        "id": "-hX0sJ5pADXa"
      },
      "source": [
        "**Ejercicio 3.** Crear una lista de las palabras en una cadena dada que tienen más de 3 letras.\n"
      ]
    },
    {
      "cell_type": "code",
      "metadata": {
        "id": "BDIRx1coADXa"
      },
      "source": [
        "cadena = \"Hola mundo, esto es una cadena de prueba\"\n",
        "palabras = cadena.split() # crea una lista con cada una de las palabras\n",
        "palabras_largas = [] # reemplazar [] por una lista por comprensión"
      ],
      "execution_count": null,
      "outputs": []
    },
    {
      "cell_type": "markdown",
      "metadata": {
        "id": "CiY3rLE5ADXa"
      },
      "source": [
        "**Ejercicio 4.**  Crear un diccionario a partir de una lista de tuplas, donde la clave es el primer elemento de la tupla y el valor es el segundo elemento."
      ]
    },
    {
      "cell_type": "code",
      "metadata": {
        "id": "3O6FS3lNADXa"
      },
      "source": [
        "lista_tuplas = [(1, \"uno\"), (2, \"dos\"), (3, \"tres\")]\n",
        "diccionario = {} # reemplazar {} por un diccionario por comprensión"
      ],
      "execution_count": null,
      "outputs": []
    },
    {
      "cell_type": "markdown",
      "metadata": {
        "id": "vE-cPpbpADXa"
      },
      "source": [
        "**Ejercicio 5.** Crear un diccionario a partir de dos listas de igual longitud, donde la clave es el elemento de la primera lista y el valor es el elemento correspondiente de la segunda lista."
      ]
    },
    {
      "cell_type": "code",
      "metadata": {
        "id": "B-ooC6ykADXb"
      },
      "source": [
        "keys = [\"nombre\", \"edad\", \"ciudad\"]\n",
        "values = [\"Juan\", 25, \"Madrid\"]\n",
        "diccionario = {} # reemplazar {} por un diccionario por comprensión\n"
      ],
      "execution_count": null,
      "outputs": []
    },
    {
      "cell_type": "markdown",
      "metadata": {
        "id": "v9H7IhoqADXb"
      },
      "source": [
        "**Ejercicio 6.** Crear una lista de los números pares y los números impares de 1 a 10, donde los números pares son multiplicados por 2 y los impares son multiplicados por 3.\n"
      ]
    },
    {
      "cell_type": "code",
      "metadata": {
        "id": "khYyv4-GADXb"
      },
      "source": [],
      "execution_count": null,
      "outputs": []
    },
    {
      "cell_type": "markdown",
      "metadata": {
        "id": "kgXuMDUUADXb"
      },
      "source": [
        "**Ejercicio 7.** Crear una lista de los nombres de una lista dada donde los nombres que comienzan por `A` son reemplazados por `Nombre empieza por A` y los demás nombres por `Nombre no empieza por A`.\n",
        "\n",
        "\n"
      ]
    },
    {
      "cell_type": "code",
      "metadata": {
        "id": "bBF92qaIADXb"
      },
      "source": [
        "nombres = [\"Ana\", \"Pedro\", \"Luis\", \"Alberto\"]\n",
        "resultado = [] # reemplazar [] por una lista por comprensión"
      ],
      "execution_count": null,
      "outputs": []
    },
    {
      "cell_type": "markdown",
      "metadata": {
        "id": "edk1j1J2ADXb"
      },
      "source": [
        "**Ejercicio 8 (pivotear).** Dada una lista de números (enteros o punto flotante)  y un número `x` de la lista,  *pivotear la lista por `x`* es reorganizar los elementos de la lista de manera que todos los elementos menores o iguales a `x` estén a la izquierda de `x` y todos los elementos mayores a `x` estén a la derecha de `x`.\n",
        "\n",
        "Por  ejemplo, dada la lista\n",
        "\n",
        "    [6, 3, 5, 4, 8, 7, 6, 5, 2, 3]\n",
        "    \n",
        "La lista pivoteada por `4` resultaría\n",
        "\n",
        "    [2, 3, 3, 4, 5, 6, 8, 7, 6, 5]\n",
        "\n",
        "Obviamente, puede haber más de una forma de pivotear la lista.\n",
        "\n",
        "Dada la lista `lista_num`, usando listas por comprensión construya una lista que es la original pivoteada por el primer elemento. Va a ser necesario hacer más de una lista por comprensión."
      ]
    },
    {
      "cell_type": "code",
      "metadata": {
        "id": "hmCKKGlWADXb"
      },
      "source": [
        "# Esta celda nos prermite hacer tests\n",
        "from random import randint\n",
        "lista_num = [randint(1,20) for _ in range(10)] # lista de 10 números enteros al azar de 1 a 20\n",
        "print(lista_num)"
      ],
      "execution_count": null,
      "outputs": []
    },
    {
      "cell_type": "code",
      "metadata": {
        "id": "zWClalRCADXb"
      },
      "source": [
        "pivoteada = []\n",
        "print(pivoteada)"
      ],
      "execution_count": null,
      "outputs": []
    }
  ]
}