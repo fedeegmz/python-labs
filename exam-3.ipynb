{
  "cells": [
    {
      "cell_type": "markdown",
      "metadata": {
        "id": "s-Kal5lP3PI4"
      },
      "source": [
        "# Parcial 3\n",
        "\n",
        "**IMPORTANTE**\n",
        "- El código que incorpores *debe* poder ejecutarse en *este* Notebook en Visual Studio Code, en caso contrario el ejercicio ***será inválido***. Por favor,  verificá que el código se ejecute sin errores (aún en el caso en que la solución no sea del todo correcta).\n",
        "- Al clicar \"Ejecutar celda\" en las celdas donde están los test deberían devolverse los resultados correctos.\n",
        "- En estos ejercicios **no está permitido** importar ninguna biblioteca.\n",
        "- **No está permitido** consultar internet. Cualquier consulta, por ejemplo el nombre de una instrucción que se hayan olvidado, debe ser hecha a los profesores.\n",
        "- **No está permitido** utilizar el celular bajo ningún aspecto. Al alumno que utilce el celular le será retirado el examen.\n",
        "\n",
        "**IMPORTANTE 2**\n",
        "- Es conveniente escribír las pre y post condiciones.\n",
        "- Seguí las convenciones respecto de nombres de variables, funciones y constantes.\n",
        "- Evitar la utilización de funciones sofisticadas de Python. Toda función o método no visto en el curso no está permitido.\n",
        "\n",
        "El parcial se aprueba con el 50% resuelto correctamente y eso equivale a una nota de 4."
      ]
    },
    {
      "cell_type": "markdown",
      "metadata": {
        "id": "VfoKSMH33qil"
      },
      "source": [
        "**Ejercicio 1 (20%):  recursión sobre listas.**\n",
        "\n",
        "1. Escribir  la función recursiva `suma_multiplos()` que recibe como parámetros una lista de enteros positivos  y un número entero positivo `m` y  devuelve la suma de los elementos de la lista que son múltiplos de `m`.\n",
        "2. Escribir  la función recursiva `min_max()` que dada una lista no vacía  devuelve una $2$-úpla con el menor elemento de la lista y el mayor elemento de la lista.\n",
        "\n",
        "Los ejercicios deben ser resueltos con funciones recursivas, de lo contrario  no suman puntos."
      ]
    },
    {
      "cell_type": "code",
      "execution_count": 1,
      "metadata": {
        "id": "YbHJ9toa_cS0"
      },
      "outputs": [],
      "source": [
        "# definición de la funcion suma_multiplos\n",
        "def suma_multiplos(integers_list: list, m: int):\n",
        "    assert type(integers_list) == list, \"Error\"\n",
        "    assert type(m) == int and m >= 0, \"Error\"\n",
        "\n",
        "    if len(integers_list) == 0:\n",
        "        return 0\n",
        "    if integers_list[0] % m == 0:\n",
        "        return integers_list[0] + suma_multiplos(integers_list[1:], m)\n",
        "    return suma_multiplos(integers_list[1:], m)"
      ]
    },
    {
      "cell_type": "code",
      "execution_count": 2,
      "metadata": {
        "id": "2lW2oOLtwj6X",
        "outputId": "b9bfe8cd-7991-433e-a7e6-d9c420d80067"
      },
      "outputs": [
        {
          "name": "stdout",
          "output_type": "stream",
          "text": [
            "18\n",
            "30\n",
            "15\n",
            "1683\n",
            "816\n",
            "315\n"
          ]
        }
      ],
      "source": [
        "# Test de la función suma_multiplos\n",
        "lista = [1, 2, 3, 4, 5, 6, 7, 8, 9, 10]\n",
        "m = 3\n",
        "print(suma_multiplos(lista, m)) # 18\n",
        "m = 2\n",
        "print(suma_multiplos(lista, m)) # 30\n",
        "m = 5\n",
        "print(suma_multiplos(lista, m)) # 15\n",
        "lista = [i  for i in range(100) if i%3 == 0]\n",
        "m = 3\n",
        "print(suma_multiplos(lista, m)) # 1683\n",
        "m = 2\n",
        "print(suma_multiplos(lista, m)) # 816\n",
        "m = 5\n",
        "print(suma_multiplos(lista, m)) # 315"
      ]
    },
    {
      "cell_type": "code",
      "execution_count": 3,
      "metadata": {
        "id": "bwiptJNJ33JH"
      },
      "outputs": [],
      "source": [
        "def min_max(integers_list):\n",
        "    pass"
      ]
    },
    {
      "cell_type": "code",
      "execution_count": 4,
      "metadata": {
        "id": "jBYdCOMQwj6a",
        "outputId": "b232b98b-7b09-4553-abdb-06ccde236ad4"
      },
      "outputs": [
        {
          "name": "stdout",
          "output_type": "stream",
          "text": [
            "None\n",
            "None\n",
            "None\n",
            "None\n"
          ]
        }
      ],
      "source": [
        "# Test de la función min_max\n",
        "lista = [1, 2, 3, 4, 5, 6, 7, 8, 9, 10]\n",
        "print(min_max(lista)) # (1, 10)\n",
        "lista = [i  for i in range(100) if i%3 == 0]\n",
        "print(min_max(lista)) # (0, 99)\n",
        "lista = [-19, -5, -18, 13, -11, 20, 1, 7, -16, 8]\n",
        "print(min_max(lista)) # (-19, 20)\n",
        "lista = [-89, 1, 24, -83, -76, 38, 78, 49, -61, 26, 22, -43, -15, 75, -18]\n",
        "print(min_max(lista)) # (-89, 78)"
      ]
    },
    {
      "cell_type": "markdown",
      "metadata": {
        "id": "7s0ALpYx-BH-"
      },
      "source": [
        "**Ejercicio 2 (10%).**\n",
        "\n",
        "La clase definida parcialmente en la siguiente celda de código, la clase `Nat`,  representa los números naturales. La única operación permitida en esta clase es la suma.\n",
        "\n",
        "1. Implementar la suma en `Nat`.\n",
        "2. Implementar la igualdad en `Nat`.\n",
        "3. Hacer que el `print` de `Nat(n)` muestre en pantalla `Natural: n`.\n",
        "4. Incorporar `assert` para garantizar que se trabajan con  enteros no negativos.\n",
        "\n",
        "\n",
        "*Ayuda.*\n",
        "- `__add__`:  es el método que permite sobreescrbir  `+` (la suma de dos elementos),\n",
        "- `__eq__`:  es el método que permite sobreescrbir  `==`,\n",
        "- `__str__`: es el método que permite sobresscribir la conversión a cadenas.\n",
        "\n",
        "\n"
      ]
    },
    {
      "cell_type": "code",
      "execution_count": 5,
      "metadata": {
        "id": "70ovciSd75YT"
      },
      "outputs": [],
      "source": [
        "class Nat:\n",
        "    def __init__(self, n):\n",
        "        assert n > 0, \"Error: n es menor o igual a cero\"\n",
        "        self.__num = n\n",
        "\n",
        "    # definir suma\n",
        "    def __add__(self, integer):\n",
        "        assert isinstance(integer, Nat), \"Error\"\n",
        "        assert type(integer.__num) == int and integer.__num > 0, \"Error\"\n",
        "        return Nat(self.__num + integer.__num)\n",
        "\n",
        "    # definir igualdad\n",
        "    def __eq__(self, integer: int):\n",
        "        assert isinstance(integer, Nat), \"Error\"\n",
        "        assert type(integer.__num) == int and integer.__num > 0, \"Error\"\n",
        "        return self.__num == integer.__num\n",
        "\n",
        "    # definir conversión a cadenas\n",
        "    def __str__(self):\n",
        "        return f\"Natural: {self.__num}\""
      ]
    },
    {
      "cell_type": "code",
      "execution_count": 6,
      "metadata": {
        "id": "p1rSNHUZ87kU",
        "outputId": "6d6d4015-8744-4b47-ac03-14155ccb2f75"
      },
      "outputs": [
        {
          "name": "stdout",
          "output_type": "stream",
          "text": [
            "Natural: 5\n",
            "Natural: 8\n",
            "True\n",
            "False\n"
          ]
        }
      ],
      "source": [
        "# Tests\n",
        "n = Nat(5)\n",
        "print(n) # Natural: 5\n",
        "m = Nat(3)\n",
        "suma = n + m\n",
        "print(suma) # Natural: 8\n",
        "k = Nat(5)\n",
        "print(n == k) # True\n",
        "print(m == k) # False"
      ]
    },
    {
      "cell_type": "markdown",
      "metadata": {
        "id": "R9C0ngEw4e7O"
      },
      "source": [
        "**Ejercicio 3 (25%): clases.**\n",
        "\n",
        "\n",
        "Desarrollar la clase `Evaluacion` para representar los alumnos de una clase y sus respectivas evaluaciones de  una materia. Cada alumno está determinado por su DNI y  como dato adicional se agrega su  nombre y apellido.\n",
        "\n",
        "La clase `Evaluacion` debe tener los siguientes atributos y métodos:\n",
        "\n",
        "Atributos:\n",
        "\n",
        "* `dni`: el DNI del alumno evaluado.\n",
        "* `nombre`: nombre y apellido del alumno.\n",
        "* `materia`: la materia en que se lo evalúa al alumno.\n",
        "* `notas`: un lista de enteros que representa las notas.\n",
        "\n",
        "Los atributos deben ser privados.\n",
        "\n",
        "Métodos getter:\n",
        "\n",
        "* `dni()` :  devuelve el DNI  del alumno.\n",
        "* `nombre()`: devuelve el nombre y apellido del alumno.\n",
        "* `materia()`: devuelve el nombre de la materia.\n",
        "* `regular()`:  devuelve `True` si regularizó la materia, `False` en caso contrario. Más abajo se explica el criterio de regularización.\n",
        "* `promocionado()`:  devuelve `True` si promocionó la materia, `False` en caso contrario. Más abajo se explica el criterio de promoción.\n",
        "* `promedio()`:  devuelve el promedio de todas las notas (sin redondear)\n",
        "\n",
        "Además el `print()` debe mostrar por pantalla la información de la evaluación: nombre y apellido del alumno, DNI  del alumno, materia, notas obtenidas, si es regular o no,  si promocionó o no. En caso de haber promocionado la nota obtenida redondeada.\n",
        "\n",
        "Métodos setter:\n",
        "\n",
        "* `establecer_dni()`: se ingresa el número de DNI.\n",
        "* `establecer_nombre()`: se establece el nombre y apellido del alumno.\n",
        "* `establecer_materia()`: se establece la materia.     \n",
        "* `agregar_nota(nota)`: recibe un entero `nota` del 0 al 10 y  agrega ese entero a las notas.\n",
        "\n",
        "**Criterios para regularizar y promocionar**.\n",
        "\n",
        "* Para regularizar el alumno debe haber aprobado al menos $2/3$  de los exámenes rendidos. Un  examen se aprueba con $4$.\n",
        "* Para promocionar el alumno debe haber obtenido nota $6$ o superior en todos los exámenes y  debe tener promedio $\\ge 7$. La nota que obtiene en ese caso es el promedio redondeado ($7.1$ redondea a $7$, $7.5$ redondea a $8$).    \n",
        "\n"
      ]
    },
    {
      "cell_type": "code",
      "execution_count": 7,
      "metadata": {
        "id": "1_HI315e_4fT"
      },
      "outputs": [],
      "source": [
        "class Evaluacion:\n",
        "    def __init__(\n",
        "        self,\n",
        "        nombre: str = \"\",\n",
        "        dni: str = \"\",\n",
        "        materia: str = \"\"\n",
        "    ):\n",
        "        self.establecer_dni(dni)\n",
        "        self.establecer_nombre(nombre)\n",
        "        self.establecer_materia(materia)\n",
        "        self.__notas = list()\n",
        "\n",
        "    def dni(self) -> str:\n",
        "        return self.__dni\n",
        "\n",
        "    def nombre(self) -> str:\n",
        "        return self.__nombre\n",
        "\n",
        "    def materia(self) -> str:\n",
        "        return self.__materia\n",
        "\n",
        "    def establecer_dni(self, dni: str) -> None:\n",
        "        assert type(dni) == str, \"Error: dni debe ser un string\"\n",
        "        self.__dni = dni\n",
        "\n",
        "    def establecer_nombre(self, nombre: str) -> None:\n",
        "        assert type(nombre) == str, \"Error: nombre debe ser string\"\n",
        "        self.__nombre = nombre.strip()\n",
        "\n",
        "    def establecer_materia(self, materia: str) -> None:\n",
        "        assert type(materia) == str, \"Error: materia debe ser string\"\n",
        "        self.__materia = materia.strip()\n",
        "\n",
        "    def agregar_nota(self, nota: int) -> None:\n",
        "        assert type(nota) == int, \"Error: nota no es un entero ente [0, 10]\"\n",
        "        self.__notas.append(nota)\n",
        "\n",
        "    def promedio(self) -> float:\n",
        "        if len(self.__notas) == 0:\n",
        "            return 0\n",
        "\n",
        "        return self.__sum_notas() / len(self.__notas)\n",
        "\n",
        "    def regular(self) -> bool:\n",
        "        if len(self.__notas) == 0:\n",
        "            return False\n",
        "        counter = 0\n",
        "        for nota in self.__notas:\n",
        "            if nota >= 4:\n",
        "                counter += 1\n",
        "        if counter > (2 * len(self.__notas) / 3):\n",
        "            return True\n",
        "        return False\n",
        "\n",
        "    def promocionado(self) -> bool:\n",
        "        for nota in self.__notas:\n",
        "            if nota < 6:\n",
        "                return False\n",
        "        if self.promedio() >= 7:\n",
        "            return True\n",
        "        return False\n",
        "\n",
        "    def __str__(self) -> str:\n",
        "        to_return = f\"{self.nombre()} ({self.dni()})\\nMateria: {self.materia()}\\nNotas: \"\n",
        "        for nota in self.__notas:\n",
        "            to_return += f\"{nota} \"\n",
        "        to_return += f\"\\nRegular: {self.regular()}\\nPromocionado: {self.promocionado()}\"\n",
        "        if self.promocionado():\n",
        "            to_return +=  f\" con {round(self.promedio())}\"\n",
        "\n",
        "        return to_return + \"\\n\"\n",
        "\n",
        "    def __sum_notas(self, n: int = 0):\n",
        "        suma = 0\n",
        "        for nota in self.__notas:\n",
        "            if nota >= n:\n",
        "                suma += nota\n",
        "        return suma"
      ]
    },
    {
      "cell_type": "code",
      "execution_count": 8,
      "metadata": {
        "id": "ID4eTJML40Ka"
      },
      "outputs": [],
      "source": [
        "# Tests\n",
        "alumno1 = Evaluacion('Juan Pérez', '12345678', 'Álgebra I')\n",
        "alumno2 = Evaluacion('Ana López', '23456789', 'Álgebra I')\n",
        "alumno3 = Evaluacion()\n",
        "alumno3.establecer_nombre('Carlos Gómez')\n",
        "alumno3.establecer_dni('34567890')\n",
        "alumno3.establecer_materia('Álgebra II')\n",
        "alumno4 = Evaluacion('María Rodríguez', '45678901', 'Álgebra II')"
      ]
    },
    {
      "cell_type": "code",
      "execution_count": 9,
      "metadata": {
        "id": "_BGDMliPwj6c",
        "outputId": "7226c68b-ad8d-4cac-a4e6-86cfa53810ec"
      },
      "outputs": [
        {
          "name": "stdout",
          "output_type": "stream",
          "text": [
            "Juan Pérez (12345678)\n",
            "Materia: Álgebra I\n",
            "Notas: \n",
            "Regular: False\n",
            "Promocionado: False\n",
            "\n",
            "Ana López (23456789)\n",
            "Materia: Álgebra I\n",
            "Notas: \n",
            "Regular: False\n",
            "Promocionado: False\n",
            "\n",
            "Carlos Gómez (34567890)\n",
            "Materia: Álgebra II\n",
            "Notas: \n",
            "Regular: False\n",
            "Promocionado: False\n",
            "\n"
          ]
        },
        {
          "data": {
            "text/plain": [
              "'\\nImprime:\\nJuan Pérez (12345678)\\nMateria: Álgebra I\\nNotas:\\nRegular: False\\nPromocionado: False\\n\\nAna López (23456789)\\nMateria: Álgebra I\\nNotas:\\nRegular: False\\nPromocionado: False\\n\\nCarlos Gómez (34567890)\\nMateria: Álgebra II\\nNotas:\\nRegular: False\\nPromocionado: False\\n'"
            ]
          },
          "execution_count": 9,
          "metadata": {},
          "output_type": "execute_result"
        }
      ],
      "source": [
        "print(alumno1)\n",
        "print(alumno2)\n",
        "print(alumno3)\n",
        "\"\"\"\n",
        "Imprime:\n",
        "Juan Pérez (12345678)\n",
        "Materia: Álgebra I\n",
        "Notas:\n",
        "Regular: False\n",
        "Promocionado: False\n",
        "\n",
        "Ana López (23456789)\n",
        "Materia: Álgebra I\n",
        "Notas:\n",
        "Regular: False\n",
        "Promocionado: False\n",
        "\n",
        "Carlos Gómez (34567890)\n",
        "Materia: Álgebra II\n",
        "Notas:\n",
        "Regular: False\n",
        "Promocionado: False\n",
        "\"\"\""
      ]
    },
    {
      "cell_type": "code",
      "execution_count": 10,
      "metadata": {
        "id": "-T57Qlrpwj6c",
        "outputId": "d3f0b5a8-2ed4-4612-9a7e-8e283cd3ca09"
      },
      "outputs": [
        {
          "name": "stdout",
          "output_type": "stream",
          "text": [
            "Juan Pérez (12345678)\n",
            "Materia: Álgebra I\n",
            "Notas: 2 4 6 8 2 \n",
            "Regular: False\n",
            "Promocionado: False\n",
            "\n",
            "Ana López (23456789)\n",
            "Materia: Álgebra I\n",
            "Notas: 2 4 4 8 \n",
            "Regular: True\n",
            "Promocionado: False\n",
            "\n",
            "Carlos Gómez (34567890)\n",
            "Materia: Álgebra II\n",
            "Notas: 6 7 8 8 \n",
            "Regular: True\n",
            "Promocionado: True con 7\n",
            "\n",
            "María Rodríguez (45678901)\n",
            "Materia: Álgebra II\n",
            "Notas: 7 5 8 9 \n",
            "Regular: True\n",
            "Promocionado: False\n",
            "\n"
          ]
        },
        {
          "data": {
            "text/plain": [
              "'\\nImprime:\\nJuan Pérez (12345678)\\nMateria: Álgebra I\\nNotas: 2 4 6 8 2\\nRegular: False\\nPromocionado: False\\n\\nAna López (23456789)\\nMateria: Álgebra I\\nNotas: 2 4 4 8\\nRegular: True\\nPromocionado: False\\n\\nCarlos Gómez (34567890)\\nMateria: Álgebra II\\nNotas: 6 7 8 8\\nRegular: True\\nPromocionado: True con 7\\n\\nMaría Rodríguez (45678901)\\nMateria: Álgebra II\\nNotas: 7 5 8 9\\nRegular: True\\nPromocionado: False\\n'"
            ]
          },
          "execution_count": 10,
          "metadata": {},
          "output_type": "execute_result"
        }
      ],
      "source": [
        "alumno1.agregar_nota(2)\n",
        "alumno1.agregar_nota(4)\n",
        "alumno1.agregar_nota(6)\n",
        "alumno1.agregar_nota(8)\n",
        "alumno1.agregar_nota(2)\n",
        "print(alumno1)\n",
        "alumno2.agregar_nota(2)\n",
        "alumno2.agregar_nota(4)\n",
        "alumno2.agregar_nota(4)\n",
        "alumno2.agregar_nota(8)\n",
        "print(alumno2)\n",
        "alumno3.agregar_nota(6)\n",
        "alumno3.agregar_nota(7)\n",
        "alumno3.agregar_nota(8)\n",
        "alumno3.agregar_nota(8)\n",
        "print(alumno3)\n",
        "alumno4.agregar_nota(7)\n",
        "alumno4.agregar_nota(5)\n",
        "alumno4.agregar_nota(8)\n",
        "alumno4.agregar_nota(9)\n",
        "print(alumno4)\n",
        "\"\"\"\n",
        "Imprime:\n",
        "Juan Pérez (12345678)\n",
        "Materia: Álgebra I\n",
        "Notas: 2 4 6 8 2\n",
        "Regular: False\n",
        "Promocionado: False\n",
        "\n",
        "Ana López (23456789)\n",
        "Materia: Álgebra I\n",
        "Notas: 2 4 4 8\n",
        "Regular: True\n",
        "Promocionado: False\n",
        "\n",
        "Carlos Gómez (34567890)\n",
        "Materia: Álgebra II\n",
        "Notas: 6 7 8 8\n",
        "Regular: True\n",
        "Promocionado: True con 7\n",
        "\n",
        "María Rodríguez (45678901)\n",
        "Materia: Álgebra II\n",
        "Notas: 7 5 8 9\n",
        "Regular: True\n",
        "Promocionado: False\n",
        "\"\"\""
      ]
    },
    {
      "cell_type": "markdown",
      "metadata": {
        "id": "-HhhFCRZ5TSa"
      },
      "source": [
        "**Ejercicio 4 (25%): entrada y salida.**\n",
        "\n",
        "1. Crear un archivo `ejemplo.txt`.\n",
        "2. Escribir en `ejemplo.txt`  las siguientes tres líneas\n",
        "\n",
        "\n",
        "```\n",
        "    Línea 1.\n",
        "    La segunda línea.\n",
        "    Otra línea.\n",
        "    La cuarta línea\n",
        "```\n",
        "\n",
        "3. A  continuación abrir el archivo en modo lectura e imprimir las líneas pares (la primera línea es la línea 1).\n",
        "\n",
        "\n",
        "\n"
      ]
    },
    {
      "cell_type": "code",
      "execution_count": 11,
      "metadata": {
        "id": "3mzGj7wMxD8z",
        "outputId": "d5bb87c4-8912-4a0e-ada0-1d04e077e2a6"
      },
      "outputs": [
        {
          "name": "stdout",
          "output_type": "stream",
          "text": [
            "La segunda línea.\n",
            "\n",
            "La cuarta línea\n"
          ]
        }
      ],
      "source": [
        "try:\n",
        "    with open(\"ejemplo.txt\", \"w\") as f:\n",
        "        f.write(\"Línea 1.\\nLa segunda línea.\\nOtra línea.\\nLa cuarta línea\")\n",
        "\n",
        "    with open(\"ejemplo.txt\", \"r\") as f:\n",
        "        i = 1\n",
        "        line = f.readline()\n",
        "        while line:\n",
        "            if i % 2 == 0:\n",
        "                print(line)\n",
        "            line = f.readline()\n",
        "            i += 1\n",
        "except Exception as err:\n",
        "    print(f\"Algo salio mal. {err}\")"
      ]
    },
    {
      "cell_type": "markdown",
      "metadata": {
        "id": "xLSRoSYeWjLg"
      },
      "source": [
        "**Ejercicio 5 (20%): NumPy.**\n",
        "\n",
        "\n",
        "1. Crear un  arreglo en NumPy a partir de la lista `[1, 2, 3, 4, 5, 6, 7, 8, 9, 10] ` e imprimirlo.\n",
        "2. Usar una máscara booleana para identificar los elementos múltiplos de $3$  de una lista y mostrarlos. Probarlo para las listas\n",
        "\n"
      ]
    },
    {
      "cell_type": "code",
      "execution_count": 12,
      "metadata": {
        "id": "7FaBgY5UbjIe",
        "outputId": "c9da6941-384a-42b9-bdf7-2819b113fc09"
      },
      "outputs": [
        {
          "name": "stdout",
          "output_type": "stream",
          "text": [
            "[ 1  2  3  4  5  6  7  8  9 10]\n"
          ]
        }
      ],
      "source": [
        "import numpy as np\n",
        "\n",
        "array = np.arange(1, 11, 1)\n",
        "print(array)\n",
        "\n",
        "def array_mult_3(lista):\n",
        "    array = np.array(lista)\n",
        "    return array[array % 3 == 0]"
      ]
    },
    {
      "cell_type": "code",
      "execution_count": 13,
      "metadata": {
        "id": "DIwWzFBhfA4P",
        "outputId": "b4154915-fba3-473a-9dab-a1cbde72f89b"
      },
      "outputs": [
        {
          "name": "stdout",
          "output_type": "stream",
          "text": [
            "[3 6 9]\n",
            "[3 3]\n",
            "[9 6 9 6 3 3 9 6]\n"
          ]
        }
      ],
      "source": [
        "# Tests. Probar la solución de 2. para las siguientes listas\n",
        "lista1 = [1, 2, 3, 4, 5, 6, 7, 8, 9, 10] # imprime [3 6 9]\n",
        "lista2 = [7, 1, 3, 4, 1, 8, 4, 3, 5, 4] # imprime [3 3]\n",
        "lista3 = [9, 6, 9, 6, 7, 7, 7, 4, 3, 2, 3, 9, 6, 1, 7] # imprime [9 6 9 6 3 3 9 6]\n",
        "\n",
        "print(array_mult_3(lista1))\n",
        "print(array_mult_3(lista2))\n",
        "print(array_mult_3(lista3))"
      ]
    }
  ],
  "metadata": {
    "colab": {
      "provenance": []
    },
    "kernelspec": {
      "display_name": "Python 3",
      "name": "python3"
    },
    "language_info": {
      "codemirror_mode": {
        "name": "ipython",
        "version": 3
      },
      "file_extension": ".py",
      "mimetype": "text/x-python",
      "name": "python",
      "nbconvert_exporter": "python",
      "pygments_lexer": "ipython3",
      "version": "3.10.12"
    }
  },
  "nbformat": 4,
  "nbformat_minor": 0
}
