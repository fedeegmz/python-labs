{
  "cells": [
    {
      "cell_type": "markdown",
      "metadata": {
        "id": "s-Kal5lP3PI4"
      },
      "source": [
        "# Parcial 2\n",
        "\n",
        "**IMPORTANTE**\n",
        "- El código que incorpores *debe* poder ejecutarse en *este* Notebook en Visual Studio Code, en caso contrario el ejercicio ***será inválido***. Por favor,  verificá que el código se ejecute sin errores (aún en el caso en que la solución no sea del todo correcta).\n",
        "- Al clicar \"Ejecutar celda\" en las celdas donde están los test deberían devolverse los resultados correctos.\n",
        "- En estos ejercicios **no está permitido** importar ninguna biblioteca.\n",
        "- **No está permitido** consultar internet. Cualquier consulta, por ejemplo el nombre de una instrucción que se hayan olvidado, debe ser hecha a los profesores.\n",
        "\n",
        "**IMPORTANTE 2**\n",
        "- Es conveniente escribír las pre y post condiciones.\n",
        "- Seguí las convenciones respecto de nombres de variables, funciones y constantes.\n",
        "- Evitar la utilización de funciones sofisticadas de Python. Toda función o método no visto en el curso no está permitido.\n",
        "\n",
        "El parcial se aprueba con el 50% resuelto correctamente y eso equivale a una nota de 4."
      ]
    },
    {
      "cell_type": "markdown",
      "metadata": {
        "id": "VfoKSMH33qil"
      },
      "source": [
        "**Ejercicio 1. (15%)** Escribe una función iterativa llamada `es_palindromo()` que reciba una cadena de texto. La función debe verificar si la cadena es un palíndromo, es decir, si se lee igual de izquierda a derecha que de derecha a izquierda. Debe devolver un valor booleano. La función no debe diferenciar mayúsculas de minúsculas, ni acentos.\n",
        "\n",
        "La función *no* debe usar recursión.\n",
        "\n",
        "Por ejemplo,\n",
        "\n",
        "             es_palindromo(\"Neuquen\")\n",
        "\n",
        "devuelve: True"
      ]
    },
    {
      "cell_type": "code",
      "execution_count": 44,
      "metadata": {
        "colab": {
          "base_uri": "https://localhost:8080/"
        },
        "id": "bwiptJNJ33JH",
        "outputId": "6029c800-128b-43d1-9e73-63fdd320c90b"
      },
      "outputs": [
        {
          "name": "stdout",
          "output_type": "stream",
          "text": [
            "True\n",
            "True\n",
            "True\n",
            "False\n"
          ]
        }
      ],
      "source": [
        "def es_palindromo(string: str) -> bool:\n",
        "    \"\"\"\n",
        "    - Pre: string es un string\n",
        "    - Post: se retorna un bool, True se string es palindromo. No distingue entre mayusculas y minusculas\n",
        "    \"\"\"\n",
        "    string = string.lower()\n",
        "    return string == string[::-1]\n",
        "\n",
        "# Tests\n",
        "print(es_palindromo(\"Neuquen\")) # True.\n",
        "print(es_palindromo(\"Reconocer\")) # True\n",
        "print(es_palindromo(\"Somos\")) # True\n",
        "print(es_palindromo(\"palindromo\")) # False"
      ]
    },
    {
      "cell_type": "markdown",
      "metadata": {
        "id": "R9C0ngEw4e7O"
      },
      "source": [
        "**Ejercicio 2 (25%): iteración sobre listas.**\n",
        "\n",
        "a) (15%) Escribir la función `pivotear_00()` que recibe una lista de números enteros no  nulos y  devuelve una lista pivoteada por el 0,  es decir una lista donde al comienzo está los números negativos de la lista original y al final los números positivos.\n",
        "\n",
        "*Ejemplo.*\n",
        "\n",
        "    lista = [3, 2, -5, 6, -11, 7]\n",
        "    lista_n = pivotear_00(lista)\n",
        "    print(lista_n)\n",
        "\n",
        "Imprimirá `[-5, -11, 3, 2, 6, 7]` o algo parecido,  es decir los dos primeros elementos deben ser `-5` y `-11` sin importar el orden y los últimos elementos deben ser `3`, `2`, `6` y `7`, no necesarimente en ese orden.\n",
        "\n",
        "b) (10%) Escribir la función `pivotear_01()` que recibe una lista de números enteros no nulos,  recorre la lista y la va modificando de tal froma que los enteros negativos quedan al comienzo (no  importa el orden entre ellos)  y luego le siguen los enteros positivos (no  importa el orden entre ellos). Esta función no lleva `return` porque modifica la propia lista que recibe como parámetro. Agregar un assert que compruebe que el parámetro ingresado a la función sea una lista de enteros.\n",
        "\n",
        "*Ejemplo.*\n",
        "\n",
        "    lista = [3, 2, -5, 6, -11, 7]\n",
        "    pivotear_0(lista)\n",
        "    print(lista)\n",
        "\n",
        "El resultado del `print(lista)` debe ser `[-5, -11, 3, 2, 6, 7]` o algo parecido.\n",
        "\n"
      ]
    },
    {
      "cell_type": "code",
      "execution_count": 45,
      "metadata": {
        "colab": {
          "base_uri": "https://localhost:8080/"
        },
        "id": "ID4eTJML40Ka",
        "outputId": "d750b320-1ebe-4c37-ca7c-295957178ee8"
      },
      "outputs": [
        {
          "name": "stdout",
          "output_type": "stream",
          "text": [
            "[-5, -11, 3, 2, 6, 7]\n",
            "[-11, 0, 3, 2, 5, 6]\n",
            "[-3, -2, -5, -6, -1, -7]\n",
            "[6, 3, 2, 5, 1, 7]\n",
            "[-8, -1, -9, 0, 0, 0, 7, 8, 7, 6, 9, 4, 2, 6, 6]\n",
            "[-5, -8, -3, -5, -6, -5, 0, 10, 4, 7, 6, 4, 6, 8, 9]\n"
          ]
        }
      ],
      "source": [
        "def pivotear_00(enteros: list) -> list:\n",
        "    \"\"\"\n",
        "    - Pre: enteros es una lista con numeros enteros\n",
        "    - Post: se retorna una lista de enteros pivoteada por el cero\n",
        "    \"\"\"\n",
        "    assert type(enteros) == list, \"ERROR: enteros no es una lista\"\n",
        "    negativos = []\n",
        "    ceros = []\n",
        "    positivos = []\n",
        "    for num in enteros:\n",
        "        assert type(num) == int, \"ERROR: la lista no contiene todos numeros enteros\"\n",
        "        if num < 0:\n",
        "            negativos.append(num)\n",
        "        elif num > 0:\n",
        "            positivos.append(num)\n",
        "        else:\n",
        "            ceros.append(num)\n",
        "    return negativos + ceros + positivos\n",
        "\n",
        "# Tests\n",
        "lista = [3, 2, -5, 6, -11, 7]\n",
        "lista = pivotear_00(lista)\n",
        "print(lista) # imprime [-5, -11, 3, 6, 2, 7] (o algo parecido)\n",
        "\n",
        "lista = [3, 2, 5, 6, -11, 0]\n",
        "lista = pivotear_00(lista)\n",
        "print(lista) # imprime [-11, 2, 5, 6, 3, 0]\n",
        "\n",
        "lista = [-3, -2, -5, -6, -1, -7]\n",
        "lista = pivotear_00(lista)\n",
        "print(lista) # imprime [-3, -2, -5, -6, -1, -7]\n",
        "\n",
        "lista = [6, 3, 2, 5, 1, 7]\n",
        "lista = pivotear_00(lista)\n",
        "print(lista) # imprime [6, 3, 2, 5, 1, 7]\n",
        "\n",
        "lista = [7, 0, 8, 7, 6, -8, 9, -1, 4, 2, -9, 0, 0, 6, 6]\n",
        "lista = pivotear_00(lista)\n",
        "print(lista) # imprime [-8, -1, -9, 7, 6, 7, 9, 0, 4, 2, 8, 0, 0, 6, 6]\n",
        "\n",
        "lista = [10, -5, 4, -8, 7, -3, 6, -5, 4, -6, 6, -5, 8, 0, 9]\n",
        "lista = pivotear_00(lista)\n",
        "print(lista) # imprime [-5, -8, -3, -5, -6, -5, 6, 10, 4, 7, 6, 4, 8, 0, 9]"
      ]
    },
    {
      "cell_type": "code",
      "execution_count": 46,
      "metadata": {
        "colab": {
          "base_uri": "https://localhost:8080/"
        },
        "id": "l9erLuFZ5FRN",
        "outputId": "04079cbc-8b82-4a6e-a7bb-4a8526b236c9"
      },
      "outputs": [
        {
          "name": "stdout",
          "output_type": "stream",
          "text": [
            "[-11, -5, 2, 3, 6, 7]\n",
            "[-11, 0, 2, 3, 5, 6]\n",
            "[-7, -6, -5, -3, -2, -1]\n",
            "[1, 2, 3, 5, 6, 7]\n",
            "[-9, -8, -1, 0, 0, 0, 2, 4, 6, 6, 6, 7, 7, 8, 9]\n",
            "[-8, -6, -5, -5, -5, -3, 0, 4, 4, 6, 6, 7, 8, 9, 10]\n"
          ]
        }
      ],
      "source": [
        "def pivotear_01(enteros: list) -> list:\n",
        "    \"\"\"\n",
        "    - Pre: enteros es una lista con numeros enteros\n",
        "    - Post: la lista se ordena en orden ascendente\n",
        "    \"\"\"\n",
        "    assert type(enteros) == list, \"ERROR: enteros no es una lista\"\n",
        "    for num in enteros:\n",
        "        assert type(num) == int, \"ERROR: la lista no contiene todos numeros enteros\"\n",
        "\n",
        "    for _ in range(len(enteros)):\n",
        "        i = 0\n",
        "        k = 1\n",
        "        while k < len(enteros):\n",
        "            if enteros[i] > enteros[k]:\n",
        "                temp = enteros[i]\n",
        "                enteros[i] = enteros[k]\n",
        "                enteros[k] = temp\n",
        "            i += 1\n",
        "            k += 1\n",
        "\n",
        "# Tests\n",
        "lista = [3, 2, -5, 6, -11, 7]\n",
        "pivotear_01(lista)\n",
        "print(lista) # imprime [-5, -11, 3, 6, 2, 7] (o algo parecido)\n",
        "\n",
        "lista = [3, 2, 5, 6, -11, 0]\n",
        "pivotear_01(lista)\n",
        "print(lista) # imprime [-11, 2, 5, 6, 3, 0]\n",
        "\n",
        "lista = [-3, -2, -5, -6, -1, -7]\n",
        "pivotear_01(lista)\n",
        "print(lista) # imprime [-3, -2, -5, -6, -1, -7]\n",
        "\n",
        "lista = [6, 3, 2, 5, 1, 7]\n",
        "pivotear_01(lista)\n",
        "print(lista) # imprime [6, 3, 2, 5, 1, 7]\n",
        "\n",
        "lista = [7, 0, 8, 7, 6, -8, 9, -1, 4, 2, -9, 0, 0, 6, 6]\n",
        "pivotear_01(lista)\n",
        "print(lista) # imprime [-8, -1, -9, 7, 6, 7, 9, 0, 4, 2, 8, 0, 0, 6, 6]\n",
        "\n",
        "lista = [10, -5, 4, -8, 7, -3, 6, -5, 4, -6, 6, -5, 8, 0, 9]\n",
        "pivotear_01(lista)\n",
        "print(lista) # imprime [-5, -8, -3, -5, -6, -5, 6, 10, 4, 7, 6, 4, 8, 0, 9]"
      ]
    },
    {
      "cell_type": "markdown",
      "metadata": {
        "id": "-HhhFCRZ5TSa"
      },
      "source": [
        "**Ejercicio 3 (20%): recursión e iteración.**\n",
        "Dada la función definida recursivamente\n",
        "$$\n",
        "g(n) = \\left\\{\n",
        "    \\begin{matrix}\n",
        "    1  & & \\text{si $n=1$,} \\\\\n",
        "    4\\cdot n\\cdot g(n-1)^2 + 3\\cdot n +1 && \\text{si $n\\ge 2$.}\n",
        "    \\end{matrix}\n",
        "    \\right.\n",
        "$$\n",
        "1. (10%) Implemente recursivamente la función `g_r()` tal que `g_r(n)` devuelve el valor de $g(n)$. Escriba precondiciones y postcondiciones y un `assert` que verifique que el parámetro se encuentra en el dominio adecuado.\n",
        "2. (5%) Implemente iterativamente  la función `g_i()` tal que `g_i(n)` devuelve el valor de $g(n)$.\n",
        "3. (5%) Imprima los primeros 5 valores de cada función (que deberían ser iguales) de tal forma que en cada rengón se imprime `i`, `g_r(n)`, `g_i(n)`.\n",
        "\n",
        "\n",
        "\n",
        "\n"
      ]
    },
    {
      "cell_type": "code",
      "execution_count": 1,
      "metadata": {
        "id": "3mzGj7wMxD8z"
      },
      "outputs": [],
      "source": [
        "# Implementar g_r()\n",
        "def g_r(n: int) -> int:\n",
        "    \"\"\"\n",
        "    - Pre: n es un entero mayor o igual a 1\n",
        "    - Post: se retorna un entero\n",
        "    \"\"\"\n",
        "    assert type(n) == int and n >= 1, \"ERROR: n no es un entero mayor o igual a 1\"\n",
        "\n",
        "    if n == 1:\n",
        "        return 1\n",
        "    return (4 * n * (g_r(n - 1) ** 2)) + ((3 * n) + 1)"
      ]
    },
    {
      "cell_type": "code",
      "execution_count": 36,
      "metadata": {
        "id": "2MtnD08VxJq2"
      },
      "outputs": [],
      "source": [
        "# Implementar g_i()\n",
        "def g_i(n: int) -> int:\n",
        "    \"\"\"\n",
        "    - Pre: n es un entero mayor o igual a 1\n",
        "    - Post: se retorna un entero\n",
        "    \"\"\"\n",
        "    assert type(n) == int and n >= 1, \"ERROR: n no es un entero mayor o igual a 1\"\n",
        "\n",
        "    x, y = 1, 4 * 2 * (1**2) + (3 * 2) + 1\n",
        "    if n == 1:\n",
        "        return x\n",
        "    elif n == 2:\n",
        "        return y\n",
        "    for i in range(3, n + 1):\n",
        "        x = y\n",
        "        y = 4 * i * (x**2) + (3 * i) + 1\n",
        "    return y"
      ]
    },
    {
      "cell_type": "code",
      "execution_count": 37,
      "metadata": {
        "colab": {
          "base_uri": "https://localhost:8080/"
        },
        "id": "2B34kV3VhgOV",
        "outputId": "116c1b5b-51d4-4518-e635-e24dd3a51221"
      },
      "outputs": [
        {
          "name": "stdout",
          "output_type": "stream",
          "text": [
            "1, 1, 1\n",
            "2, 15, 15\n",
            "3, 2710, 2710\n",
            "4, 117505613, 117505613\n",
            "5, 276151381730115396, 276151381730115396\n"
          ]
        }
      ],
      "source": [
        "# 3\n",
        "for i in range(1, 6):\n",
        "    print(f\"{i}, {g_r(i)}, {g_i(i)}\")"
      ]
    },
    {
      "cell_type": "code",
      "execution_count": 38,
      "metadata": {
        "colab": {
          "base_uri": "https://localhost:8080/"
        },
        "id": "gx0ZvCUw51YD",
        "outputId": "8b1eb20f-daff-42d4-ae41-574ba073cfec"
      },
      "outputs": [
        {
          "name": "stdout",
          "output_type": "stream",
          "text": [
            "15\n",
            "2710\n",
            "117505613\n",
            "276151381730115396\n",
            "325551786138241992364844067629556446133701723956363445373269793627201324990267533346678162279622100634766356268204049927389919608900167637744782306155369753679228045599527802522783963422514340959738009176155218985965652598463061061625572769497278569593595504949995715745801048891398717896725818838431488786071031602934582859929971062899904342371348119422236118989912528050170167757487891490675394974248528934942832754442996136620832570769755798086482909297266282249268678701598926262525418916331945326861350917964470254046066962907386903104458269338667356330461180516548854796135813690823125377807810591\n"
          ]
        }
      ],
      "source": [
        "# Tests\n",
        "print(g_r(2)) # 15\n",
        "print(g_r(3)) # 2710\n",
        "print(g_r(4)) # 117505613\n",
        "print(g_r(5)) # 276151381730115396\n",
        "print(g_r(10)) # 325551786138241992364844067629556446133701723956363445373269793627201324990267533346678162279622100634766356268204049927389919608900167637744782306155369753679228045599527802522783963422514340959738009176155218985965652598463061061625572769497278569593595504949995715745801048891398717896725818838431488786071031602934582859929971062899904342371348119422236118989912528050170167757487891490675394974248528934942832754442996136620832570769755798086482909297266282249268678701598926262525418916331945326861350917964470254046066962907386903104458269338667356330461180516548854796135813690823125377807810591\n",
        "\n"
      ]
    },
    {
      "cell_type": "code",
      "execution_count": 39,
      "metadata": {
        "colab": {
          "base_uri": "https://localhost:8080/"
        },
        "id": "CSNdjt33w1dq",
        "outputId": "fc49bb93-9fd3-4b5d-a36f-22baaccc53a8"
      },
      "outputs": [
        {
          "name": "stdout",
          "output_type": "stream",
          "text": [
            "15\n",
            "2710\n",
            "117505613\n",
            "276151381730115396\n",
            "325551786138241992364844067629556446133701723956363445373269793627201324990267533346678162279622100634766356268204049927389919608900167637744782306155369753679228045599527802522783963422514340959738009176155218985965652598463061061625572769497278569593595504949995715745801048891398717896725818838431488786071031602934582859929971062899904342371348119422236118989912528050170167757487891490675394974248528934942832754442996136620832570769755798086482909297266282249268678701598926262525418916331945326861350917964470254046066962907386903104458269338667356330461180516548854796135813690823125377807810591\n"
          ]
        }
      ],
      "source": [
        "# Tests\n",
        "print(g_i(2)) # 15\n",
        "print(g_i(3)) # 2710\n",
        "print(g_i(4)) # 117505613\n",
        "print(g_i(5)) # 276151381730115396\n",
        "print(g_i(10)) # 325551786138241992364844067629556446133701723956363445373269793627201324990267533346678162279622100634766356268204049927389919608900167637744782306155369753679228045599527802522783963422514340959738009176155218985965652598463061061625572769497278569593595504949995715745801048891398717896725818838431488786071031602934582859929971062899904342371348119422236118989912528050170167757487891490675394974248528934942832754442996136620832570769755798086482909297266282249268678701598926262525418916331945326861350917964470254046066962907386903104458269338667356330461180516548854796135813690823125377807810591"
      ]
    },
    {
      "cell_type": "markdown",
      "metadata": {
        "id": "xLSRoSYeWjLg"
      },
      "source": [
        "**Ejercicio 4 (20%): definiciones por comprensión**\n",
        "\n",
        "a) (10%) Definir la función\n",
        "\n",
        "        cuadrados_pares(numeros: list) -> list:\n",
        "que dàda una lista de números devuelva una nueva lista que contenga los cuadrados de los números pares en la lista original. El cuerpo de la función debe tener un solo renglón y debe estar implementado con una lista por comprensión.\n",
        "\n",
        "b) (10%) Definir la función\n",
        "\n",
        "        negativos_pares(numeros: list) -> set:\n",
        "\n",
        "que dada una lista de enteros devuelve el conjunto de los números negativos pares de la lista. El cuerpo de la función debe tener un solo renglón y debe estar implementado con un conjunto por comprensión.\n"
      ]
    },
    {
      "cell_type": "code",
      "execution_count": 40,
      "metadata": {
        "id": "7FaBgY5UbjIe"
      },
      "outputs": [],
      "source": [
        "# Ejercicio 4.1\n",
        "def cuadrados_pares(numeros: list) -> list:\n",
        "    \"\"\"\n",
        "    - Pre: numeros es una lista con numeros\n",
        "    - Post: se retorna una lista con numeros\n",
        "    \"\"\"\n",
        "    return [x**2 for x in numeros if x % 2 == 0]"
      ]
    },
    {
      "cell_type": "code",
      "execution_count": 41,
      "metadata": {
        "colab": {
          "base_uri": "https://localhost:8080/"
        },
        "id": "tT9XhNUgPT4X",
        "outputId": "db463c9c-741c-4eac-8a66-0af6110e8f8b"
      },
      "outputs": [
        {
          "name": "stdout",
          "output_type": "stream",
          "text": [
            "[0, 0, 0]\n",
            "[4]\n",
            "[64, 36, 0, 16, 4, 64, 0, 0, 36, 36]\n",
            "[]\n"
          ]
        }
      ],
      "source": [
        "# Tests ejercicio 4.1\n",
        "print(cuadrados_pares([3, 3, 0, 0, 0, 1, 1, 3, 1, 3])) # debe imprimir [0, 0, 0]\n",
        "print(cuadrados_pares([2, -1, -3])) # debe imprimir [4]\n",
        "print(cuadrados_pares([-8, -1, -9, 7, 6, 7, 9, 0, 4, 2, 8, 0, 0, 6, 6])) # debe imprimir [64, 36, 0, 16, 4, 64, 0, 0, 36, 36]\n",
        "print(cuadrados_pares([-1, -3])) # debe imprimir []"
      ]
    },
    {
      "cell_type": "code",
      "execution_count": 42,
      "metadata": {
        "id": "7qEYgfmdbneG"
      },
      "outputs": [],
      "source": [
        "# Ejercicio 4.2\n",
        "def negativos_pares(numeros: list) -> set:\n",
        "    \"\"\"\n",
        "    - Pre: numeros es una lista con numeros\n",
        "    - Post: se retorna un set con numeros\n",
        "    \"\"\"\n",
        "    return {x for x in numeros if x < 0 and x % 2 == 0}"
      ]
    },
    {
      "cell_type": "code",
      "execution_count": 43,
      "metadata": {
        "colab": {
          "base_uri": "https://localhost:8080/"
        },
        "id": "DIwWzFBhfA4P",
        "outputId": "bf90b959-ffa6-4570-f42b-fa0016549883"
      },
      "outputs": [
        {
          "name": "stdout",
          "output_type": "stream",
          "text": [
            "set()\n",
            "{-2}\n",
            "set()\n",
            "{-8, -6, -4, -2}\n"
          ]
        }
      ],
      "source": [
        "# Tests ejercicio 4.2\n",
        "print(negativos_pares([3, 3, 0, 0, 0, 1, 1, 3, 1, 3])) # debe imprimir set()\n",
        "print(negativos_pares([2, -2, -3])) # debe imprimir  {-2}\n",
        "print(negativos_pares([2, -1, -3])) # debe imprimir  set()\n",
        "print(negativos_pares([-8, -1, -9, 7, 6, 7, 9, 0, -4, -2, -8, 0, 0, -6, 6])) # debe imprimir {-8, -6, -4, -2} (quizás no en ese orden)"
      ]
    },
    {
      "cell_type": "markdown",
      "metadata": {
        "id": "k6I5ThO-Rx6s"
      },
      "source": [
        "**Ejercicio 5 (20%): recursión múltiple e iteración**\n",
        "\n",
        "Dada la función\n",
        "$$\n",
        "f(n) = \\left\\{\n",
        "    \\begin{matrix}\n",
        "    2 & & \\text{si $n=0$,} \\\\\n",
        "    0 &&  \\text{si $n=1$,} \\\\\n",
        "     2\\cdot n\\cdot f(n-2) - 3 \\cdot f(n-1) + 5\\cdot n  && \\text{si $n\\ge 2$.}\n",
        "    \\end{matrix}\n",
        "    \\right.\n",
        "$$\n",
        "\n",
        "a) (10%) Definir `f_r()` en Python por recursión de tal forma que `f_r(n)` devuelva el valor de $f(n)$.\n",
        "\n",
        "b) (5%) Definir `f_i()` en Python de forma iterativa (sin usar recursión) de tal forma que `f_i(n)` devuelva el valor de $f(n)$.\n",
        "\n",
        "c) (5%)Calcular cuantos dígitos tiene $f(1000)$."
      ]
    },
    {
      "cell_type": "code",
      "execution_count": 47,
      "metadata": {
        "id": "WVFqBaOEz8YE"
      },
      "outputs": [],
      "source": [
        "# Definir f_r()\n",
        "def f_r(n: int) -> int:\n",
        "    \"\"\"\n",
        "    - Pre: n es un entero mayor o igual a 0\n",
        "    - Post: se retorna un entero\n",
        "    \"\"\"\n",
        "    assert type(n) == int and n >= 0, \"ERROR: n no es un entero mayor o igual a cero\"\n",
        "\n",
        "    if n == 0:\n",
        "        return 2\n",
        "    elif n == 1:\n",
        "        return 0\n",
        "    return 2 * n * f_r(n - 2) - 3 * f_r(n - 1) + 5 * n"
      ]
    },
    {
      "cell_type": "code",
      "execution_count": 70,
      "metadata": {
        "id": "4-IpQ74fz_YR"
      },
      "outputs": [],
      "source": [
        "# Definir f_i()\n",
        "def f_i(n: int) -> int:\n",
        "    \"\"\"\n",
        "    - Pre: n es un entero mayor o igual a 0\n",
        "    - Post: se retorna un entero\n",
        "    \"\"\"\n",
        "    assert type(n) == int and n >= 0, \"ERROR: n no es un entero mayor o igual a cero\"\n",
        "\n",
        "    x1, x2 = 2, 0\n",
        "    if n == 0:\n",
        "        return x1\n",
        "    elif n == 1:\n",
        "        return x2\n",
        "    \n",
        "    for i in range(2, n + 1):\n",
        "        z = (2 * i * x1) - (3 * x2) + (5 * i)\n",
        "        x1 = x2\n",
        "        x2 = z\n",
        "    return z"
      ]
    },
    {
      "cell_type": "code",
      "execution_count": 71,
      "metadata": {
        "colab": {
          "base_uri": "https://localhost:8080/"
        },
        "id": "zyd4piy30DWx",
        "outputId": "68ba0a7d-a7b1-4dac-daff-04efa33491e5"
      },
      "outputs": [
        {
          "name": "stdout",
          "output_type": "stream",
          "text": [
            "f(1000) tiene 1463 digitos\n"
          ]
        }
      ],
      "source": [
        "# Calculo de la cantidad de dígitos de f(1000)\n",
        "print(f\"f(1000) tiene {len(str(abs(f_i(1000))))} digitos\")"
      ]
    },
    {
      "cell_type": "code",
      "execution_count": 72,
      "metadata": {
        "colab": {
          "base_uri": "https://localhost:8080/"
        },
        "id": "YJ12cLvFy_B8",
        "outputId": "e2208977-7fff-4398-ae9e-7ffb43cbf646"
      },
      "outputs": [
        {
          "name": "stdout",
          "output_type": "stream",
          "text": [
            "0 2\n",
            "1 0\n",
            "2 18\n",
            "3 -39\n",
            "4 281\n",
            "5 -1208\n",
            "6 7026\n",
            "7 -37955\n",
            "8 226321\n",
            "9 -1362108\n"
          ]
        }
      ],
      "source": [
        "# Tests f_r()\n",
        "print(0, f_r(0)) # devuelve 0 2\n",
        "print(1, f_r(1)) # devuelve 1 0\n",
        "print(2, f_r(2)) # devuelve 2 18\n",
        "print(3, f_r(3)) # devuelve 3 -39\n",
        "print(4, f_r(4)) # devuelve 4 281\n",
        "print(5, f_r(5)) # devuelve 5 -1208\n",
        "print(6, f_r(6)) # devuelve 6 7026\n",
        "print(7, f_r(7)) # devuelve 7 -37955\n",
        "print(8, f_r(8)) # devuelve 8 226321\n",
        "print(9, f_r(9)) # devuelve 9 -1362108"
      ]
    },
    {
      "cell_type": "code",
      "execution_count": 73,
      "metadata": {
        "colab": {
          "base_uri": "https://localhost:8080/"
        },
        "id": "3lvJPghezsIj",
        "outputId": "62f95ce7-4052-4bc1-bc5a-b6eba2cde8fc"
      },
      "outputs": [
        {
          "name": "stdout",
          "output_type": "stream",
          "text": [
            "0 2\n",
            "1 0\n",
            "2 18\n",
            "3 -39\n",
            "4 281\n",
            "5 -1208\n",
            "6 7026\n",
            "7 -37955\n",
            "8 226321\n",
            "9 -1362108\n"
          ]
        }
      ],
      "source": [
        "# Tests f_i()\n",
        "print(0, f_i(0)) # devuelve 0 2\n",
        "print(1, f_i(1)) # devuelve 1 0\n",
        "print(2, f_i(2)) # devuelve 2 18\n",
        "print(3, f_i(3)) # devuelve 3 -39\n",
        "print(4, f_i(4)) # devuelve 4 281\n",
        "print(5, f_i(5)) # devuelve 5 -1208\n",
        "print(6, f_i(6)) # devuelve 6 7026\n",
        "print(7, f_i(7)) # devuelve 7 -37955\n",
        "print(8, f_i(8)) # devuelve 8 226321\n",
        "print(9, f_i(9)) # devuelve 9 -1362108"
      ]
    }
  ],
  "metadata": {
    "colab": {
      "provenance": []
    },
    "kernelspec": {
      "display_name": "Python 3",
      "name": "python3"
    },
    "language_info": {
      "codemirror_mode": {
        "name": "ipython",
        "version": 3
      },
      "file_extension": ".py",
      "mimetype": "text/x-python",
      "name": "python",
      "nbconvert_exporter": "python",
      "pygments_lexer": "ipython3",
      "version": "3.10.12"
    }
  },
  "nbformat": 4,
  "nbformat_minor": 0
}
